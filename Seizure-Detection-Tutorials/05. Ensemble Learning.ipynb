{
  "nbformat": 4,
  "nbformat_minor": 0,
  "metadata": {
    "colab": {
      "name": "05. Ensemble Learning.ipynb",
      "provenance": [],
      "collapsed_sections": [],
      "toc_visible": true,
      "include_colab_link": true
    },
    "kernelspec": {
      "name": "python3",
      "display_name": "Python 3"
    }
  },
  "cells": [
    {
      "cell_type": "markdown",
      "metadata": {
        "id": "view-in-github",
        "colab_type": "text"
      },
      "source": [
        "<a href=\"https://colab.research.google.com/github/Eldave93/Seizure-Detection-Tutorials/blob/master/05.%20Ensemble%20Learning.ipynb\" target=\"_parent\"><img src=\"https://colab.research.google.com/assets/colab-badge.svg\" alt=\"Open In Colab\"/></a>"
      ]
    },
    {
      "cell_type": "markdown",
      "metadata": {
        "id": "Ec1FIPYtlPu3",
        "colab_type": "text"
      },
      "source": [
        "# Classification Tutorial #04\n",
        "\n",
        "# Ensemble Learning\n",
        "\n",
        "by [David Luke Elliott](https://www.lancaster.ac.uk/psychology/about-us/people/david-elliott)\n",
        "/ [GitHub](https://github.com/Eldave93) \n",
        "\n",
        "Ensemble methods aim to improve generalizability of an algorithm by combining the predictions of several estimators<sup>1,2</sup>. To acheive this there are two general methods, averaging and boosting. \n",
        "\n",
        "**Notes**\n",
        "- watch [this video] for more information on some methods\n",
        "\n",
        "---\n",
        "1. Raschka, Sebastian, and Vahid Mirjalili. Python Machine Learning, 2nd Ed. Packt Publishing, 2017.\n",
        "2. https://scikit-learn.org/stable/modules/ensemble.html\n",
        "[this video]: https://youtu.be/wPqtzj5VZus"
      ]
    },
    {
      "cell_type": "markdown",
      "metadata": {
        "id": "KpsXUoTn9AXp",
        "colab_type": "text"
      },
      "source": [
        "# Environment Set-up\n",
        "\n",
        "First lets install the packages we need"
      ]
    },
    {
      "cell_type": "code",
      "metadata": {
        "id": "x32YWiDF9DR0",
        "colab_type": "code",
        "outputId": "f04bfe5f-b5d8-4b4a-f435-78b6eba30483",
        "colab": {
          "base_uri": "https://localhost:8080/",
          "height": 341
        }
      },
      "source": [
        "!pip install h5py tables kaggle mne\n",
        "!pip install --upgrade imbalanced-learn"
      ],
      "execution_count": 0,
      "outputs": [
        {
          "output_type": "stream",
          "text": [
            "Requirement already satisfied: h5py in /usr/local/lib/python3.6/dist-packages (2.8.0)\n",
            "Requirement already satisfied: tables in /usr/local/lib/python3.6/dist-packages (3.4.4)\n",
            "Requirement already satisfied: kaggle in /usr/local/lib/python3.6/dist-packages (1.5.6)\n",
            "Requirement already satisfied: mne in /usr/local/lib/python3.6/dist-packages (0.19.2)\n",
            "Requirement already satisfied: numpy>=1.7 in /usr/local/lib/python3.6/dist-packages (from h5py) (1.17.5)\n",
            "Requirement already satisfied: six in /usr/local/lib/python3.6/dist-packages (from h5py) (1.12.0)\n",
            "Requirement already satisfied: numexpr>=2.5.2 in /usr/local/lib/python3.6/dist-packages (from tables) (2.7.1)\n",
            "Requirement already satisfied: urllib3<1.25,>=1.21.1 in /usr/local/lib/python3.6/dist-packages (from kaggle) (1.24.3)\n",
            "Requirement already satisfied: certifi in /usr/local/lib/python3.6/dist-packages (from kaggle) (2019.11.28)\n",
            "Requirement already satisfied: python-slugify in /usr/local/lib/python3.6/dist-packages (from kaggle) (4.0.0)\n",
            "Requirement already satisfied: python-dateutil in /usr/local/lib/python3.6/dist-packages (from kaggle) (2.6.1)\n",
            "Requirement already satisfied: requests in /usr/local/lib/python3.6/dist-packages (from kaggle) (2.21.0)\n",
            "Requirement already satisfied: tqdm in /usr/local/lib/python3.6/dist-packages (from kaggle) (4.28.1)\n",
            "Requirement already satisfied: scipy>=0.17.1 in /usr/local/lib/python3.6/dist-packages (from mne) (1.4.1)\n",
            "Requirement already satisfied: text-unidecode>=1.3 in /usr/local/lib/python3.6/dist-packages (from python-slugify->kaggle) (1.3)\n",
            "Requirement already satisfied: idna<2.9,>=2.5 in /usr/local/lib/python3.6/dist-packages (from requests->kaggle) (2.8)\n",
            "Requirement already satisfied: chardet<3.1.0,>=3.0.2 in /usr/local/lib/python3.6/dist-packages (from requests->kaggle) (3.0.4)\n"
          ],
          "name": "stdout"
        }
      ]
    },
    {
      "cell_type": "code",
      "metadata": {
        "id": "FJZrWSLo9SJy",
        "colab_type": "code",
        "colab": {}
      },
      "source": [
        "import os                         # for file locations\n",
        "import matplotlib.pyplot as plt   # for plotting\n",
        "import numpy as np                # arrays\n",
        "import pickle                     # saving python objects\n",
        "import pandas as pd               # dataframes\n",
        "import tables\n",
        "\n",
        "# colours for printing outputs\n",
        "class color:\n",
        "   PURPLE = '\\033[95m'\n",
        "   CYAN = '\\033[96m'\n",
        "   DARKCYAN = '\\033[36m'\n",
        "   BLUE = '\\033[94m'\n",
        "   GREEN = '\\033[92m'\n",
        "   YELLOW = '\\033[93m'\n",
        "   RED = '\\033[91m'\n",
        "   BOLD = '\\033[1m'\n",
        "   UNDERLINE = '\\033[4m'\n",
        "   END = '\\033[0m'"
      ],
      "execution_count": 0,
      "outputs": []
    },
    {
      "cell_type": "markdown",
      "metadata": {
        "id": "WuqA7o17_wcY",
        "colab_type": "text"
      },
      "source": [
        "We are going to start using a different dataset from the Epileptologie one we have been using so far. This is because Epileptologie only has 1 channel, is quite small, and we already were getting good results with it without the need for ensemble learning. \n",
        "\n",
        "We are going to use the data which was origionally a kaggle competition in 2014<sup>1</sup> (see the first notebook for more information).\n",
        "\n",
        "---\n",
        "1. https://www.kaggle.com/c/seizure-detection"
      ]
    },
    {
      "cell_type": "code",
      "metadata": {
        "id": "4_r9IMrB_viA",
        "colab_type": "code",
        "outputId": "52bec4f2-91c0-4827-9f28-d323345a54dc",
        "colab": {
          "base_uri": "https://localhost:8080/",
          "height": 93
        }
      },
      "source": [
        "import gdown\n",
        "FILE_PATH = 'UPennMayo_features.hdf5'\n",
        "\n",
        "if not os.path.exists(FILE_PATH):\n",
        "    gdown.download('https://drive.google.com/uc?id=1-0Y0eKW9hIeOdKlYbi9UAojERKbQzi5d', \n",
        "                './'+FILE_PATH, quiet=False)"
      ],
      "execution_count": 0,
      "outputs": [
        {
          "output_type": "stream",
          "text": [
            "Downloading...\n",
            "From: https://drive.google.com/uc?id=1-0Y0eKW9hIeOdKlYbi9UAojERKbQzi5d\n",
            "To: /content/UPennMayo_features.hdf5\n",
            "47.9MB [00:00, 123MB/s] \n"
          ],
          "name": "stderr"
        }
      ]
    },
    {
      "cell_type": "markdown",
      "metadata": {
        "id": "jr67PrD5nO6a",
        "colab_type": "text"
      },
      "source": [
        "## Load Data\n",
        "\n",
        "First lets start by getting our workspace ready and then loading in the data. I have saved the data in a hdf5 file.\n",
        "\n",
        "**TODO**\n",
        "- Write a brief summary of hdf5 files and how I use them."
      ]
    },
    {
      "cell_type": "code",
      "metadata": {
        "id": "D3j6sFdMlJGH",
        "colab_type": "code",
        "outputId": "0b0d14ca-6187-46dc-c588-0b22680348f5",
        "colab": {
          "base_uri": "https://localhost:8080/",
          "height": 437
        }
      },
      "source": [
        "# load features dataframe\n",
        "h5file = tables.open_file(FILE_PATH, mode=\"r+\")\n",
        "h5file"
      ],
      "execution_count": 0,
      "outputs": [
        {
          "output_type": "execute_result",
          "data": {
            "text/plain": [
              "File(filename=UPennMayo_features.hdf5, title='Upenn Features', mode='r+', root_uep='/', filters=Filters(complevel=0, shuffle=False, bitshuffle=False, fletcher32=False, least_significant_digit=None))\n",
              "/ (RootGroup) 'Upenn Features'\n",
              "/Patient_2 (Group) 'Participant Data'\n",
              "/Patient_2/Data_x (EArray(7035, 848)) 'Feature Array'\n",
              "  atom := Float64Atom(shape=(), dflt=0.0)\n",
              "  maindim := 0\n",
              "  flavor := 'numpy'\n",
              "  byteorder := 'little'\n",
              "  chunkshape := (9, 848)\n",
              "/Patient_2/Data_x_Feat_Names (Array(848,)) 'Names of Each Feature'\n",
              "  atom := StringAtom(itemsize=29, shape=(), dflt=b'')\n",
              "  maindim := 0\n",
              "  flavor := 'numpy'\n",
              "  byteorder := 'irrelevant'\n",
              "  chunkshape := None\n",
              "/Patient_2/Data_y (EArray(7035, 1)) 'Events Array'\n",
              "  atom := Int64Atom(shape=(), dflt=0)\n",
              "  maindim := 0\n",
              "  flavor := 'numpy'\n",
              "  byteorder := 'little'\n",
              "  chunkshape := (8192, 1)"
            ]
          },
          "metadata": {
            "tags": []
          },
          "execution_count": 47
        }
      ]
    },
    {
      "cell_type": "markdown",
      "metadata": {
        "id": "yhvtTn667sXF",
        "colab_type": "text"
      },
      "source": [
        "If we look in this hdf5 file we see there is only data from 1 human patient out of the possible 8. Thats because for this tutorial, we'll use patient 2 as an example to increase training speed compared to the full set.\n",
        "\n",
        "**NOTE**\n",
        "- if you want the full set of human data then I made a version called *UPennMayo_all_features.hdf5*"
      ]
    },
    {
      "cell_type": "code",
      "metadata": {
        "id": "lprgN2k6Nf7I",
        "colab_type": "code",
        "outputId": "0209d133-f342-4f15-f7a4-7ab055fe5ca2",
        "colab": {
          "base_uri": "https://localhost:8080/",
          "height": 36
        }
      },
      "source": [
        "import h5py\n",
        "with h5py.File(FILE_PATH, 'r') as f:\n",
        "  key_list = list(f.keys())\n",
        "display(key_list)"
      ],
      "execution_count": 0,
      "outputs": [
        {
          "output_type": "display_data",
          "data": {
            "text/plain": [
              "['Patient_2']"
            ]
          },
          "metadata": {
            "tags": []
          }
        }
      ]
    },
    {
      "cell_type": "markdown",
      "metadata": {
        "id": "KufKcXT5Nmrl",
        "colab_type": "text"
      },
      "source": [
        "If you want more specific detail on the features than below then I recommend you look at the tutorial associated with the feature extraction. \n",
        "\n",
        "The dataset has multipule channels (different for each participant) and has previously been segmented into multipule datasets each lasting 1 second. Each dataset is associated with a class and has features extracted from it. These briefly are:\n",
        "\n",
        "**Welch**\n",
        "\n",
        "The Welch method is a spectral density estimation method that calculates a periodogram for windowed sections of data using a Fourier Transform. Overlapping segments are windowed with a discrete Fourier tranform applied to calculate the periodogram which is then squared and averaged to get a power measure.\n",
        "- *power_delta*: Average power between 0.1hz and 4hz \n",
        "- *power_theta*: Average power between 4hz and 8hz \n",
        "- *power_alpha*: Average power between 8hz and 12hz \n",
        "- *power_beta*: Average power between 12hz and 30hz \n",
        "- *power_gamma*: Average power between 30hz and 70hz \n",
        "\n",
        "**Discrete Wavelet Transform**\n",
        "\n",
        "Several oscillatory kernel-based wavelets are stretched and moved to different positions in time across a signal, dividing the data into different frequency components which are each analysed in respect to their scale.\n",
        "- *LSWT*: The log-sum energy of the subband coefficients\n",
        "- *mean*: Average power of the wavelet coefficients in each sub-band\n",
        "- *mean_abs*: Mean of the absolute values of the coefficients in each sub-band\n",
        "- *std*: Standard deviation of the coefficients in each sub-band\n",
        "- *Ratio*: Ratio of the absolute mean values of adjacent sub-bands\n",
        "\n",
        "**Correlation and Eigenvalues<sup>2,3</sup>**\n",
        "\n",
        "The log10 of frequency magnitudes, calculated using a Fast Fourier Transform, was gained for each EEG channel in each dataset. The FFT output was normalised across frequency (1-47Hz) and the correlation coefficients matrix calculated. Eigenvalues are then also calculated on the correlation matrix. Both eigenvalues and correlation coefficients were gained in the time domain as well as the Frequency domain.\n",
        "\n",
        "---\n",
        "1. https://www.kaggle.com/c/seizure-detection\n",
        "2. https://github.com/MichaelHills/seizure-detection\n",
        "3. K Schindler, H Leung, CE Elger, K Lehnertz (2007) Assessing seizure dynamics by analysing the correlation structure of multichannel intracranial EEG. Brain 130(Pt1):65-77"
      ]
    },
    {
      "cell_type": "code",
      "metadata": {
        "id": "rfA7C4TYNnsM",
        "colab_type": "code",
        "outputId": "91273209-5df3-4f6b-b151-ce40afd26a2b",
        "colab": {
          "base_uri": "https://localhost:8080/",
          "height": 287
        }
      },
      "source": [
        "data_x = h5file.get_node('/Patient_2/Data_x')\n",
        "data_y = h5file.get_node('/Patient_2/Data_y')\n",
        "data_x_labels = h5file.get_node('/Patient_2/Data_x_Feat_Names')\n",
        "\n",
        "part_feature_df = pd.DataFrame(data_x[:], columns = data_x_labels[:].astype(str))\n",
        "part_feature_df['class'] = data_y[:]\n",
        "part_feature_df = part_feature_df.set_index('class')\n",
        "part_feature_df.head()"
      ],
      "execution_count": 0,
      "outputs": [
        {
          "output_type": "execute_result",
          "data": {
            "text/html": [
              "<div>\n",
              "<style scoped>\n",
              "    .dataframe tbody tr th:only-of-type {\n",
              "        vertical-align: middle;\n",
              "    }\n",
              "\n",
              "    .dataframe tbody tr th {\n",
              "        vertical-align: top;\n",
              "    }\n",
              "\n",
              "    .dataframe thead th {\n",
              "        text-align: right;\n",
              "    }\n",
              "</style>\n",
              "<table border=\"1\" class=\"dataframe\">\n",
              "  <thead>\n",
              "    <tr style=\"text-align: right;\">\n",
              "      <th></th>\n",
              "      <th>LMacro_01|2_4Hz</th>\n",
              "      <th>LMacro_01|4_8Hz</th>\n",
              "      <th>LMacro_01|8_12Hz</th>\n",
              "      <th>LMacro_01|12_30Hz</th>\n",
              "      <th>LMacro_01|30_70Hz</th>\n",
              "      <th>LMacro_01|Ratio_3_12/2_30Hz</th>\n",
              "      <th>LMacro_01|D6_mean</th>\n",
              "      <th>LMacro_01|D5_mean</th>\n",
              "      <th>LMacro_01|D4_mean</th>\n",
              "      <th>LMacro_01|D3_mean</th>\n",
              "      <th>LMacro_01|D2_mean</th>\n",
              "      <th>LMacro_01|D1_mean</th>\n",
              "      <th>LMacro_01|D6_std</th>\n",
              "      <th>LMacro_01|D5_std</th>\n",
              "      <th>LMacro_01|D4_std</th>\n",
              "      <th>LMacro_01|D3_std</th>\n",
              "      <th>LMacro_01|D2_std</th>\n",
              "      <th>LMacro_01|D1_std</th>\n",
              "      <th>LMacro_01|D6_ratio</th>\n",
              "      <th>LMacro_01|D5_ratio</th>\n",
              "      <th>LMacro_01|D4_ratio</th>\n",
              "      <th>LMacro_01|D3_ratio</th>\n",
              "      <th>LMacro_01|D2_ratio</th>\n",
              "      <th>LMacro_01|D1_ratio</th>\n",
              "      <th>LMacro_01|D6_mean_abs</th>\n",
              "      <th>LMacro_01|D5_mean_abs</th>\n",
              "      <th>LMacro_01|D4_mean_abs</th>\n",
              "      <th>LMacro_01|D3_mean_abs</th>\n",
              "      <th>LMacro_01|D2_mean_abs</th>\n",
              "      <th>LMacro_01|D1_mean_abs</th>\n",
              "      <th>LMacro_01|D6_LSWT</th>\n",
              "      <th>LMacro_01|D5_LSWT</th>\n",
              "      <th>LMacro_01|D4_LSWT</th>\n",
              "      <th>LMacro_01|D3_LSWT</th>\n",
              "      <th>LMacro_01|D2_LSWT</th>\n",
              "      <th>LMacro_01|D1_LSWT</th>\n",
              "      <th>LMacro_02|2_4Hz</th>\n",
              "      <th>LMacro_02|4_8Hz</th>\n",
              "      <th>LMacro_02|8_12Hz</th>\n",
              "      <th>LMacro_02|12_30Hz</th>\n",
              "      <th>...</th>\n",
              "      <th>LMacro_07_RMacro_05|time_corr</th>\n",
              "      <th>LMacro_07_RMacro_06|time_corr</th>\n",
              "      <th>LMacro_07_RMacro_07|time_corr</th>\n",
              "      <th>LMacro_07_RMacro_08|time_corr</th>\n",
              "      <th>LMacro_08_RMacro_01|time_corr</th>\n",
              "      <th>LMacro_08_RMacro_02|time_corr</th>\n",
              "      <th>LMacro_08_RMacro_03|time_corr</th>\n",
              "      <th>LMacro_08_RMacro_04|time_corr</th>\n",
              "      <th>LMacro_08_RMacro_05|time_corr</th>\n",
              "      <th>LMacro_08_RMacro_06|time_corr</th>\n",
              "      <th>LMacro_08_RMacro_07|time_corr</th>\n",
              "      <th>LMacro_08_RMacro_08|time_corr</th>\n",
              "      <th>RMacro_01_RMacro_02|time_corr</th>\n",
              "      <th>RMacro_01_RMacro_03|time_corr</th>\n",
              "      <th>RMacro_01_RMacro_04|time_corr</th>\n",
              "      <th>RMacro_01_RMacro_05|time_corr</th>\n",
              "      <th>RMacro_01_RMacro_06|time_corr</th>\n",
              "      <th>RMacro_01_RMacro_07|time_corr</th>\n",
              "      <th>RMacro_01_RMacro_08|time_corr</th>\n",
              "      <th>RMacro_02_RMacro_03|time_corr</th>\n",
              "      <th>RMacro_02_RMacro_04|time_corr</th>\n",
              "      <th>RMacro_02_RMacro_05|time_corr</th>\n",
              "      <th>RMacro_02_RMacro_06|time_corr</th>\n",
              "      <th>RMacro_02_RMacro_07|time_corr</th>\n",
              "      <th>RMacro_02_RMacro_08|time_corr</th>\n",
              "      <th>RMacro_03_RMacro_04|time_corr</th>\n",
              "      <th>RMacro_03_RMacro_05|time_corr</th>\n",
              "      <th>RMacro_03_RMacro_06|time_corr</th>\n",
              "      <th>RMacro_03_RMacro_07|time_corr</th>\n",
              "      <th>RMacro_03_RMacro_08|time_corr</th>\n",
              "      <th>RMacro_04_RMacro_05|time_corr</th>\n",
              "      <th>RMacro_04_RMacro_06|time_corr</th>\n",
              "      <th>RMacro_04_RMacro_07|time_corr</th>\n",
              "      <th>RMacro_04_RMacro_08|time_corr</th>\n",
              "      <th>RMacro_05_RMacro_06|time_corr</th>\n",
              "      <th>RMacro_05_RMacro_07|time_corr</th>\n",
              "      <th>RMacro_05_RMacro_08|time_corr</th>\n",
              "      <th>RMacro_06_RMacro_07|time_corr</th>\n",
              "      <th>RMacro_06_RMacro_08|time_corr</th>\n",
              "      <th>RMacro_07_RMacro_08|time_corr</th>\n",
              "    </tr>\n",
              "    <tr>\n",
              "      <th>class</th>\n",
              "      <th></th>\n",
              "      <th></th>\n",
              "      <th></th>\n",
              "      <th></th>\n",
              "      <th></th>\n",
              "      <th></th>\n",
              "      <th></th>\n",
              "      <th></th>\n",
              "      <th></th>\n",
              "      <th></th>\n",
              "      <th></th>\n",
              "      <th></th>\n",
              "      <th></th>\n",
              "      <th></th>\n",
              "      <th></th>\n",
              "      <th></th>\n",
              "      <th></th>\n",
              "      <th></th>\n",
              "      <th></th>\n",
              "      <th></th>\n",
              "      <th></th>\n",
              "      <th></th>\n",
              "      <th></th>\n",
              "      <th></th>\n",
              "      <th></th>\n",
              "      <th></th>\n",
              "      <th></th>\n",
              "      <th></th>\n",
              "      <th></th>\n",
              "      <th></th>\n",
              "      <th></th>\n",
              "      <th></th>\n",
              "      <th></th>\n",
              "      <th></th>\n",
              "      <th></th>\n",
              "      <th></th>\n",
              "      <th></th>\n",
              "      <th></th>\n",
              "      <th></th>\n",
              "      <th></th>\n",
              "      <th></th>\n",
              "      <th></th>\n",
              "      <th></th>\n",
              "      <th></th>\n",
              "      <th></th>\n",
              "      <th></th>\n",
              "      <th></th>\n",
              "      <th></th>\n",
              "      <th></th>\n",
              "      <th></th>\n",
              "      <th></th>\n",
              "      <th></th>\n",
              "      <th></th>\n",
              "      <th></th>\n",
              "      <th></th>\n",
              "      <th></th>\n",
              "      <th></th>\n",
              "      <th></th>\n",
              "      <th></th>\n",
              "      <th></th>\n",
              "      <th></th>\n",
              "      <th></th>\n",
              "      <th></th>\n",
              "      <th></th>\n",
              "      <th></th>\n",
              "      <th></th>\n",
              "      <th></th>\n",
              "      <th></th>\n",
              "      <th></th>\n",
              "      <th></th>\n",
              "      <th></th>\n",
              "      <th></th>\n",
              "      <th></th>\n",
              "      <th></th>\n",
              "      <th></th>\n",
              "      <th></th>\n",
              "      <th></th>\n",
              "      <th></th>\n",
              "      <th></th>\n",
              "      <th></th>\n",
              "      <th></th>\n",
              "    </tr>\n",
              "  </thead>\n",
              "  <tbody>\n",
              "    <tr>\n",
              "      <th>1</th>\n",
              "      <td>227.771604</td>\n",
              "      <td>121.729376</td>\n",
              "      <td>104.748192</td>\n",
              "      <td>12.558394</td>\n",
              "      <td>0.647189</td>\n",
              "      <td>0.236310</td>\n",
              "      <td>-1.464481</td>\n",
              "      <td>-0.824742</td>\n",
              "      <td>0.013091</td>\n",
              "      <td>0.079837</td>\n",
              "      <td>0.007579</td>\n",
              "      <td>-0.003982</td>\n",
              "      <td>32.788547</td>\n",
              "      <td>7.787165</td>\n",
              "      <td>3.174328</td>\n",
              "      <td>2.255994</td>\n",
              "      <td>1.501909</td>\n",
              "      <td>0.434303</td>\n",
              "      <td>3.754051</td>\n",
              "      <td>0.478331</td>\n",
              "      <td>0.654988</td>\n",
              "      <td>0.968202</td>\n",
              "      <td>1.110025</td>\n",
              "      <td>0.291264</td>\n",
              "      <td>22.104887</td>\n",
              "      <td>5.888276</td>\n",
              "      <td>2.515215</td>\n",
              "      <td>1.791908</td>\n",
              "      <td>1.186303</td>\n",
              "      <td>0.345527</td>\n",
              "      <td>2.393530</td>\n",
              "      <td>0.000000</td>\n",
              "      <td>4.938845</td>\n",
              "      <td>5.224725</td>\n",
              "      <td>4.976350</td>\n",
              "      <td>4.832041</td>\n",
              "      <td>1005.364843</td>\n",
              "      <td>313.338129</td>\n",
              "      <td>313.795808</td>\n",
              "      <td>41.072159</td>\n",
              "      <td>...</td>\n",
              "      <td>0.105581</td>\n",
              "      <td>0.083218</td>\n",
              "      <td>0.037208</td>\n",
              "      <td>-0.074456</td>\n",
              "      <td>-0.232014</td>\n",
              "      <td>-0.110795</td>\n",
              "      <td>0.064210</td>\n",
              "      <td>0.231193</td>\n",
              "      <td>0.054408</td>\n",
              "      <td>0.080716</td>\n",
              "      <td>0.008344</td>\n",
              "      <td>-0.092507</td>\n",
              "      <td>0.478147</td>\n",
              "      <td>0.070836</td>\n",
              "      <td>0.276334</td>\n",
              "      <td>0.409964</td>\n",
              "      <td>0.089740</td>\n",
              "      <td>0.011427</td>\n",
              "      <td>-0.045528</td>\n",
              "      <td>0.659306</td>\n",
              "      <td>0.402787</td>\n",
              "      <td>-0.120908</td>\n",
              "      <td>-0.099517</td>\n",
              "      <td>-0.098398</td>\n",
              "      <td>-0.134968</td>\n",
              "      <td>0.671873</td>\n",
              "      <td>-0.177492</td>\n",
              "      <td>0.043530</td>\n",
              "      <td>0.109859</td>\n",
              "      <td>0.070146</td>\n",
              "      <td>0.273753</td>\n",
              "      <td>0.363735</td>\n",
              "      <td>0.389202</td>\n",
              "      <td>0.297462</td>\n",
              "      <td>0.789810</td>\n",
              "      <td>0.652605</td>\n",
              "      <td>0.519944</td>\n",
              "      <td>0.953851</td>\n",
              "      <td>0.796902</td>\n",
              "      <td>0.888274</td>\n",
              "    </tr>\n",
              "    <tr>\n",
              "      <th>1</th>\n",
              "      <td>162.957202</td>\n",
              "      <td>77.334727</td>\n",
              "      <td>39.298664</td>\n",
              "      <td>159.289935</td>\n",
              "      <td>17.511810</td>\n",
              "      <td>0.521757</td>\n",
              "      <td>-0.524147</td>\n",
              "      <td>-2.195927</td>\n",
              "      <td>0.170249</td>\n",
              "      <td>0.077665</td>\n",
              "      <td>-0.009410</td>\n",
              "      <td>-0.004780</td>\n",
              "      <td>136.208688</td>\n",
              "      <td>30.836280</td>\n",
              "      <td>12.684444</td>\n",
              "      <td>5.863654</td>\n",
              "      <td>2.171036</td>\n",
              "      <td>0.478162</td>\n",
              "      <td>4.499467</td>\n",
              "      <td>0.411784</td>\n",
              "      <td>0.612139</td>\n",
              "      <td>0.787675</td>\n",
              "      <td>0.749612</td>\n",
              "      <td>0.226207</td>\n",
              "      <td>110.524209</td>\n",
              "      <td>24.563843</td>\n",
              "      <td>8.780154</td>\n",
              "      <td>4.122931</td>\n",
              "      <td>1.688453</td>\n",
              "      <td>0.381939</td>\n",
              "      <td>5.750614</td>\n",
              "      <td>0.000000</td>\n",
              "      <td>6.024042</td>\n",
              "      <td>6.011127</td>\n",
              "      <td>5.849690</td>\n",
              "      <td>5.849246</td>\n",
              "      <td>177.183887</td>\n",
              "      <td>64.238290</td>\n",
              "      <td>44.758678</td>\n",
              "      <td>78.214008</td>\n",
              "      <td>...</td>\n",
              "      <td>0.368963</td>\n",
              "      <td>0.345036</td>\n",
              "      <td>0.190677</td>\n",
              "      <td>0.175533</td>\n",
              "      <td>0.143469</td>\n",
              "      <td>-0.377845</td>\n",
              "      <td>-0.132094</td>\n",
              "      <td>0.177265</td>\n",
              "      <td>0.364337</td>\n",
              "      <td>0.315025</td>\n",
              "      <td>0.180897</td>\n",
              "      <td>0.179192</td>\n",
              "      <td>0.197950</td>\n",
              "      <td>-0.024201</td>\n",
              "      <td>0.489842</td>\n",
              "      <td>0.500227</td>\n",
              "      <td>0.441391</td>\n",
              "      <td>0.083896</td>\n",
              "      <td>0.067550</td>\n",
              "      <td>0.448453</td>\n",
              "      <td>-0.143189</td>\n",
              "      <td>-0.236526</td>\n",
              "      <td>-0.318908</td>\n",
              "      <td>-0.218642</td>\n",
              "      <td>-0.218159</td>\n",
              "      <td>0.349326</td>\n",
              "      <td>0.072042</td>\n",
              "      <td>-0.015888</td>\n",
              "      <td>-0.035920</td>\n",
              "      <td>-0.016688</td>\n",
              "      <td>0.402350</td>\n",
              "      <td>0.379938</td>\n",
              "      <td>0.046323</td>\n",
              "      <td>-0.029894</td>\n",
              "      <td>0.765875</td>\n",
              "      <td>0.426919</td>\n",
              "      <td>0.379509</td>\n",
              "      <td>0.808733</td>\n",
              "      <td>0.732159</td>\n",
              "      <td>0.911896</td>\n",
              "    </tr>\n",
              "    <tr>\n",
              "      <th>1</th>\n",
              "      <td>7.328949</td>\n",
              "      <td>42.812358</td>\n",
              "      <td>74.461760</td>\n",
              "      <td>98.214038</td>\n",
              "      <td>8.702826</td>\n",
              "      <td>0.631694</td>\n",
              "      <td>4.117210</td>\n",
              "      <td>-0.597011</td>\n",
              "      <td>-0.399529</td>\n",
              "      <td>0.090689</td>\n",
              "      <td>0.002929</td>\n",
              "      <td>-0.009800</td>\n",
              "      <td>111.980787</td>\n",
              "      <td>21.057629</td>\n",
              "      <td>5.753481</td>\n",
              "      <td>2.588111</td>\n",
              "      <td>1.388032</td>\n",
              "      <td>0.401990</td>\n",
              "      <td>5.619444</td>\n",
              "      <td>0.338374</td>\n",
              "      <td>0.516542</td>\n",
              "      <td>0.705551</td>\n",
              "      <td>0.947942</td>\n",
              "      <td>0.290217</td>\n",
              "      <td>89.182818</td>\n",
              "      <td>15.870400</td>\n",
              "      <td>4.621165</td>\n",
              "      <td>2.022304</td>\n",
              "      <td>1.111390</td>\n",
              "      <td>0.322544</td>\n",
              "      <td>6.170474</td>\n",
              "      <td>3.438399</td>\n",
              "      <td>0.000000</td>\n",
              "      <td>5.223997</td>\n",
              "      <td>4.883751</td>\n",
              "      <td>4.643624</td>\n",
              "      <td>149.110048</td>\n",
              "      <td>61.553056</td>\n",
              "      <td>46.734910</td>\n",
              "      <td>66.373068</td>\n",
              "      <td>...</td>\n",
              "      <td>0.311119</td>\n",
              "      <td>0.386066</td>\n",
              "      <td>0.331398</td>\n",
              "      <td>0.259048</td>\n",
              "      <td>0.173879</td>\n",
              "      <td>-0.389145</td>\n",
              "      <td>-0.417331</td>\n",
              "      <td>-0.206554</td>\n",
              "      <td>0.398575</td>\n",
              "      <td>0.383888</td>\n",
              "      <td>0.302225</td>\n",
              "      <td>0.245279</td>\n",
              "      <td>0.328624</td>\n",
              "      <td>-0.087730</td>\n",
              "      <td>-0.137598</td>\n",
              "      <td>0.057621</td>\n",
              "      <td>0.133883</td>\n",
              "      <td>0.179161</td>\n",
              "      <td>0.105338</td>\n",
              "      <td>0.679629</td>\n",
              "      <td>0.318373</td>\n",
              "      <td>-0.071765</td>\n",
              "      <td>0.050092</td>\n",
              "      <td>0.125776</td>\n",
              "      <td>0.103813</td>\n",
              "      <td>0.793943</td>\n",
              "      <td>-0.154397</td>\n",
              "      <td>-0.134264</td>\n",
              "      <td>-0.094342</td>\n",
              "      <td>-0.099292</td>\n",
              "      <td>-0.020415</td>\n",
              "      <td>-0.103571</td>\n",
              "      <td>-0.071538</td>\n",
              "      <td>-0.048586</td>\n",
              "      <td>0.807652</td>\n",
              "      <td>0.638780</td>\n",
              "      <td>0.563594</td>\n",
              "      <td>0.936139</td>\n",
              "      <td>0.864730</td>\n",
              "      <td>0.954777</td>\n",
              "    </tr>\n",
              "    <tr>\n",
              "      <th>1</th>\n",
              "      <td>213.279844</td>\n",
              "      <td>85.966538</td>\n",
              "      <td>48.585487</td>\n",
              "      <td>241.390643</td>\n",
              "      <td>19.657826</td>\n",
              "      <td>1.773919</td>\n",
              "      <td>1.079959</td>\n",
              "      <td>0.292291</td>\n",
              "      <td>0.022378</td>\n",
              "      <td>0.049902</td>\n",
              "      <td>0.007782</td>\n",
              "      <td>-0.001951</td>\n",
              "      <td>141.495700</td>\n",
              "      <td>31.239320</td>\n",
              "      <td>10.276078</td>\n",
              "      <td>3.798760</td>\n",
              "      <td>1.597864</td>\n",
              "      <td>0.410597</td>\n",
              "      <td>4.289572</td>\n",
              "      <td>0.434734</td>\n",
              "      <td>0.559942</td>\n",
              "      <td>0.612397</td>\n",
              "      <td>0.812651</td>\n",
              "      <td>0.262716</td>\n",
              "      <td>107.301414</td>\n",
              "      <td>25.014481</td>\n",
              "      <td>7.778018</td>\n",
              "      <td>2.767019</td>\n",
              "      <td>1.258672</td>\n",
              "      <td>0.330673</td>\n",
              "      <td>4.581694</td>\n",
              "      <td>3.980179</td>\n",
              "      <td>2.566618</td>\n",
              "      <td>3.620904</td>\n",
              "      <td>2.750477</td>\n",
              "      <td>0.000000</td>\n",
              "      <td>13.380336</td>\n",
              "      <td>22.280386</td>\n",
              "      <td>30.907487</td>\n",
              "      <td>54.117322</td>\n",
              "      <td>...</td>\n",
              "      <td>0.508899</td>\n",
              "      <td>0.487559</td>\n",
              "      <td>0.451324</td>\n",
              "      <td>0.291205</td>\n",
              "      <td>0.631330</td>\n",
              "      <td>0.165049</td>\n",
              "      <td>0.137329</td>\n",
              "      <td>0.253372</td>\n",
              "      <td>0.345892</td>\n",
              "      <td>0.273578</td>\n",
              "      <td>0.275772</td>\n",
              "      <td>0.305362</td>\n",
              "      <td>0.327336</td>\n",
              "      <td>0.106497</td>\n",
              "      <td>0.246135</td>\n",
              "      <td>0.124531</td>\n",
              "      <td>0.178851</td>\n",
              "      <td>0.210248</td>\n",
              "      <td>0.245501</td>\n",
              "      <td>0.856986</td>\n",
              "      <td>0.816305</td>\n",
              "      <td>-0.364717</td>\n",
              "      <td>-0.262091</td>\n",
              "      <td>-0.121623</td>\n",
              "      <td>0.073687</td>\n",
              "      <td>0.930112</td>\n",
              "      <td>-0.270618</td>\n",
              "      <td>-0.205250</td>\n",
              "      <td>-0.070795</td>\n",
              "      <td>0.150490</td>\n",
              "      <td>-0.194032</td>\n",
              "      <td>-0.129580</td>\n",
              "      <td>0.018119</td>\n",
              "      <td>0.232352</td>\n",
              "      <td>0.842868</td>\n",
              "      <td>0.673148</td>\n",
              "      <td>0.445052</td>\n",
              "      <td>0.857085</td>\n",
              "      <td>0.559804</td>\n",
              "      <td>0.861035</td>\n",
              "    </tr>\n",
              "    <tr>\n",
              "      <th>1</th>\n",
              "      <td>44.163924</td>\n",
              "      <td>27.442250</td>\n",
              "      <td>42.136054</td>\n",
              "      <td>177.165579</td>\n",
              "      <td>15.002302</td>\n",
              "      <td>1.353723</td>\n",
              "      <td>-1.712907</td>\n",
              "      <td>1.431398</td>\n",
              "      <td>-0.246839</td>\n",
              "      <td>-0.003639</td>\n",
              "      <td>0.003989</td>\n",
              "      <td>0.000278</td>\n",
              "      <td>135.107508</td>\n",
              "      <td>25.263878</td>\n",
              "      <td>9.126206</td>\n",
              "      <td>3.616183</td>\n",
              "      <td>1.551521</td>\n",
              "      <td>0.393050</td>\n",
              "      <td>5.453788</td>\n",
              "      <td>0.344536</td>\n",
              "      <td>0.616948</td>\n",
              "      <td>0.668856</td>\n",
              "      <td>0.807527</td>\n",
              "      <td>0.258416</td>\n",
              "      <td>108.026608</td>\n",
              "      <td>19.807629</td>\n",
              "      <td>6.955007</td>\n",
              "      <td>2.738858</td>\n",
              "      <td>1.234676</td>\n",
              "      <td>0.319060</td>\n",
              "      <td>0.000000</td>\n",
              "      <td>5.939947</td>\n",
              "      <td>4.217378</td>\n",
              "      <td>4.971899</td>\n",
              "      <td>5.021267</td>\n",
              "      <td>4.992415</td>\n",
              "      <td>35.455547</td>\n",
              "      <td>11.237863</td>\n",
              "      <td>21.877706</td>\n",
              "      <td>64.766595</td>\n",
              "      <td>...</td>\n",
              "      <td>0.281274</td>\n",
              "      <td>0.194032</td>\n",
              "      <td>0.023224</td>\n",
              "      <td>-0.131616</td>\n",
              "      <td>-0.150468</td>\n",
              "      <td>-0.344999</td>\n",
              "      <td>0.076006</td>\n",
              "      <td>-0.046960</td>\n",
              "      <td>0.353895</td>\n",
              "      <td>0.238852</td>\n",
              "      <td>-0.039857</td>\n",
              "      <td>-0.218380</td>\n",
              "      <td>0.733632</td>\n",
              "      <td>0.000826</td>\n",
              "      <td>0.041887</td>\n",
              "      <td>-0.016991</td>\n",
              "      <td>0.104665</td>\n",
              "      <td>0.030016</td>\n",
              "      <td>-0.014210</td>\n",
              "      <td>0.353321</td>\n",
              "      <td>0.319825</td>\n",
              "      <td>-0.243991</td>\n",
              "      <td>0.073423</td>\n",
              "      <td>0.100328</td>\n",
              "      <td>0.067567</td>\n",
              "      <td>0.692748</td>\n",
              "      <td>0.107828</td>\n",
              "      <td>0.202009</td>\n",
              "      <td>0.136237</td>\n",
              "      <td>0.080719</td>\n",
              "      <td>0.099375</td>\n",
              "      <td>0.115953</td>\n",
              "      <td>0.158055</td>\n",
              "      <td>0.105109</td>\n",
              "      <td>0.680998</td>\n",
              "      <td>0.362963</td>\n",
              "      <td>0.242693</td>\n",
              "      <td>0.834629</td>\n",
              "      <td>0.653866</td>\n",
              "      <td>0.911919</td>\n",
              "    </tr>\n",
              "  </tbody>\n",
              "</table>\n",
              "<p>5 rows × 848 columns</p>\n",
              "</div>"
            ],
            "text/plain": [
              "       LMacro_01|2_4Hz  ...  RMacro_07_RMacro_08|time_corr\n",
              "class                   ...                               \n",
              "1           227.771604  ...                       0.888274\n",
              "1           162.957202  ...                       0.911896\n",
              "1             7.328949  ...                       0.954777\n",
              "1           213.279844  ...                       0.861035\n",
              "1            44.163924  ...                       0.911919\n",
              "\n",
              "[5 rows x 848 columns]"
            ]
          },
          "metadata": {
            "tags": []
          },
          "execution_count": 7
        }
      ]
    },
    {
      "cell_type": "markdown",
      "metadata": {
        "id": "yMsqqJfdoSYL",
        "colab_type": "text"
      },
      "source": [
        "## Data Preparation\n",
        "\n",
        "We'll just remove the data that was used for the test set (2) in the competition as quite frankly we don't know what they represent. This will leave just our known ictal data (1) and inter-ictal (0) data.\n",
        "\n",
        "**Note**\n",
        "- I noticed in a paper that they contacted the kaggle organisers for test labels:\n",
        "\n",
        "    \"*Dr Benjamin H. Brinkmann support from Mayo Systems Electrophysiology Lab for providing information on some unlabeled datasets*\"\n",
        "    \n",
        "    so if you really want them then maybe this could be an option?"
      ]
    },
    {
      "cell_type": "code",
      "metadata": {
        "id": "-af8-SU-NvvW",
        "colab_type": "code",
        "outputId": "eb4f4088-2d8d-43c4-b43c-47e047c67d87",
        "colab": {
          "base_uri": "https://localhost:8080/",
          "height": 93
        }
      },
      "source": [
        "part_feature_df.index.value_counts()"
      ],
      "execution_count": 0,
      "outputs": [
        {
          "output_type": "execute_result",
          "data": {
            "text/plain": [
              "2    3894\n",
              "0    2990\n",
              "1     151\n",
              "Name: class, dtype: int64"
            ]
          },
          "metadata": {
            "tags": []
          },
          "execution_count": 8
        }
      ]
    },
    {
      "cell_type": "code",
      "metadata": {
        "id": "byoLlXZRNxZX",
        "colab_type": "code",
        "outputId": "9e152dfb-6704-4848-c187-77f37f0bbce7",
        "colab": {
          "base_uri": "https://localhost:8080/",
          "height": 287
        }
      },
      "source": [
        "reduced_features = part_feature_df.loc[[0,1]]\n",
        "reduced_features.head()"
      ],
      "execution_count": 0,
      "outputs": [
        {
          "output_type": "execute_result",
          "data": {
            "text/html": [
              "<div>\n",
              "<style scoped>\n",
              "    .dataframe tbody tr th:only-of-type {\n",
              "        vertical-align: middle;\n",
              "    }\n",
              "\n",
              "    .dataframe tbody tr th {\n",
              "        vertical-align: top;\n",
              "    }\n",
              "\n",
              "    .dataframe thead th {\n",
              "        text-align: right;\n",
              "    }\n",
              "</style>\n",
              "<table border=\"1\" class=\"dataframe\">\n",
              "  <thead>\n",
              "    <tr style=\"text-align: right;\">\n",
              "      <th></th>\n",
              "      <th>LMacro_01|2_4Hz</th>\n",
              "      <th>LMacro_01|4_8Hz</th>\n",
              "      <th>LMacro_01|8_12Hz</th>\n",
              "      <th>LMacro_01|12_30Hz</th>\n",
              "      <th>LMacro_01|30_70Hz</th>\n",
              "      <th>LMacro_01|Ratio_3_12/2_30Hz</th>\n",
              "      <th>LMacro_01|D6_mean</th>\n",
              "      <th>LMacro_01|D5_mean</th>\n",
              "      <th>LMacro_01|D4_mean</th>\n",
              "      <th>LMacro_01|D3_mean</th>\n",
              "      <th>LMacro_01|D2_mean</th>\n",
              "      <th>LMacro_01|D1_mean</th>\n",
              "      <th>LMacro_01|D6_std</th>\n",
              "      <th>LMacro_01|D5_std</th>\n",
              "      <th>LMacro_01|D4_std</th>\n",
              "      <th>LMacro_01|D3_std</th>\n",
              "      <th>LMacro_01|D2_std</th>\n",
              "      <th>LMacro_01|D1_std</th>\n",
              "      <th>LMacro_01|D6_ratio</th>\n",
              "      <th>LMacro_01|D5_ratio</th>\n",
              "      <th>LMacro_01|D4_ratio</th>\n",
              "      <th>LMacro_01|D3_ratio</th>\n",
              "      <th>LMacro_01|D2_ratio</th>\n",
              "      <th>LMacro_01|D1_ratio</th>\n",
              "      <th>LMacro_01|D6_mean_abs</th>\n",
              "      <th>LMacro_01|D5_mean_abs</th>\n",
              "      <th>LMacro_01|D4_mean_abs</th>\n",
              "      <th>LMacro_01|D3_mean_abs</th>\n",
              "      <th>LMacro_01|D2_mean_abs</th>\n",
              "      <th>LMacro_01|D1_mean_abs</th>\n",
              "      <th>LMacro_01|D6_LSWT</th>\n",
              "      <th>LMacro_01|D5_LSWT</th>\n",
              "      <th>LMacro_01|D4_LSWT</th>\n",
              "      <th>LMacro_01|D3_LSWT</th>\n",
              "      <th>LMacro_01|D2_LSWT</th>\n",
              "      <th>LMacro_01|D1_LSWT</th>\n",
              "      <th>LMacro_02|2_4Hz</th>\n",
              "      <th>LMacro_02|4_8Hz</th>\n",
              "      <th>LMacro_02|8_12Hz</th>\n",
              "      <th>LMacro_02|12_30Hz</th>\n",
              "      <th>...</th>\n",
              "      <th>LMacro_07_RMacro_05|time_corr</th>\n",
              "      <th>LMacro_07_RMacro_06|time_corr</th>\n",
              "      <th>LMacro_07_RMacro_07|time_corr</th>\n",
              "      <th>LMacro_07_RMacro_08|time_corr</th>\n",
              "      <th>LMacro_08_RMacro_01|time_corr</th>\n",
              "      <th>LMacro_08_RMacro_02|time_corr</th>\n",
              "      <th>LMacro_08_RMacro_03|time_corr</th>\n",
              "      <th>LMacro_08_RMacro_04|time_corr</th>\n",
              "      <th>LMacro_08_RMacro_05|time_corr</th>\n",
              "      <th>LMacro_08_RMacro_06|time_corr</th>\n",
              "      <th>LMacro_08_RMacro_07|time_corr</th>\n",
              "      <th>LMacro_08_RMacro_08|time_corr</th>\n",
              "      <th>RMacro_01_RMacro_02|time_corr</th>\n",
              "      <th>RMacro_01_RMacro_03|time_corr</th>\n",
              "      <th>RMacro_01_RMacro_04|time_corr</th>\n",
              "      <th>RMacro_01_RMacro_05|time_corr</th>\n",
              "      <th>RMacro_01_RMacro_06|time_corr</th>\n",
              "      <th>RMacro_01_RMacro_07|time_corr</th>\n",
              "      <th>RMacro_01_RMacro_08|time_corr</th>\n",
              "      <th>RMacro_02_RMacro_03|time_corr</th>\n",
              "      <th>RMacro_02_RMacro_04|time_corr</th>\n",
              "      <th>RMacro_02_RMacro_05|time_corr</th>\n",
              "      <th>RMacro_02_RMacro_06|time_corr</th>\n",
              "      <th>RMacro_02_RMacro_07|time_corr</th>\n",
              "      <th>RMacro_02_RMacro_08|time_corr</th>\n",
              "      <th>RMacro_03_RMacro_04|time_corr</th>\n",
              "      <th>RMacro_03_RMacro_05|time_corr</th>\n",
              "      <th>RMacro_03_RMacro_06|time_corr</th>\n",
              "      <th>RMacro_03_RMacro_07|time_corr</th>\n",
              "      <th>RMacro_03_RMacro_08|time_corr</th>\n",
              "      <th>RMacro_04_RMacro_05|time_corr</th>\n",
              "      <th>RMacro_04_RMacro_06|time_corr</th>\n",
              "      <th>RMacro_04_RMacro_07|time_corr</th>\n",
              "      <th>RMacro_04_RMacro_08|time_corr</th>\n",
              "      <th>RMacro_05_RMacro_06|time_corr</th>\n",
              "      <th>RMacro_05_RMacro_07|time_corr</th>\n",
              "      <th>RMacro_05_RMacro_08|time_corr</th>\n",
              "      <th>RMacro_06_RMacro_07|time_corr</th>\n",
              "      <th>RMacro_06_RMacro_08|time_corr</th>\n",
              "      <th>RMacro_07_RMacro_08|time_corr</th>\n",
              "    </tr>\n",
              "    <tr>\n",
              "      <th>class</th>\n",
              "      <th></th>\n",
              "      <th></th>\n",
              "      <th></th>\n",
              "      <th></th>\n",
              "      <th></th>\n",
              "      <th></th>\n",
              "      <th></th>\n",
              "      <th></th>\n",
              "      <th></th>\n",
              "      <th></th>\n",
              "      <th></th>\n",
              "      <th></th>\n",
              "      <th></th>\n",
              "      <th></th>\n",
              "      <th></th>\n",
              "      <th></th>\n",
              "      <th></th>\n",
              "      <th></th>\n",
              "      <th></th>\n",
              "      <th></th>\n",
              "      <th></th>\n",
              "      <th></th>\n",
              "      <th></th>\n",
              "      <th></th>\n",
              "      <th></th>\n",
              "      <th></th>\n",
              "      <th></th>\n",
              "      <th></th>\n",
              "      <th></th>\n",
              "      <th></th>\n",
              "      <th></th>\n",
              "      <th></th>\n",
              "      <th></th>\n",
              "      <th></th>\n",
              "      <th></th>\n",
              "      <th></th>\n",
              "      <th></th>\n",
              "      <th></th>\n",
              "      <th></th>\n",
              "      <th></th>\n",
              "      <th></th>\n",
              "      <th></th>\n",
              "      <th></th>\n",
              "      <th></th>\n",
              "      <th></th>\n",
              "      <th></th>\n",
              "      <th></th>\n",
              "      <th></th>\n",
              "      <th></th>\n",
              "      <th></th>\n",
              "      <th></th>\n",
              "      <th></th>\n",
              "      <th></th>\n",
              "      <th></th>\n",
              "      <th></th>\n",
              "      <th></th>\n",
              "      <th></th>\n",
              "      <th></th>\n",
              "      <th></th>\n",
              "      <th></th>\n",
              "      <th></th>\n",
              "      <th></th>\n",
              "      <th></th>\n",
              "      <th></th>\n",
              "      <th></th>\n",
              "      <th></th>\n",
              "      <th></th>\n",
              "      <th></th>\n",
              "      <th></th>\n",
              "      <th></th>\n",
              "      <th></th>\n",
              "      <th></th>\n",
              "      <th></th>\n",
              "      <th></th>\n",
              "      <th></th>\n",
              "      <th></th>\n",
              "      <th></th>\n",
              "      <th></th>\n",
              "      <th></th>\n",
              "      <th></th>\n",
              "      <th></th>\n",
              "    </tr>\n",
              "  </thead>\n",
              "  <tbody>\n",
              "    <tr>\n",
              "      <th>0</th>\n",
              "      <td>114.541010</td>\n",
              "      <td>26.387061</td>\n",
              "      <td>11.821119</td>\n",
              "      <td>1.357175</td>\n",
              "      <td>0.127231</td>\n",
              "      <td>0.080726</td>\n",
              "      <td>-0.128602</td>\n",
              "      <td>0.118216</td>\n",
              "      <td>-0.101168</td>\n",
              "      <td>-0.033279</td>\n",
              "      <td>-0.004297</td>\n",
              "      <td>0.001694</td>\n",
              "      <td>13.557896</td>\n",
              "      <td>4.324083</td>\n",
              "      <td>2.012277</td>\n",
              "      <td>1.401388</td>\n",
              "      <td>1.110230</td>\n",
              "      <td>0.385098</td>\n",
              "      <td>3.004006</td>\n",
              "      <td>0.579224</td>\n",
              "      <td>0.684463</td>\n",
              "      <td>0.893648</td>\n",
              "      <td>1.246923</td>\n",
              "      <td>0.350324</td>\n",
              "      <td>10.624583</td>\n",
              "      <td>3.536804</td>\n",
              "      <td>1.587640</td>\n",
              "      <td>1.102274</td>\n",
              "      <td>0.879269</td>\n",
              "      <td>0.308029</td>\n",
              "      <td>3.106438</td>\n",
              "      <td>3.961608</td>\n",
              "      <td>0.000000</td>\n",
              "      <td>2.507438</td>\n",
              "      <td>3.327911</td>\n",
              "      <td>3.624668</td>\n",
              "      <td>81.093381</td>\n",
              "      <td>21.245074</td>\n",
              "      <td>12.022613</td>\n",
              "      <td>1.716688</td>\n",
              "      <td>...</td>\n",
              "      <td>0.142421</td>\n",
              "      <td>0.445292</td>\n",
              "      <td>0.375804</td>\n",
              "      <td>0.048456</td>\n",
              "      <td>-0.287851</td>\n",
              "      <td>-0.255292</td>\n",
              "      <td>-0.189169</td>\n",
              "      <td>-0.323072</td>\n",
              "      <td>0.083437</td>\n",
              "      <td>0.353000</td>\n",
              "      <td>0.313551</td>\n",
              "      <td>-0.003411</td>\n",
              "      <td>-0.235130</td>\n",
              "      <td>-0.170569</td>\n",
              "      <td>-0.220663</td>\n",
              "      <td>0.649620</td>\n",
              "      <td>-0.020600</td>\n",
              "      <td>-0.345087</td>\n",
              "      <td>0.100752</td>\n",
              "      <td>0.799281</td>\n",
              "      <td>-0.212111</td>\n",
              "      <td>-0.533714</td>\n",
              "      <td>-0.237637</td>\n",
              "      <td>-0.073423</td>\n",
              "      <td>-0.217264</td>\n",
              "      <td>-0.243490</td>\n",
              "      <td>-0.387402</td>\n",
              "      <td>-0.151831</td>\n",
              "      <td>-0.017957</td>\n",
              "      <td>-0.169271</td>\n",
              "      <td>-0.303116</td>\n",
              "      <td>-0.431413</td>\n",
              "      <td>-0.376480</td>\n",
              "      <td>-0.411506</td>\n",
              "      <td>0.544665</td>\n",
              "      <td>0.179166</td>\n",
              "      <td>0.469152</td>\n",
              "      <td>0.890269</td>\n",
              "      <td>0.827349</td>\n",
              "      <td>0.822477</td>\n",
              "    </tr>\n",
              "    <tr>\n",
              "      <th>0</th>\n",
              "      <td>27.574621</td>\n",
              "      <td>43.245174</td>\n",
              "      <td>18.910574</td>\n",
              "      <td>0.791160</td>\n",
              "      <td>0.113143</td>\n",
              "      <td>0.028620</td>\n",
              "      <td>-0.566416</td>\n",
              "      <td>-0.064466</td>\n",
              "      <td>-0.082230</td>\n",
              "      <td>0.007399</td>\n",
              "      <td>-0.009481</td>\n",
              "      <td>-0.002008</td>\n",
              "      <td>12.721882</td>\n",
              "      <td>4.671603</td>\n",
              "      <td>2.081970</td>\n",
              "      <td>1.429230</td>\n",
              "      <td>1.163085</td>\n",
              "      <td>0.392771</td>\n",
              "      <td>2.740875</td>\n",
              "      <td>0.625647</td>\n",
              "      <td>0.695557</td>\n",
              "      <td>0.874557</td>\n",
              "      <td>1.282507</td>\n",
              "      <td>0.339322</td>\n",
              "      <td>10.070413</td>\n",
              "      <td>3.674160</td>\n",
              "      <td>1.674747</td>\n",
              "      <td>1.141394</td>\n",
              "      <td>0.935474</td>\n",
              "      <td>0.317427</td>\n",
              "      <td>0.000000</td>\n",
              "      <td>3.654221</td>\n",
              "      <td>3.131752</td>\n",
              "      <td>3.985539</td>\n",
              "      <td>3.617549</td>\n",
              "      <td>3.786875</td>\n",
              "      <td>34.090448</td>\n",
              "      <td>55.587796</td>\n",
              "      <td>23.758051</td>\n",
              "      <td>1.081294</td>\n",
              "      <td>...</td>\n",
              "      <td>0.059382</td>\n",
              "      <td>-0.075373</td>\n",
              "      <td>-0.096533</td>\n",
              "      <td>-0.022078</td>\n",
              "      <td>-0.268351</td>\n",
              "      <td>-0.628743</td>\n",
              "      <td>-0.249155</td>\n",
              "      <td>-0.291405</td>\n",
              "      <td>0.037981</td>\n",
              "      <td>-0.046959</td>\n",
              "      <td>-0.073897</td>\n",
              "      <td>-0.044187</td>\n",
              "      <td>0.380488</td>\n",
              "      <td>0.106047</td>\n",
              "      <td>-0.186159</td>\n",
              "      <td>0.161660</td>\n",
              "      <td>0.005139</td>\n",
              "      <td>-0.108882</td>\n",
              "      <td>-0.105291</td>\n",
              "      <td>0.488385</td>\n",
              "      <td>-0.218292</td>\n",
              "      <td>0.083636</td>\n",
              "      <td>0.271466</td>\n",
              "      <td>0.280665</td>\n",
              "      <td>0.136437</td>\n",
              "      <td>-0.233991</td>\n",
              "      <td>0.132623</td>\n",
              "      <td>0.174909</td>\n",
              "      <td>0.162932</td>\n",
              "      <td>0.175522</td>\n",
              "      <td>-0.427137</td>\n",
              "      <td>-0.388867</td>\n",
              "      <td>-0.327155</td>\n",
              "      <td>-0.370580</td>\n",
              "      <td>0.750489</td>\n",
              "      <td>0.593814</td>\n",
              "      <td>0.665086</td>\n",
              "      <td>0.956724</td>\n",
              "      <td>0.870345</td>\n",
              "      <td>0.912751</td>\n",
              "    </tr>\n",
              "    <tr>\n",
              "      <th>0</th>\n",
              "      <td>58.207500</td>\n",
              "      <td>18.142876</td>\n",
              "      <td>8.238157</td>\n",
              "      <td>1.537487</td>\n",
              "      <td>0.341276</td>\n",
              "      <td>0.179073</td>\n",
              "      <td>0.500630</td>\n",
              "      <td>-0.156088</td>\n",
              "      <td>0.016892</td>\n",
              "      <td>0.061672</td>\n",
              "      <td>-0.002595</td>\n",
              "      <td>-0.005260</td>\n",
              "      <td>27.352470</td>\n",
              "      <td>9.916045</td>\n",
              "      <td>4.451683</td>\n",
              "      <td>2.263063</td>\n",
              "      <td>1.171889</td>\n",
              "      <td>0.389263</td>\n",
              "      <td>2.593647</td>\n",
              "      <td>0.653650</td>\n",
              "      <td>0.756241</td>\n",
              "      <td>0.787538</td>\n",
              "      <td>0.911714</td>\n",
              "      <td>0.328884</td>\n",
              "      <td>19.718376</td>\n",
              "      <td>7.602567</td>\n",
              "      <td>3.543520</td>\n",
              "      <td>1.768838</td>\n",
              "      <td>0.948547</td>\n",
              "      <td>0.311962</td>\n",
              "      <td>4.234047</td>\n",
              "      <td>0.000000</td>\n",
              "      <td>3.460437</td>\n",
              "      <td>4.179866</td>\n",
              "      <td>3.143538</td>\n",
              "      <td>2.585988</td>\n",
              "      <td>42.881090</td>\n",
              "      <td>47.020922</td>\n",
              "      <td>15.018225</td>\n",
              "      <td>2.147292</td>\n",
              "      <td>...</td>\n",
              "      <td>0.037790</td>\n",
              "      <td>-0.264089</td>\n",
              "      <td>-0.315883</td>\n",
              "      <td>-0.230196</td>\n",
              "      <td>-0.278415</td>\n",
              "      <td>-0.227573</td>\n",
              "      <td>-0.160157</td>\n",
              "      <td>-0.065920</td>\n",
              "      <td>0.006010</td>\n",
              "      <td>-0.207061</td>\n",
              "      <td>-0.212722</td>\n",
              "      <td>-0.233025</td>\n",
              "      <td>0.122168</td>\n",
              "      <td>-0.235360</td>\n",
              "      <td>0.204504</td>\n",
              "      <td>0.361533</td>\n",
              "      <td>0.260996</td>\n",
              "      <td>0.051503</td>\n",
              "      <td>0.198854</td>\n",
              "      <td>0.775103</td>\n",
              "      <td>0.176252</td>\n",
              "      <td>-0.659213</td>\n",
              "      <td>-0.431697</td>\n",
              "      <td>-0.272163</td>\n",
              "      <td>-0.257657</td>\n",
              "      <td>0.415948</td>\n",
              "      <td>-0.748055</td>\n",
              "      <td>-0.519936</td>\n",
              "      <td>-0.280743</td>\n",
              "      <td>-0.337609</td>\n",
              "      <td>0.121037</td>\n",
              "      <td>0.126031</td>\n",
              "      <td>0.092073</td>\n",
              "      <td>-0.025342</td>\n",
              "      <td>0.779517</td>\n",
              "      <td>0.483535</td>\n",
              "      <td>0.452129</td>\n",
              "      <td>0.887166</td>\n",
              "      <td>0.724896</td>\n",
              "      <td>0.718923</td>\n",
              "    </tr>\n",
              "    <tr>\n",
              "      <th>0</th>\n",
              "      <td>142.960698</td>\n",
              "      <td>11.285728</td>\n",
              "      <td>13.005110</td>\n",
              "      <td>1.014406</td>\n",
              "      <td>0.283393</td>\n",
              "      <td>0.118613</td>\n",
              "      <td>-0.823890</td>\n",
              "      <td>0.296830</td>\n",
              "      <td>0.030066</td>\n",
              "      <td>-0.039112</td>\n",
              "      <td>-0.008291</td>\n",
              "      <td>0.005120</td>\n",
              "      <td>22.598741</td>\n",
              "      <td>10.054916</td>\n",
              "      <td>4.598996</td>\n",
              "      <td>2.500677</td>\n",
              "      <td>1.230197</td>\n",
              "      <td>0.382808</td>\n",
              "      <td>2.139269</td>\n",
              "      <td>0.763976</td>\n",
              "      <td>0.762331</td>\n",
              "      <td>0.842739</td>\n",
              "      <td>0.867206</td>\n",
              "      <td>0.310805</td>\n",
              "      <td>16.561888</td>\n",
              "      <td>7.741845</td>\n",
              "      <td>3.705356</td>\n",
              "      <td>1.979278</td>\n",
              "      <td>0.991894</td>\n",
              "      <td>0.308285</td>\n",
              "      <td>0.000000</td>\n",
              "      <td>4.782595</td>\n",
              "      <td>4.389769</td>\n",
              "      <td>3.836238</td>\n",
              "      <td>4.104714</td>\n",
              "      <td>4.428988</td>\n",
              "      <td>106.109413</td>\n",
              "      <td>21.434679</td>\n",
              "      <td>13.119434</td>\n",
              "      <td>1.797604</td>\n",
              "      <td>...</td>\n",
              "      <td>0.129069</td>\n",
              "      <td>0.146538</td>\n",
              "      <td>-0.032067</td>\n",
              "      <td>0.051480</td>\n",
              "      <td>-0.267513</td>\n",
              "      <td>-0.420282</td>\n",
              "      <td>-0.408088</td>\n",
              "      <td>-0.023221</td>\n",
              "      <td>0.046785</td>\n",
              "      <td>0.107707</td>\n",
              "      <td>-0.137226</td>\n",
              "      <td>0.023916</td>\n",
              "      <td>0.337851</td>\n",
              "      <td>0.200658</td>\n",
              "      <td>0.161783</td>\n",
              "      <td>0.258978</td>\n",
              "      <td>0.162670</td>\n",
              "      <td>0.186067</td>\n",
              "      <td>0.197950</td>\n",
              "      <td>0.695472</td>\n",
              "      <td>-0.013475</td>\n",
              "      <td>-0.333610</td>\n",
              "      <td>-0.415209</td>\n",
              "      <td>-0.302744</td>\n",
              "      <td>-0.304885</td>\n",
              "      <td>0.260058</td>\n",
              "      <td>-0.375359</td>\n",
              "      <td>-0.471712</td>\n",
              "      <td>-0.358132</td>\n",
              "      <td>-0.349325</td>\n",
              "      <td>0.119059</td>\n",
              "      <td>0.116303</td>\n",
              "      <td>0.282626</td>\n",
              "      <td>0.113695</td>\n",
              "      <td>0.737446</td>\n",
              "      <td>0.529281</td>\n",
              "      <td>0.288499</td>\n",
              "      <td>0.719412</td>\n",
              "      <td>0.648070</td>\n",
              "      <td>0.786587</td>\n",
              "    </tr>\n",
              "    <tr>\n",
              "      <th>0</th>\n",
              "      <td>221.105230</td>\n",
              "      <td>39.302649</td>\n",
              "      <td>28.439736</td>\n",
              "      <td>3.143172</td>\n",
              "      <td>0.317358</td>\n",
              "      <td>0.072439</td>\n",
              "      <td>0.119001</td>\n",
              "      <td>0.103982</td>\n",
              "      <td>-0.235290</td>\n",
              "      <td>-0.002702</td>\n",
              "      <td>0.000093</td>\n",
              "      <td>-0.008104</td>\n",
              "      <td>23.294614</td>\n",
              "      <td>9.924683</td>\n",
              "      <td>4.444632</td>\n",
              "      <td>2.492482</td>\n",
              "      <td>1.286292</td>\n",
              "      <td>0.385283</td>\n",
              "      <td>2.393258</td>\n",
              "      <td>0.702662</td>\n",
              "      <td>0.726574</td>\n",
              "      <td>0.844753</td>\n",
              "      <td>0.918288</td>\n",
              "      <td>0.305973</td>\n",
              "      <td>18.411967</td>\n",
              "      <td>7.693265</td>\n",
              "      <td>3.485531</td>\n",
              "      <td>1.901163</td>\n",
              "      <td>1.015581</td>\n",
              "      <td>0.310740</td>\n",
              "      <td>4.456353</td>\n",
              "      <td>4.532672</td>\n",
              "      <td>0.000000</td>\n",
              "      <td>4.308820</td>\n",
              "      <td>4.333021</td>\n",
              "      <td>4.021278</td>\n",
              "      <td>375.854179</td>\n",
              "      <td>44.382299</td>\n",
              "      <td>38.994918</td>\n",
              "      <td>3.095420</td>\n",
              "      <td>...</td>\n",
              "      <td>0.026899</td>\n",
              "      <td>-0.220666</td>\n",
              "      <td>-0.086244</td>\n",
              "      <td>-0.175303</td>\n",
              "      <td>-0.123123</td>\n",
              "      <td>-0.373268</td>\n",
              "      <td>-0.317954</td>\n",
              "      <td>-0.112358</td>\n",
              "      <td>-0.033773</td>\n",
              "      <td>-0.303254</td>\n",
              "      <td>-0.221227</td>\n",
              "      <td>-0.248652</td>\n",
              "      <td>-0.060182</td>\n",
              "      <td>0.059163</td>\n",
              "      <td>-0.112238</td>\n",
              "      <td>0.172122</td>\n",
              "      <td>0.056972</td>\n",
              "      <td>-0.128083</td>\n",
              "      <td>0.007895</td>\n",
              "      <td>0.531248</td>\n",
              "      <td>0.014922</td>\n",
              "      <td>-0.283171</td>\n",
              "      <td>-0.161568</td>\n",
              "      <td>-0.212833</td>\n",
              "      <td>-0.294075</td>\n",
              "      <td>0.497757</td>\n",
              "      <td>-0.304521</td>\n",
              "      <td>-0.125158</td>\n",
              "      <td>-0.338306</td>\n",
              "      <td>-0.098428</td>\n",
              "      <td>-0.272180</td>\n",
              "      <td>0.054720</td>\n",
              "      <td>-0.089779</td>\n",
              "      <td>0.077794</td>\n",
              "      <td>0.721609</td>\n",
              "      <td>0.470620</td>\n",
              "      <td>0.344036</td>\n",
              "      <td>0.810304</td>\n",
              "      <td>0.774646</td>\n",
              "      <td>0.820247</td>\n",
              "    </tr>\n",
              "  </tbody>\n",
              "</table>\n",
              "<p>5 rows × 848 columns</p>\n",
              "</div>"
            ],
            "text/plain": [
              "       LMacro_01|2_4Hz  ...  RMacro_07_RMacro_08|time_corr\n",
              "class                   ...                               \n",
              "0           114.541010  ...                       0.822477\n",
              "0            27.574621  ...                       0.912751\n",
              "0            58.207500  ...                       0.718923\n",
              "0           142.960698  ...                       0.786587\n",
              "0           221.105230  ...                       0.820247\n",
              "\n",
              "[5 rows x 848 columns]"
            ]
          },
          "metadata": {
            "tags": []
          },
          "execution_count": 9
        }
      ]
    },
    {
      "cell_type": "code",
      "metadata": {
        "id": "0yj0MCPoNzvH",
        "colab_type": "code",
        "outputId": "c043989e-8032-4fa7-e7e1-99a48e09dc5b",
        "colab": {
          "base_uri": "https://localhost:8080/",
          "height": 55
        }
      },
      "source": [
        "from sklearn.model_selection import train_test_split\n",
        "\n",
        "TEST_SIZE = 0.1\n",
        "RANDOM_STATE = 0\n",
        "\n",
        "# turn to numpy array\n",
        "data_x = reduced_features.values\n",
        "\n",
        "# create condition(group) array\n",
        "data_y = reduced_features.index.values\n",
        "    \n",
        "X_train, X_test, y_train, y_test = train_test_split(data_x, data_y, \n",
        "                                                    test_size=TEST_SIZE,\n",
        "                                                    random_state=RANDOM_STATE)\n",
        "X_train, X_val, y_train, y_val = train_test_split(X_train, y_train, \n",
        "                                                    test_size=TEST_SIZE,\n",
        "                                                    random_state=RANDOM_STATE)\n",
        "\n",
        "print(X_train.shape, X_val.shape, X_test.shape)\n",
        "print(y_train.shape, y_val.shape, y_test.shape)"
      ],
      "execution_count": 0,
      "outputs": [
        {
          "output_type": "stream",
          "text": [
            "(2543, 848) (283, 848) (315, 848)\n",
            "(2543,) (283,) (315,)\n"
          ],
          "name": "stdout"
        }
      ]
    },
    {
      "cell_type": "markdown",
      "metadata": {
        "id": "UjhbnX8pN3HW",
        "colab_type": "text"
      },
      "source": [
        "# Averaging Methods\n",
        "Averaging methods build several separate estimators and then, as their name suggets, average their predictions. By reducing the variance these tend to perform better than any single base estimator<sup>1</sup>.\n",
        "\n",
        "---\n",
        "\n",
        "1. https://scikit-learn.org/stable/modules/ensemble.html"
      ]
    },
    {
      "cell_type": "markdown",
      "metadata": {
        "id": "IEm1gMUbN3xO",
        "colab_type": "text"
      },
      "source": [
        "## Bagging\n",
        "A bagging classifier is an ensemble of base classifiers, each fit on random subsets of a dataset. Their predictions are then pooled or aggregated to form a final prediction. This reduces variance of an estimator and can be a simple way to reduce overfitting. They work best with complex models as opposed to boosting, which work best with weak models<sup>1</sup>.\n",
        "\n",
        "Specifically, bagging is when sampling is produced with replacement<sup>2</sup>, and without replacement being called pasting<sup>3</sup>. Therefore both bagging and pasting allow training to be sampled several times across multipule predictors, with bagging only allowing several samples for the same predictor <sup>4</sup>.\n",
        "\n",
        "We can do this with any classifier so lets start with a support vector machine. \n",
        "\n",
        "**NOTE**\n",
        "- If we wanted to use pasting we would just set *bootstrap=False*.\n",
        "\n",
        "---\n",
        "\n",
        "1. https://scikit-learn.org/stable/modules/ensemble.html\n",
        "2. Breiman, L. (1996). Bagging predictors. Machine learning, 24(2), 123-140.\n",
        "3. Breiman, L. (1999). Pasting small votes for classification in large databases and on-line. Machine learning, 36(1-2), 85-103.\n",
        "4. Géron, A. (2017). Hands-on machine learning with Scikit-Learn and TensorFlow: concepts, tools, and techniques to build intelligent systems. \" O'Reilly Media, Inc.\"."
      ]
    },
    {
      "cell_type": "code",
      "metadata": {
        "id": "lcsWLbOON8a5",
        "colab_type": "code",
        "outputId": "bf41c0ff-ca4f-483e-a81f-64171c1021cd",
        "colab": {
          "base_uri": "https://localhost:8080/",
          "height": 55
        }
      },
      "source": [
        "%%time\n",
        "\n",
        "from sklearn.pipeline import Pipeline\n",
        "from sklearn.preprocessing import StandardScaler\n",
        "from sklearn.svm import SVC\n",
        "from sklearn.ensemble import BaggingClassifier\n",
        "from sklearn.decomposition import PCA\n",
        "from sklearn.metrics import classification_report\n",
        "\n",
        "pipe_svc = Pipeline([('scl', StandardScaler()),\n",
        "                     ('pca', PCA(n_components=0.8, random_state = RANDOM_STATE)),\n",
        "                     ('clf', SVC(kernel='rbf', random_state=RANDOM_STATE))])\n",
        "\n",
        "bag = BaggingClassifier(base_estimator=pipe_svc, \n",
        "                        n_estimators=10, \n",
        "                        max_samples=0.5, \n",
        "                        max_features=0.5, \n",
        "                        bootstrap=True, \n",
        "                        bootstrap_features=True, \n",
        "                        oob_score=True, \n",
        "                        warm_start=False,\n",
        "                        n_jobs=-1, \n",
        "                        random_state=RANDOM_STATE)\n",
        "bag.fit(X_train, y_train)"
      ],
      "execution_count": 0,
      "outputs": [
        {
          "output_type": "stream",
          "text": [
            "CPU times: user 733 ms, sys: 491 ms, total: 1.22 s\n",
            "Wall time: 3.31 s\n"
          ],
          "name": "stdout"
        }
      ]
    },
    {
      "cell_type": "markdown",
      "metadata": {
        "id": "mGhcz25eVcqX",
        "colab_type": "text"
      },
      "source": [
        "As we can see performance is okay but recall is particularly poor. It is likely the model is not complex enough or each model in the ensemble is too similar to each add value (we'll look at solving this soon)."
      ]
    },
    {
      "cell_type": "code",
      "metadata": {
        "id": "d09pwIZFVbR2",
        "colab_type": "code",
        "outputId": "bb8e9010-22d2-456f-b968-79f60803cf63",
        "colab": {
          "base_uri": "https://localhost:8080/",
          "height": 175
        }
      },
      "source": [
        "y_pred = bag.predict(X_val)\n",
        "\n",
        "display(pd.DataFrame(classification_report(y_val, y_pred , output_dict =True)))"
      ],
      "execution_count": 0,
      "outputs": [
        {
          "output_type": "display_data",
          "data": {
            "text/html": [
              "<div>\n",
              "<style scoped>\n",
              "    .dataframe tbody tr th:only-of-type {\n",
              "        vertical-align: middle;\n",
              "    }\n",
              "\n",
              "    .dataframe tbody tr th {\n",
              "        vertical-align: top;\n",
              "    }\n",
              "\n",
              "    .dataframe thead th {\n",
              "        text-align: right;\n",
              "    }\n",
              "</style>\n",
              "<table border=\"1\" class=\"dataframe\">\n",
              "  <thead>\n",
              "    <tr style=\"text-align: right;\">\n",
              "      <th></th>\n",
              "      <th>0</th>\n",
              "      <th>1</th>\n",
              "      <th>accuracy</th>\n",
              "      <th>macro avg</th>\n",
              "      <th>weighted avg</th>\n",
              "    </tr>\n",
              "  </thead>\n",
              "  <tbody>\n",
              "    <tr>\n",
              "      <th>precision</th>\n",
              "      <td>0.985294</td>\n",
              "      <td>0.818182</td>\n",
              "      <td>0.978799</td>\n",
              "      <td>0.901738</td>\n",
              "      <td>0.977618</td>\n",
              "    </tr>\n",
              "    <tr>\n",
              "      <th>recall</th>\n",
              "      <td>0.992593</td>\n",
              "      <td>0.692308</td>\n",
              "      <td>0.978799</td>\n",
              "      <td>0.842450</td>\n",
              "      <td>0.978799</td>\n",
              "    </tr>\n",
              "    <tr>\n",
              "      <th>f1-score</th>\n",
              "      <td>0.988930</td>\n",
              "      <td>0.750000</td>\n",
              "      <td>0.978799</td>\n",
              "      <td>0.869465</td>\n",
              "      <td>0.977954</td>\n",
              "    </tr>\n",
              "    <tr>\n",
              "      <th>support</th>\n",
              "      <td>270.000000</td>\n",
              "      <td>13.000000</td>\n",
              "      <td>0.978799</td>\n",
              "      <td>283.000000</td>\n",
              "      <td>283.000000</td>\n",
              "    </tr>\n",
              "  </tbody>\n",
              "</table>\n",
              "</div>"
            ],
            "text/plain": [
              "                    0          1  accuracy   macro avg  weighted avg\n",
              "precision    0.985294   0.818182  0.978799    0.901738      0.977618\n",
              "recall       0.992593   0.692308  0.978799    0.842450      0.978799\n",
              "f1-score     0.988930   0.750000  0.978799    0.869465      0.977954\n",
              "support    270.000000  13.000000  0.978799  283.000000    283.000000"
            ]
          },
          "metadata": {
            "tags": []
          }
        }
      ]
    },
    {
      "cell_type": "markdown",
      "metadata": {
        "id": "UIYGfabe23JU",
        "colab_type": "text"
      },
      "source": [
        "An additional way we can get a performance metric on a validation set is to ensure we use `oob_score = True`\n",
        "\n",
        "With bagging by default only trains on a sample of the training data, leaving a set of training data sampled as out-of-bag (oob) instances. Since they are not seen during training, we can evalute on them without a separate validation using the oob_score.\n",
        "\n",
        "This estimated that its likely to get an accuracy of about 0.99 on the test/validation set so its a pretty close to what we did get above."
      ]
    },
    {
      "cell_type": "code",
      "metadata": {
        "id": "iAhQUdYA28sk",
        "colab_type": "code",
        "outputId": "8a95e355-f148-4bfb-c2a3-d36167f15169",
        "colab": {
          "base_uri": "https://localhost:8080/",
          "height": 36
        }
      },
      "source": [
        "bag.oob_score_"
      ],
      "execution_count": 0,
      "outputs": [
        {
          "output_type": "execute_result",
          "data": {
            "text/plain": [
              "0.9897758552890287"
            ]
          },
          "metadata": {
            "tags": []
          },
          "execution_count": 13
        }
      ]
    },
    {
      "cell_type": "markdown",
      "metadata": {
        "id": "XxZQztWUbr-9",
        "colab_type": "text"
      },
      "source": [
        "Maybe we think that the problem with our previous model was that we didnt fully account for the imballances in the data. Then we could use a ballanced bagging classifier, but again this performs poorly."
      ]
    },
    {
      "cell_type": "code",
      "metadata": {
        "id": "r01R7T_Sa4n_",
        "colab_type": "code",
        "outputId": "cbccb46f-014d-444f-c831-be1ab0c33701",
        "colab": {
          "base_uri": "https://localhost:8080/",
          "height": 233
        }
      },
      "source": [
        "from imblearn.ensemble import BalancedBaggingClassifier\n",
        "\n",
        "bal_bag = BalancedBaggingClassifier(base_estimator=pipe_svc, \n",
        "                                n_estimators=10, \n",
        "                                max_samples=0.5, \n",
        "                                max_features=0.5, \n",
        "                                bootstrap=True, \n",
        "                                bootstrap_features=True, \n",
        "                                oob_score=True, \n",
        "                                warm_start=False, \n",
        "                                sampling_strategy ='majority', \n",
        "                                replacement=True, \n",
        "                                n_jobs=-1, \n",
        "                                random_state=RANDOM_STATE)\n",
        "bal_bag.fit(X_train, y_train)\n",
        "\n",
        "y_pred = bal_bag.predict(X_val)\n",
        "\n",
        "display(pd.DataFrame(classification_report(y_val, y_pred , output_dict =True)))"
      ],
      "execution_count": 0,
      "outputs": [
        {
          "output_type": "stream",
          "text": [
            "/usr/local/lib/python3.6/dist-packages/joblib/externals/loky/process_executor.py:706: UserWarning: A worker stopped while some jobs were given to the executor. This can be caused by a too short worker timeout or by a memory leak.\n",
            "  \"timeout or by a memory leak.\", UserWarning\n"
          ],
          "name": "stderr"
        },
        {
          "output_type": "display_data",
          "data": {
            "text/html": [
              "<div>\n",
              "<style scoped>\n",
              "    .dataframe tbody tr th:only-of-type {\n",
              "        vertical-align: middle;\n",
              "    }\n",
              "\n",
              "    .dataframe tbody tr th {\n",
              "        vertical-align: top;\n",
              "    }\n",
              "\n",
              "    .dataframe thead th {\n",
              "        text-align: right;\n",
              "    }\n",
              "</style>\n",
              "<table border=\"1\" class=\"dataframe\">\n",
              "  <thead>\n",
              "    <tr style=\"text-align: right;\">\n",
              "      <th></th>\n",
              "      <th>0</th>\n",
              "      <th>1</th>\n",
              "      <th>accuracy</th>\n",
              "      <th>macro avg</th>\n",
              "      <th>weighted avg</th>\n",
              "    </tr>\n",
              "  </thead>\n",
              "  <tbody>\n",
              "    <tr>\n",
              "      <th>precision</th>\n",
              "      <td>1.000000</td>\n",
              "      <td>0.590909</td>\n",
              "      <td>0.968198</td>\n",
              "      <td>0.795455</td>\n",
              "      <td>0.981208</td>\n",
              "    </tr>\n",
              "    <tr>\n",
              "      <th>recall</th>\n",
              "      <td>0.966667</td>\n",
              "      <td>1.000000</td>\n",
              "      <td>0.968198</td>\n",
              "      <td>0.983333</td>\n",
              "      <td>0.968198</td>\n",
              "    </tr>\n",
              "    <tr>\n",
              "      <th>f1-score</th>\n",
              "      <td>0.983051</td>\n",
              "      <td>0.742857</td>\n",
              "      <td>0.968198</td>\n",
              "      <td>0.862954</td>\n",
              "      <td>0.972017</td>\n",
              "    </tr>\n",
              "    <tr>\n",
              "      <th>support</th>\n",
              "      <td>270.000000</td>\n",
              "      <td>13.000000</td>\n",
              "      <td>0.968198</td>\n",
              "      <td>283.000000</td>\n",
              "      <td>283.000000</td>\n",
              "    </tr>\n",
              "  </tbody>\n",
              "</table>\n",
              "</div>"
            ],
            "text/plain": [
              "                    0          1  accuracy   macro avg  weighted avg\n",
              "precision    1.000000   0.590909  0.968198    0.795455      0.981208\n",
              "recall       0.966667   1.000000  0.968198    0.983333      0.968198\n",
              "f1-score     0.983051   0.742857  0.968198    0.862954      0.972017\n",
              "support    270.000000  13.000000  0.968198  283.000000    283.000000"
            ]
          },
          "metadata": {
            "tags": []
          }
        }
      ]
    },
    {
      "cell_type": "markdown",
      "metadata": {
        "id": "AKeNEXn6udmy",
        "colab_type": "text"
      },
      "source": [
        "So instead lets look at a more complex model that aims to ensure each classifier in the ensemble makes different errors."
      ]
    },
    {
      "cell_type": "markdown",
      "metadata": {
        "id": "lHlRpGOF5BV2",
        "colab_type": "text"
      },
      "source": [
        "## Random Forests\n",
        "\n",
        "Random forests are essentally bagged tree classifier. However, rather than using the bagging method above we can use one of the inbuilt methods Sklearn has specifically designed for fitting an ensemble of trees. A random forest is just a fancier version of bagging where multiple decision trees are averaged together to build a robust model that is less susceptible to overfitting.\n",
        "\n",
        "The random forest algorithm can be summarized in four steps<sup>1</sup>:\n",
        "\n",
        "> 1. *Draw a random bootstrap sample of size n (randomly choose n samples from the training set with replacement).*\n",
        "> 2. *Grow a decision tree from the bootstrap sample. At each node:*\n",
        ">\n",
        ">    *a. Randomly select d features without replacement.*\n",
        ">    \n",
        ">    *b. Split the node using the feature that provides the best split according to the objective function, for instance, maximizing the information gain.*\n",
        ">\n",
        ">3. *Repeat the steps 1-2 k times.*\n",
        ">4. *Aggregate the prediction by each tree to assign the class label by majority vote.*\n",
        "\n",
        "Instead of using majority vote, as was done in the origional publication<sup>2</sup>, in Sklearn the RandomForestClassifier averages the probabilistic prediction.\n",
        "\n",
        "**NOTES**\n",
        "- We cannot use the graphviz on the whole forest as we did for the trees in the supervised learning notebook, as each tree is built differently.\n",
        "\n",
        "---\n",
        "1. Raschka2017\n",
        "2. L. Breiman, “Random Forests”, Machine Learning, 45(1), 5-32, 2001"
      ]
    },
    {
      "cell_type": "code",
      "metadata": {
        "id": "Ynqo_JfPXkvL",
        "colab_type": "code",
        "outputId": "e86edf4f-c68b-4fc7-d46c-ed0b4e223258",
        "colab": {
          "base_uri": "https://localhost:8080/",
          "height": 175
        }
      },
      "source": [
        "from sklearn.ensemble import RandomForestClassifier\n",
        "\n",
        "forest = RandomForestClassifier(criterion='gini',\n",
        "                                n_estimators=1000,\n",
        "                                max_features = 'sqrt',\n",
        "                                class_weight = 'balanced',\n",
        "                                random_state=RANDOM_STATE,\n",
        "                                n_jobs=-1)\n",
        "forest.fit(X_train, y_train)\n",
        "\n",
        "y_pred = forest.predict(X_val)\n",
        "\n",
        "display(pd.DataFrame(classification_report(y_val, y_pred , output_dict = True)))"
      ],
      "execution_count": 0,
      "outputs": [
        {
          "output_type": "display_data",
          "data": {
            "text/html": [
              "<div>\n",
              "<style scoped>\n",
              "    .dataframe tbody tr th:only-of-type {\n",
              "        vertical-align: middle;\n",
              "    }\n",
              "\n",
              "    .dataframe tbody tr th {\n",
              "        vertical-align: top;\n",
              "    }\n",
              "\n",
              "    .dataframe thead th {\n",
              "        text-align: right;\n",
              "    }\n",
              "</style>\n",
              "<table border=\"1\" class=\"dataframe\">\n",
              "  <thead>\n",
              "    <tr style=\"text-align: right;\">\n",
              "      <th></th>\n",
              "      <th>0</th>\n",
              "      <th>1</th>\n",
              "      <th>accuracy</th>\n",
              "      <th>macro avg</th>\n",
              "      <th>weighted avg</th>\n",
              "    </tr>\n",
              "  </thead>\n",
              "  <tbody>\n",
              "    <tr>\n",
              "      <th>precision</th>\n",
              "      <td>0.996296</td>\n",
              "      <td>0.923077</td>\n",
              "      <td>0.992933</td>\n",
              "      <td>0.959687</td>\n",
              "      <td>0.992933</td>\n",
              "    </tr>\n",
              "    <tr>\n",
              "      <th>recall</th>\n",
              "      <td>0.996296</td>\n",
              "      <td>0.923077</td>\n",
              "      <td>0.992933</td>\n",
              "      <td>0.959687</td>\n",
              "      <td>0.992933</td>\n",
              "    </tr>\n",
              "    <tr>\n",
              "      <th>f1-score</th>\n",
              "      <td>0.996296</td>\n",
              "      <td>0.923077</td>\n",
              "      <td>0.992933</td>\n",
              "      <td>0.959687</td>\n",
              "      <td>0.992933</td>\n",
              "    </tr>\n",
              "    <tr>\n",
              "      <th>support</th>\n",
              "      <td>270.000000</td>\n",
              "      <td>13.000000</td>\n",
              "      <td>0.992933</td>\n",
              "      <td>283.000000</td>\n",
              "      <td>283.000000</td>\n",
              "    </tr>\n",
              "  </tbody>\n",
              "</table>\n",
              "</div>"
            ],
            "text/plain": [
              "                    0          1  accuracy   macro avg  weighted avg\n",
              "precision    0.996296   0.923077  0.992933    0.959687      0.992933\n",
              "recall       0.996296   0.923077  0.992933    0.959687      0.992933\n",
              "f1-score     0.996296   0.923077  0.992933    0.959687      0.992933\n",
              "support    270.000000  13.000000  0.992933  283.000000    283.000000"
            ]
          },
          "metadata": {
            "tags": []
          }
        }
      ]
    },
    {
      "cell_type": "markdown",
      "metadata": {
        "id": "80GjqqNn3EzV",
        "colab_type": "text"
      },
      "source": [
        "Lets look at how a descion boundary created by a bagged tree could generalise better than a single tree (as we did in the supervised learning notebook)"
      ]
    },
    {
      "cell_type": "code",
      "metadata": {
        "id": "VJGbW4VF3G5s",
        "colab_type": "code",
        "outputId": "31e09e22-2bda-4014-ded3-bb0789f131d0",
        "colab": {
          "base_uri": "https://localhost:8080/",
          "height": 265
        }
      },
      "source": [
        "from mlxtend.plotting import category_scatter\n",
        "\n",
        "x_axis_label = 'LMacro_03|D4_ratio'\n",
        "y_axis_label =  'LMacro_03|D2_ratio'\n",
        "\n",
        "reduced_features_reset = reduced_features.reset_index()\n",
        "\n",
        "fig = category_scatter(x=x_axis_label, y=y_axis_label, label_col='class', \n",
        "                       data=reduced_features_reset, legend_loc='upper left')\n",
        "\n",
        "feature_list = list(reduced_features.columns)\n",
        "\n",
        "two_features_data = reduced_features.iloc[:,[feature_list.index(x_axis_label),feature_list.index(y_axis_label)]]"
      ],
      "execution_count": 0,
      "outputs": [
        {
          "output_type": "display_data",
          "data": {
            "image/png": "[encoded data removed]",
            "text/plain": [
              "<Figure size 432x288 with 1 Axes>"
            ]
          },
          "metadata": {
            "tags": []
          }
        }
      ]
    },
    {
      "cell_type": "code",
      "metadata": {
        "id": "RB-TXAkPLt4d",
        "colab_type": "code",
        "outputId": "a1fcbf2c-b875-4d84-e844-d1151a48c842",
        "colab": {
          "base_uri": "https://localhost:8080/",
          "height": 581
        }
      },
      "source": [
        "from mlxtend.plotting import plot_decision_regions\n",
        "from sklearn.tree import DecisionTreeClassifier\n",
        "from sklearn.ensemble import RandomForestClassifier\n",
        "\n",
        "tree = DecisionTreeClassifier(criterion='gini',\n",
        "                              class_weight = 'balanced',\n",
        "                              random_state=RANDOM_STATE)\n",
        "\n",
        "tree_dict = {'Tree':tree, 'Forest':forest}\n",
        "\n",
        "for classifier_name in tree_dict:\n",
        "\n",
        "  tree_dict[classifier_name].fit(two_features_data.values, reduced_features_reset['class'].values)\n",
        "\n",
        "  plot_decision_regions(two_features_data.values,\n",
        "                        reduced_features_reset['class'].values,\n",
        "                        clf = tree_dict[classifier_name])\n",
        "\n",
        "  plt.xlabel(x_axis_label) \n",
        "  plt.ylabel(y_axis_label)\n",
        "  \n",
        "  print(color.BOLD+color.UNDERLINE+classifier_name+color.END)\n",
        "  plt.show()"
      ],
      "execution_count": 0,
      "outputs": [
        {
          "output_type": "stream",
          "text": [
            "\u001b[1m\u001b[4mTree\u001b[0m\n"
          ],
          "name": "stdout"
        },
        {
          "output_type": "display_data",
          "data": {
            "image/png": "[encoded data removed]",
            "text/plain": [
              "<Figure size 432x288 with 1 Axes>"
            ]
          },
          "metadata": {
            "tags": []
          }
        },
        {
          "output_type": "stream",
          "text": [
            "\u001b[1m\u001b[4mForest\u001b[0m\n"
          ],
          "name": "stdout"
        },
        {
          "output_type": "display_data",
          "data": {
            "image/png": "[encoded data removed]",
            "text/plain": [
              "<Figure size 432x288 with 1 Axes>"
            ]
          },
          "metadata": {
            "tags": []
          }
        }
      ]
    },
    {
      "cell_type": "markdown",
      "metadata": {
        "id": "SdHxjiiTMD7Y",
        "colab_type": "text"
      },
      "source": [
        "As well as Random forests, Extremely randomized trees<sup>1</sup> can also be used. These work similarly to Random forests except...\n",
        "\n",
        "\"*...instead of looking for the most discriminative thresholds, thresholds are drawn at random for each candidate feature and the best of these randomly-generated thresholds is picked as the splitting rule. This usually allows to reduce the variance of the model a bit more, at the expense of a slightly greater increase in bias*\"<sup>2</sup>.\n",
        "\n",
        "In this case it appears we are better served by the random forest.\n",
        "\n",
        "---\n",
        "1. Geurts, P., Ernst, D., & Wehenkel, L. (2006). Extremely randomized trees. Machine learning, 63(1), 3-42.\n",
        "2. https://scikit-learn.org/stable/modules/ensemble.html"
      ]
    },
    {
      "cell_type": "code",
      "metadata": {
        "id": "rChMSlnQ5COe",
        "colab_type": "code",
        "outputId": "a1d9e043-c3aa-4431-ada2-f72e2d34a53b",
        "colab": {
          "base_uri": "https://localhost:8080/",
          "height": 175
        }
      },
      "source": [
        "from sklearn.ensemble import ExtraTreesClassifier\n",
        "\n",
        "# create a forest classifier\n",
        "ETSC = ExtraTreesClassifier(criterion='gini',\n",
        "                            n_estimators=1000,\n",
        "                            max_features = 'sqrt',\n",
        "                            class_weight = 'balanced',\n",
        "                            random_state=RANDOM_STATE,\n",
        "                            n_jobs=-1)\n",
        "\n",
        "ETSC.fit(X_train, y_train)\n",
        "\n",
        "y_pred = ETSC.predict(X_val)\n",
        "\n",
        "display(pd.DataFrame(classification_report(y_val, y_pred, output_dict = True)))"
      ],
      "execution_count": 0,
      "outputs": [
        {
          "output_type": "display_data",
          "data": {
            "text/html": [
              "<div>\n",
              "<style scoped>\n",
              "    .dataframe tbody tr th:only-of-type {\n",
              "        vertical-align: middle;\n",
              "    }\n",
              "\n",
              "    .dataframe tbody tr th {\n",
              "        vertical-align: top;\n",
              "    }\n",
              "\n",
              "    .dataframe thead th {\n",
              "        text-align: right;\n",
              "    }\n",
              "</style>\n",
              "<table border=\"1\" class=\"dataframe\">\n",
              "  <thead>\n",
              "    <tr style=\"text-align: right;\">\n",
              "      <th></th>\n",
              "      <th>0</th>\n",
              "      <th>1</th>\n",
              "      <th>accuracy</th>\n",
              "      <th>macro avg</th>\n",
              "      <th>weighted avg</th>\n",
              "    </tr>\n",
              "  </thead>\n",
              "  <tbody>\n",
              "    <tr>\n",
              "      <th>precision</th>\n",
              "      <td>0.996283</td>\n",
              "      <td>0.857143</td>\n",
              "      <td>0.989399</td>\n",
              "      <td>0.926713</td>\n",
              "      <td>0.989891</td>\n",
              "    </tr>\n",
              "    <tr>\n",
              "      <th>recall</th>\n",
              "      <td>0.992593</td>\n",
              "      <td>0.923077</td>\n",
              "      <td>0.989399</td>\n",
              "      <td>0.957835</td>\n",
              "      <td>0.989399</td>\n",
              "    </tr>\n",
              "    <tr>\n",
              "      <th>f1-score</th>\n",
              "      <td>0.994434</td>\n",
              "      <td>0.888889</td>\n",
              "      <td>0.989399</td>\n",
              "      <td>0.941662</td>\n",
              "      <td>0.989586</td>\n",
              "    </tr>\n",
              "    <tr>\n",
              "      <th>support</th>\n",
              "      <td>270.000000</td>\n",
              "      <td>13.000000</td>\n",
              "      <td>0.989399</td>\n",
              "      <td>283.000000</td>\n",
              "      <td>283.000000</td>\n",
              "    </tr>\n",
              "  </tbody>\n",
              "</table>\n",
              "</div>"
            ],
            "text/plain": [
              "                    0          1  accuracy   macro avg  weighted avg\n",
              "precision    0.996283   0.857143  0.989399    0.926713      0.989891\n",
              "recall       0.992593   0.923077  0.989399    0.957835      0.989399\n",
              "f1-score     0.994434   0.888889  0.989399    0.941662      0.989586\n",
              "support    270.000000  13.000000  0.989399  283.000000    283.000000"
            ]
          },
          "metadata": {
            "tags": []
          }
        }
      ]
    },
    {
      "cell_type": "markdown",
      "metadata": {
        "id": "lE3i5YyZYQ9b",
        "colab_type": "text"
      },
      "source": [
        "It is also worth noting we have been dealing with the class imballance found in this data by using `class_weight = 'balanced'` to assign more importance to getting ictal data predictions correct. We can however also undersample using a ballanced random forest. Generally what performs better depends on the amount of data you are training on. If small then class wight will be better (as seen below), but if you have very large datasets, then undersampling will likely work better."
      ]
    },
    {
      "cell_type": "code",
      "metadata": {
        "id": "I47oe_3nYjLd",
        "colab_type": "code",
        "outputId": "0bf9d1ff-41f9-4b3b-ec76-f350e4327bd1",
        "colab": {
          "base_uri": "https://localhost:8080/",
          "height": 175
        }
      },
      "source": [
        "from imblearn.ensemble import BalancedRandomForestClassifier\n",
        "\n",
        "bal_forest = BalancedRandomForestClassifier(criterion='gini',\n",
        "                                            n_estimators=1000,\n",
        "                                            max_features = 'sqrt',\n",
        "                                            random_state=RANDOM_STATE,\n",
        "                                            n_jobs=-1\n",
        "                                            )\n",
        "bal_forest.fit(X_train, y_train)\n",
        "\n",
        "y_pred = bal_forest.predict(X_val)\n",
        "\n",
        "display(pd.DataFrame(classification_report(y_val, y_pred , output_dict = True)))"
      ],
      "execution_count": 0,
      "outputs": [
        {
          "output_type": "display_data",
          "data": {
            "text/html": [
              "<div>\n",
              "<style scoped>\n",
              "    .dataframe tbody tr th:only-of-type {\n",
              "        vertical-align: middle;\n",
              "    }\n",
              "\n",
              "    .dataframe tbody tr th {\n",
              "        vertical-align: top;\n",
              "    }\n",
              "\n",
              "    .dataframe thead th {\n",
              "        text-align: right;\n",
              "    }\n",
              "</style>\n",
              "<table border=\"1\" class=\"dataframe\">\n",
              "  <thead>\n",
              "    <tr style=\"text-align: right;\">\n",
              "      <th></th>\n",
              "      <th>0</th>\n",
              "      <th>1</th>\n",
              "      <th>accuracy</th>\n",
              "      <th>macro avg</th>\n",
              "      <th>weighted avg</th>\n",
              "    </tr>\n",
              "  </thead>\n",
              "  <tbody>\n",
              "    <tr>\n",
              "      <th>precision</th>\n",
              "      <td>1.000000</td>\n",
              "      <td>0.520000</td>\n",
              "      <td>0.957597</td>\n",
              "      <td>0.760000</td>\n",
              "      <td>0.977951</td>\n",
              "    </tr>\n",
              "    <tr>\n",
              "      <th>recall</th>\n",
              "      <td>0.955556</td>\n",
              "      <td>1.000000</td>\n",
              "      <td>0.957597</td>\n",
              "      <td>0.977778</td>\n",
              "      <td>0.957597</td>\n",
              "    </tr>\n",
              "    <tr>\n",
              "      <th>f1-score</th>\n",
              "      <td>0.977273</td>\n",
              "      <td>0.684211</td>\n",
              "      <td>0.957597</td>\n",
              "      <td>0.830742</td>\n",
              "      <td>0.963811</td>\n",
              "    </tr>\n",
              "    <tr>\n",
              "      <th>support</th>\n",
              "      <td>270.000000</td>\n",
              "      <td>13.000000</td>\n",
              "      <td>0.957597</td>\n",
              "      <td>283.000000</td>\n",
              "      <td>283.000000</td>\n",
              "    </tr>\n",
              "  </tbody>\n",
              "</table>\n",
              "</div>"
            ],
            "text/plain": [
              "                    0          1  accuracy   macro avg  weighted avg\n",
              "precision    1.000000   0.520000  0.957597    0.760000      0.977951\n",
              "recall       0.955556   1.000000  0.957597    0.977778      0.957597\n",
              "f1-score     0.977273   0.684211  0.957597    0.830742      0.963811\n",
              "support    270.000000  13.000000  0.957597  283.000000    283.000000"
            ]
          },
          "metadata": {
            "tags": []
          }
        }
      ]
    },
    {
      "cell_type": "markdown",
      "metadata": {
        "id": "Un_i8to47Bvo",
        "colab_type": "text"
      },
      "source": [
        "## Majority Voting\n",
        "\n",
        "As we have seen from bagging, a group of classifiers don't have to all be descision trees. Indeed Scikitlearn has a VotingClassifier where multipule classification pipelines can be combined to create an even better classifier that aggregates predictions. This aggregation can be done by simply selecting the class label that has been predicted by the majority of the classifiers (more than 50% of votes) for 'hard voting'. Majority vote refers to binary class decisions but can be generalized to a multi-class setting using 'plurality voting'. Particular classifiers return the probability of a predicted class label via the predict_proba method and this can be used for 'soft voting' instead of class labels<sup>1</sup>.\n",
        "\n",
        "Ensemble methods work best when the predictors are as independent as possible, so one way of achiving this is to get diverse classifiers. This increases the chance they each make different types of errors which in combination will improve the overall accuracy<sup>2</sup>.\n",
        "\n",
        "As can be seen below the soft majority voter has better scores than the hard voting method and better than most other methods individually when all are on their default settings. Soft voting often achives a higher performance than hard voting because highly confident votes are given more weight<sup>2</sup>.\n",
        "\n",
        "**NOTE**\n",
        "- with some hyper-parameter optimisation its likely we could increase the performance of the soft-majority vote.\n",
        "\n",
        "---\n",
        "1. Raschka, Sebastian, and Vahid Mirjalili. Python Machine Learning, 2nd Ed. Packt Publishing, 2017\n",
        "2. Géron, A. (2017). Hands-on machine learning with Scikit-Learn and TensorFlow: concepts, tools, and techniques to build intelligent systems. \" O'Reilly Media, Inc.\"."
      ]
    },
    {
      "cell_type": "code",
      "metadata": {
        "id": "voiasorB7hDn",
        "colab_type": "code",
        "outputId": "b69da767-92c8-4091-f980-25577047d534",
        "colab": {
          "base_uri": "https://localhost:8080/",
          "height": 474
        }
      },
      "source": [
        "%%time\n",
        "from sklearn.preprocessing import StandardScaler\n",
        "from sklearn.ensemble import VotingClassifier\n",
        "from sklearn.pipeline import Pipeline\n",
        "from sklearn.linear_model import LogisticRegression\n",
        "from sklearn.svm import SVC\n",
        "from sklearn.tree import DecisionTreeClassifier\n",
        "from sklearn.model_selection import cross_val_score\n",
        "from imblearn.under_sampling import NeighbourhoodCleaningRule\n",
        "from sklearn.decomposition import PCA\n",
        "import timeit\n",
        "from sklearn.model_selection import StratifiedKFold\n",
        "from sklearn.metrics import confusion_matrix, precision_score, recall_score, f1_score, accuracy_score, make_scorer\n",
        "\n",
        "clf1 = Pipeline([('scl', StandardScaler()),\n",
        "                 ('clf', SVC(kernel='rbf', \n",
        "                             gamma='auto',\n",
        "                             random_state=RANDOM_STATE, \n",
        "                             probability = True))])\n",
        "\n",
        "clf2 = Pipeline([('scl', StandardScaler()),\n",
        "                 ('clf', LogisticRegression(solver='liblinear',\n",
        "                                            random_state=RANDOM_STATE))\n",
        "])\n",
        "\n",
        "clf3 = DecisionTreeClassifier(random_state=RANDOM_STATE)\n",
        "\n",
        "clf_labels = ['SVM', # Support Vector Machine\n",
        "              'LR', # LogisticRegression\n",
        "              'DT'] # Decision Tree\n",
        "\n",
        "# Majority Rule Voting\n",
        "hard_mv_clf = VotingClassifier(estimators=[(clf_labels[0],clf1),\n",
        "                                           (clf_labels[1],clf2),\n",
        "                                           (clf_labels[2],clf3)],\n",
        "                               voting='hard')\n",
        "\n",
        "soft_mv_clf = VotingClassifier(estimators=[(clf_labels[0],clf1),\n",
        "                                           (clf_labels[1],clf2),\n",
        "                                           (clf_labels[2],clf3)],\n",
        "                               voting='soft')\n",
        "\n",
        "clf_labels += ['Hard Majority Voting', 'Soft Majority Voting']\n",
        "all_clf = [clf1, clf2, clf3, hard_mv_clf, soft_mv_clf]\n",
        "\n",
        "print(color.BOLD+color.UNDERLINE+'Validation Scores\\n'+color.END)\n",
        "for clf, label in zip(all_clf, clf_labels):\n",
        "    start = timeit.default_timer() # TIME STUFF\n",
        "    \n",
        "    clf.fit(X_train, y_train)\n",
        "\n",
        "    y_pred = clf.predict(X_val)\n",
        "    scores = f1_score(y_val, y_pred)\n",
        "    print(color.BOLD+label+color.END)\n",
        "    print(\"Score: %0.3f\"\n",
        "          % scores)\n",
        "    # TIME STUFF\n",
        "    stop = timeit.default_timer()\n",
        "    print(\"Run time:\", np.round((stop-start)/60,2),\"minutes\")\n",
        "    print()"
      ],
      "execution_count": 0,
      "outputs": [
        {
          "output_type": "stream",
          "text": [
            "\u001b[1m\u001b[4mValidation Scores\n",
            "\u001b[0m\n",
            "\u001b[1mSVM\u001b[0m\n",
            "Score: 0.889\n",
            "Run time: 0.12 minutes\n",
            "\n",
            "\u001b[1mLR\u001b[0m\n",
            "Score: 0.897\n",
            "Run time: 0.02 minutes\n",
            "\n",
            "\u001b[1mDT\u001b[0m\n",
            "Score: 0.727\n",
            "Run time: 0.03 minutes\n",
            "\n",
            "\u001b[1mHard Majority Voting\u001b[0m\n",
            "Score: 0.857\n",
            "Run time: 0.18 minutes\n",
            "\n",
            "\u001b[1mSoft Majority Voting\u001b[0m\n",
            "Score: 0.897\n",
            "Run time: 0.18 minutes\n",
            "\n",
            "CPU times: user 31.5 s, sys: 236 ms, total: 31.7 s\n",
            "Wall time: 31.6 s\n"
          ],
          "name": "stdout"
        }
      ]
    },
    {
      "cell_type": "code",
      "metadata": {
        "id": "ZIRQU_s17yq_",
        "colab_type": "code",
        "outputId": "2e3abff2-ad05-4b6a-8e8c-7840a7abb4b7",
        "colab": {
          "base_uri": "https://localhost:8080/",
          "height": 317
        }
      },
      "source": [
        "%%time\n",
        "from sklearn.metrics import roc_curve\n",
        "from sklearn.metrics import auc\n",
        "\n",
        "# remove the hard voting because doesnt have predict proba\n",
        "del clf_labels[3], all_clf[3]\n",
        "\n",
        "colors = ['black', 'orange', 'blue', 'green']\n",
        "linestyles = [':', '--', '-.', '-']\n",
        "for clf, label, clr, ls \\\n",
        "        in zip(all_clf,\n",
        "               clf_labels, colors, linestyles):\n",
        "\n",
        "    # assuming the label of the positive class is 1\n",
        "    y_pred = clf.fit(X_train, \n",
        "                          y_train).predict_proba(X_test)[:, 1]\n",
        "    fpr, tpr, thresholds = roc_curve(y_true=y_test,\n",
        "                                     y_score=y_pred)\n",
        "    roc_auc = auc(x=fpr, y=tpr)\n",
        "    plt.plot(fpr, tpr,\n",
        "             color=clr,\n",
        "             linestyle=ls,\n",
        "             label='%s (auc = %0.2f)' % (label, roc_auc))\n",
        "\n",
        "plt.legend(loc='lower right')\n",
        "plt.plot([0, 1], [0, 1],\n",
        "         linestyle='--',\n",
        "         color='gray',\n",
        "         linewidth=2)\n",
        "\n",
        "plt.xlim([-0.1, 1.1])\n",
        "plt.ylim([-0.1, 1.1])\n",
        "plt.grid(alpha=0.5)\n",
        "plt.xlabel('False positive rate (FPR)')\n",
        "plt.ylabel('True positive rate (TPR)')\n",
        "\n",
        "#plt.savefig(os.path.join(IMAGE_DIR, 'Pipeline_Rocs.png'), dpi=300)\n",
        "plt.show()"
      ],
      "execution_count": 0,
      "outputs": [
        {
          "output_type": "display_data",
          "data": {
            "image/png": "[encoded data removed]",
            "text/plain": [
              "<Figure size 432x288 with 1 Axes>"
            ]
          },
          "metadata": {
            "tags": []
          }
        },
        {
          "output_type": "stream",
          "text": [
            "CPU times: user 21.4 s, sys: 209 ms, total: 21.6 s\n",
            "Wall time: 21.5 s\n"
          ],
          "name": "stdout"
        }
      ]
    },
    {
      "cell_type": "markdown",
      "metadata": {
        "id": "1n1l_NO0bJOZ",
        "colab_type": "text"
      },
      "source": [
        "# Boosting Methods\n",
        "\n",
        "Boosting methods are typically weak estimators that are built sequentially with each estimator attempting to reduce the bias of the predecessor<sup>1</sup>. The weak learners often only have a slight performance advantage over random guessing, but by focusing on training samples that are hard to classify, the overall performance of the ensemble is improved<sup>2</sup>.\n",
        "\n",
        "Compared to bagging models, boosting can lead to a decrease in bias and variance, but algorithms such as AdaBoost are also known for overfitting to the training data (high variance)<sup>2</sup>.\n",
        "\n",
        "---\n",
        "1. Geron2017\n",
        "2. Python Machine Learning"
      ]
    },
    {
      "cell_type": "markdown",
      "metadata": {
        "id": "EDergkH6bNv6",
        "colab_type": "text"
      },
      "source": [
        "## AdaBoost\n",
        "\n",
        "For AdaBoost<sup>1</sup>, the first base classifier is trained to make predictions on the training set. Afterwards the weights of misclssified training instances are increased. A second classifier then is traind with these new weights and makes predictions. This is then repeated until all predictors are trained, wherein the ensemble makes predictions like bagging, except with weights depending on overall accuracy on the weighted training set <sup>2</sup>.\n",
        "\n",
        "**NOTES**\n",
        "- SVM's are generally not good predictors for AdaBoost due to being slow and unstable in this context<sup>2</sup>.\n",
        "- Boosting in this way tends to be slower than bagging as each tree needs to be grown sequentially as they depend on each other rather than able to be grown in parallel. As such I reduced the number of estimators for this example.\n",
        "\n",
        "---\n",
        "1. Freund, Y., & Schapire, R. E. (1997). A decision-theoretic generalization of on-line learning and an application to boosting. Journal of computer and system sciences, 55(1), 119-139.\n",
        "2. Geron2017"
      ]
    },
    {
      "cell_type": "code",
      "metadata": {
        "id": "5zJLkLiebOky",
        "colab_type": "code",
        "outputId": "0ab826b1-9dbe-484f-aa65-98a6710bb2ee",
        "colab": {
          "base_uri": "https://localhost:8080/",
          "height": 213
        }
      },
      "source": [
        "%%time\n",
        "from sklearn.tree import DecisionTreeClassifier\n",
        "from sklearn.ensemble import AdaBoostClassifier\n",
        "\n",
        "tree = DecisionTreeClassifier(criterion='gini', \n",
        "                              max_depth=1,\n",
        "                              random_state=RANDOM_STATE)\n",
        "\n",
        "ada = AdaBoostClassifier(base_estimator=tree,\n",
        "                         n_estimators=100, \n",
        "                         learning_rate=0.1,\n",
        "                         random_state=RANDOM_STATE)\n",
        "\n",
        "ada.fit(X_train, y_train)\n",
        "\n",
        "y_pred = ada.predict(X_val)\n",
        "\n",
        "display(pd.DataFrame(classification_report(y_val, y_pred , output_dict = True)))"
      ],
      "execution_count": 0,
      "outputs": [
        {
          "output_type": "display_data",
          "data": {
            "text/html": [
              "<div>\n",
              "<style scoped>\n",
              "    .dataframe tbody tr th:only-of-type {\n",
              "        vertical-align: middle;\n",
              "    }\n",
              "\n",
              "    .dataframe tbody tr th {\n",
              "        vertical-align: top;\n",
              "    }\n",
              "\n",
              "    .dataframe thead th {\n",
              "        text-align: right;\n",
              "    }\n",
              "</style>\n",
              "<table border=\"1\" class=\"dataframe\">\n",
              "  <thead>\n",
              "    <tr style=\"text-align: right;\">\n",
              "      <th></th>\n",
              "      <th>0</th>\n",
              "      <th>1</th>\n",
              "      <th>accuracy</th>\n",
              "      <th>macro avg</th>\n",
              "      <th>weighted avg</th>\n",
              "    </tr>\n",
              "  </thead>\n",
              "  <tbody>\n",
              "    <tr>\n",
              "      <th>precision</th>\n",
              "      <td>1.000000</td>\n",
              "      <td>0.928571</td>\n",
              "      <td>0.996466</td>\n",
              "      <td>0.964286</td>\n",
              "      <td>0.996719</td>\n",
              "    </tr>\n",
              "    <tr>\n",
              "      <th>recall</th>\n",
              "      <td>0.996296</td>\n",
              "      <td>1.000000</td>\n",
              "      <td>0.996466</td>\n",
              "      <td>0.998148</td>\n",
              "      <td>0.996466</td>\n",
              "    </tr>\n",
              "    <tr>\n",
              "      <th>f1-score</th>\n",
              "      <td>0.998145</td>\n",
              "      <td>0.962963</td>\n",
              "      <td>0.996466</td>\n",
              "      <td>0.980554</td>\n",
              "      <td>0.996529</td>\n",
              "    </tr>\n",
              "    <tr>\n",
              "      <th>support</th>\n",
              "      <td>270.000000</td>\n",
              "      <td>13.000000</td>\n",
              "      <td>0.996466</td>\n",
              "      <td>283.000000</td>\n",
              "      <td>283.000000</td>\n",
              "    </tr>\n",
              "  </tbody>\n",
              "</table>\n",
              "</div>"
            ],
            "text/plain": [
              "                    0          1  accuracy   macro avg  weighted avg\n",
              "precision    1.000000   0.928571  0.996466    0.964286      0.996719\n",
              "recall       0.996296   1.000000  0.996466    0.998148      0.996466\n",
              "f1-score     0.998145   0.962963  0.996466    0.980554      0.996529\n",
              "support    270.000000  13.000000  0.996466  283.000000    283.000000"
            ]
          },
          "metadata": {
            "tags": []
          }
        },
        {
          "output_type": "stream",
          "text": [
            "CPU times: user 29.2 s, sys: 9.28 ms, total: 29.2 s\n",
            "Wall time: 29.3 s\n"
          ],
          "name": "stdout"
        }
      ]
    },
    {
      "cell_type": "markdown",
      "metadata": {
        "id": "fN351ZFgcQCk",
        "colab_type": "text"
      },
      "source": [
        "## Gradient Boosting\n",
        "Gradient Boosting works similar to AdaBoost in that it sequentially adds predictors to correct predessessors in an ensemble. However instead of changing weights it fits a model to the residual errors<sup>1</sup>.\n",
        "\n",
        "Lets run through a quick example given in Geron (2017)<sup>1</sup>.\n",
        "\n",
        "---\n",
        "1. Geron2017"
      ]
    },
    {
      "cell_type": "code",
      "metadata": {
        "id": "Htzo4xq8cT4X",
        "colab_type": "code",
        "outputId": "9e7972f1-cecd-4dc5-eab1-5a164ab64991",
        "colab": {
          "base_uri": "https://localhost:8080/",
          "height": 175
        }
      },
      "source": [
        "from sklearn.tree import DecisionTreeClassifier\n",
        "from sklearn.metrics import classification_report\n",
        "\n",
        "tree_reg1 = DecisionTreeClassifier(max_depth=2, random_state=RANDOM_STATE)\n",
        "tree_reg1.fit(X_train, y_train)\n",
        "\n",
        "y_train2 = y_train - tree_reg1.predict(X_train)\n",
        "tree_reg2 = DecisionTreeClassifier(max_depth=2, random_state=RANDOM_STATE)\n",
        "tree_reg2.fit(X_train, y_train2)\n",
        "\n",
        "y_train3 = y_train2 - tree_reg2.predict(X_train)\n",
        "tree_reg3 = DecisionTreeClassifier(max_depth=2, random_state=RANDOM_STATE)\n",
        "tree_reg3.fit(X_train, y_train3)\n",
        "\n",
        "y_pred = sum(tree.predict(X_val) for tree in (tree_reg1, tree_reg2, tree_reg3))\n",
        "\n",
        "pd.DataFrame(classification_report(y_val, y_pred , output_dict =True))"
      ],
      "execution_count": 0,
      "outputs": [
        {
          "output_type": "execute_result",
          "data": {
            "text/html": [
              "<div>\n",
              "<style scoped>\n",
              "    .dataframe tbody tr th:only-of-type {\n",
              "        vertical-align: middle;\n",
              "    }\n",
              "\n",
              "    .dataframe tbody tr th {\n",
              "        vertical-align: top;\n",
              "    }\n",
              "\n",
              "    .dataframe thead th {\n",
              "        text-align: right;\n",
              "    }\n",
              "</style>\n",
              "<table border=\"1\" class=\"dataframe\">\n",
              "  <thead>\n",
              "    <tr style=\"text-align: right;\">\n",
              "      <th></th>\n",
              "      <th>0</th>\n",
              "      <th>1</th>\n",
              "      <th>accuracy</th>\n",
              "      <th>macro avg</th>\n",
              "      <th>weighted avg</th>\n",
              "    </tr>\n",
              "  </thead>\n",
              "  <tbody>\n",
              "    <tr>\n",
              "      <th>precision</th>\n",
              "      <td>0.996269</td>\n",
              "      <td>0.800000</td>\n",
              "      <td>0.985866</td>\n",
              "      <td>0.898134</td>\n",
              "      <td>0.987253</td>\n",
              "    </tr>\n",
              "    <tr>\n",
              "      <th>recall</th>\n",
              "      <td>0.988889</td>\n",
              "      <td>0.923077</td>\n",
              "      <td>0.985866</td>\n",
              "      <td>0.955983</td>\n",
              "      <td>0.985866</td>\n",
              "    </tr>\n",
              "    <tr>\n",
              "      <th>f1-score</th>\n",
              "      <td>0.992565</td>\n",
              "      <td>0.857143</td>\n",
              "      <td>0.985866</td>\n",
              "      <td>0.924854</td>\n",
              "      <td>0.986344</td>\n",
              "    </tr>\n",
              "    <tr>\n",
              "      <th>support</th>\n",
              "      <td>270.000000</td>\n",
              "      <td>13.000000</td>\n",
              "      <td>0.985866</td>\n",
              "      <td>283.000000</td>\n",
              "      <td>283.000000</td>\n",
              "    </tr>\n",
              "  </tbody>\n",
              "</table>\n",
              "</div>"
            ],
            "text/plain": [
              "                    0          1  accuracy   macro avg  weighted avg\n",
              "precision    0.996269   0.800000  0.985866    0.898134      0.987253\n",
              "recall       0.988889   0.923077  0.985866    0.955983      0.985866\n",
              "f1-score     0.992565   0.857143  0.985866    0.924854      0.986344\n",
              "support    270.000000  13.000000  0.985866  283.000000    283.000000"
            ]
          },
          "metadata": {
            "tags": []
          },
          "execution_count": 26
        }
      ]
    },
    {
      "cell_type": "markdown",
      "metadata": {
        "id": "7-Vyk3cceaF7",
        "colab_type": "text"
      },
      "source": [
        "A simpler way is to use the GradientBoostingClassifier. The learning rate hyperparameter scales the contribution of each tree. If it is set low, you will need more trees but it will typically generalize better (shrinkage)<sup>1</sup>.\n",
        "\n",
        "---\n",
        "1. Geron2017"
      ]
    },
    {
      "cell_type": "code",
      "metadata": {
        "id": "QYs9gS24eavV",
        "colab_type": "code",
        "outputId": "1d447140-71c2-43cb-8f3a-024c716954d5",
        "colab": {
          "base_uri": "https://localhost:8080/",
          "height": 175
        }
      },
      "source": [
        "from sklearn.ensemble import GradientBoostingClassifier\n",
        "\n",
        "GBC = GradientBoostingClassifier(max_depth = 2, n_estimators=3, \n",
        "                                 learning_rate=1.0, random_state=RANDOM_STATE)\n",
        "GBC.fit(X_train, y_train)\n",
        "y_pred = GBC.predict(X_val)\n",
        "pd.DataFrame(classification_report(y_val, y_pred , output_dict = True))"
      ],
      "execution_count": 0,
      "outputs": [
        {
          "output_type": "execute_result",
          "data": {
            "text/html": [
              "<div>\n",
              "<style scoped>\n",
              "    .dataframe tbody tr th:only-of-type {\n",
              "        vertical-align: middle;\n",
              "    }\n",
              "\n",
              "    .dataframe tbody tr th {\n",
              "        vertical-align: top;\n",
              "    }\n",
              "\n",
              "    .dataframe thead th {\n",
              "        text-align: right;\n",
              "    }\n",
              "</style>\n",
              "<table border=\"1\" class=\"dataframe\">\n",
              "  <thead>\n",
              "    <tr style=\"text-align: right;\">\n",
              "      <th></th>\n",
              "      <th>0</th>\n",
              "      <th>1</th>\n",
              "      <th>accuracy</th>\n",
              "      <th>macro avg</th>\n",
              "      <th>weighted avg</th>\n",
              "    </tr>\n",
              "  </thead>\n",
              "  <tbody>\n",
              "    <tr>\n",
              "      <th>precision</th>\n",
              "      <td>0.996269</td>\n",
              "      <td>0.800000</td>\n",
              "      <td>0.985866</td>\n",
              "      <td>0.898134</td>\n",
              "      <td>0.987253</td>\n",
              "    </tr>\n",
              "    <tr>\n",
              "      <th>recall</th>\n",
              "      <td>0.988889</td>\n",
              "      <td>0.923077</td>\n",
              "      <td>0.985866</td>\n",
              "      <td>0.955983</td>\n",
              "      <td>0.985866</td>\n",
              "    </tr>\n",
              "    <tr>\n",
              "      <th>f1-score</th>\n",
              "      <td>0.992565</td>\n",
              "      <td>0.857143</td>\n",
              "      <td>0.985866</td>\n",
              "      <td>0.924854</td>\n",
              "      <td>0.986344</td>\n",
              "    </tr>\n",
              "    <tr>\n",
              "      <th>support</th>\n",
              "      <td>270.000000</td>\n",
              "      <td>13.000000</td>\n",
              "      <td>0.985866</td>\n",
              "      <td>283.000000</td>\n",
              "      <td>283.000000</td>\n",
              "    </tr>\n",
              "  </tbody>\n",
              "</table>\n",
              "</div>"
            ],
            "text/plain": [
              "                    0          1  accuracy   macro avg  weighted avg\n",
              "precision    0.996269   0.800000  0.985866    0.898134      0.987253\n",
              "recall       0.988889   0.923077  0.985866    0.955983      0.985866\n",
              "f1-score     0.992565   0.857143  0.985866    0.924854      0.986344\n",
              "support    270.000000  13.000000  0.985866  283.000000    283.000000"
            ]
          },
          "metadata": {
            "tags": []
          },
          "execution_count": 27
        }
      ]
    },
    {
      "cell_type": "markdown",
      "metadata": {
        "id": "NUwBkBtEelyy",
        "colab_type": "text"
      },
      "source": [
        "Early stopping can be used to find the optimal number of trees, using the staged_predict() method; which returns an iterator over the predictions made by the ensemble at each training stage<sup>1</sup>.\n",
        "\n",
        "---\n",
        "1. Geron2017"
      ]
    },
    {
      "cell_type": "code",
      "metadata": {
        "id": "3VOWWk07eqPy",
        "colab_type": "code",
        "outputId": "2f1c1187-ff83-47d6-d8b0-be390473c791",
        "colab": {
          "base_uri": "https://localhost:8080/",
          "height": 207
        }
      },
      "source": [
        "from sklearn.metrics import accuracy_score\n",
        "\n",
        "GBC = GradientBoostingClassifier(max_depth = 2, n_estimators =30)\n",
        "GBC.fit(X_train, y_train)\n",
        "\n",
        "scores = [accuracy_score(y_val, y_pred) \n",
        "          for y_pred in GBC.staged_predict(X_val)]\n",
        "bst_n_estimators = np.argmax(scores)\n",
        "\n",
        "GBC_best = GradientBoostingClassifier(max_depth = 2, \n",
        "                                      n_estimators = bst_n_estimators,\n",
        "                                      random_state = RANDOM_STATE)\n",
        "GBC_best.fit(X_train, y_train)"
      ],
      "execution_count": 0,
      "outputs": [
        {
          "output_type": "execute_result",
          "data": {
            "text/plain": [
              "GradientBoostingClassifier(ccp_alpha=0.0, criterion='friedman_mse', init=None,\n",
              "                           learning_rate=0.1, loss='deviance', max_depth=2,\n",
              "                           max_features=None, max_leaf_nodes=None,\n",
              "                           min_impurity_decrease=0.0, min_impurity_split=None,\n",
              "                           min_samples_leaf=1, min_samples_split=2,\n",
              "                           min_weight_fraction_leaf=0.0, n_estimators=9,\n",
              "                           n_iter_no_change=None, presort='deprecated',\n",
              "                           random_state=0, subsample=1.0, tol=0.0001,\n",
              "                           validation_fraction=0.1, verbose=0,\n",
              "                           warm_start=False)"
            ]
          },
          "metadata": {
            "tags": []
          },
          "execution_count": 28
        }
      ]
    },
    {
      "cell_type": "markdown",
      "metadata": {
        "id": "2BAiwc7De_Iz",
        "colab_type": "text"
      },
      "source": [
        "**Notes**\n",
        "- Adapted from https://github.com/ageron/handson-ml/blob/master/07_ensemble_learning_and_random_forests.ipynb"
      ]
    },
    {
      "cell_type": "code",
      "metadata": {
        "id": "ULoTBxvje6Pq",
        "colab_type": "code",
        "outputId": "f3a00446-8748-4476-a2df-748f5394a10c",
        "colab": {
          "base_uri": "https://localhost:8080/",
          "height": 296
        }
      },
      "source": [
        "worst_score = np.min(scores)\n",
        "best_score = np.max(scores)\n",
        "\n",
        "plt.plot(scores, \"b.-\")\n",
        "plt.plot([0, 30], [best_score, best_score], \"k--\")\n",
        "plt.plot(bst_n_estimators, best_score, \"ko\")\n",
        "plt.plot([bst_n_estimators, bst_n_estimators], [worst_score, best_score], \"k--\")\n",
        "plt.text(bst_n_estimators+1.5, best_score-0.005, \"Best\", ha=\"center\", fontsize=14)\n",
        "plt.xlabel(\"Number of trees\")\n",
        "plt.title(\"Accuracy\", fontsize=14)\n",
        "\n",
        "plt.show()"
      ],
      "execution_count": 0,
      "outputs": [
        {
          "output_type": "display_data",
          "data": {
            "image/png": "[encoded data removed]",
            "text/plain": [
              "<Figure size 432x288 with 1 Axes>"
            ]
          },
          "metadata": {
            "tags": []
          }
        }
      ]
    },
    {
      "cell_type": "markdown",
      "metadata": {
        "id": "OQBedRT3faPV",
        "colab_type": "text"
      },
      "source": [
        "Rather than training a large number of trees then looking back to find the best number you can use *warm_start=True* to keep using the existing trees when fit is called allowing incremental training<sup>1</sup>.\n",
        "\n",
        "We can also use a *subsample* hyperparameter to specify the fraction of training instances used for each tree (Stochastic Gradient Boosting). This trades a higher bias for lower variance and speeds up training.\n",
        "\n",
        "---\n",
        "1. Geron2017"
      ]
    },
    {
      "cell_type": "code",
      "metadata": {
        "id": "EOHPyEzifdgA",
        "colab_type": "code",
        "outputId": "b955cada-c0e5-4511-91f5-f32d1d2ed0dc",
        "colab": {
          "base_uri": "https://localhost:8080/",
          "height": 55
        }
      },
      "source": [
        "gbrt = GradientBoostingClassifier(max_depth=2, warm_start=True, subsample = 0.5, random_state=RANDOM_STATE)\n",
        "\n",
        "max_val_score = float(0)\n",
        "score_not_going_up = 0\n",
        "for n_estimators in range(1, 120):\n",
        "    gbrt.n_estimators = n_estimators\n",
        "    gbrt.fit(X_train, y_train)\n",
        "    y_pred = gbrt.predict(X_val)\n",
        "    val_score = accuracy_score(y_val, y_pred)\n",
        "    if val_score > max_val_score:\n",
        "        max_val_score = val_score\n",
        "        score_not_going_up = 0\n",
        "    else:\n",
        "        score_not_going_up += 1\n",
        "        if score_not_going_up == 5:\n",
        "            break  # early stopping\n",
        "            \n",
        "print(\"Number of estimators:\", gbrt.n_estimators)\n",
        "print(\"Maximum Accuracy:\", max_val_score)"
      ],
      "execution_count": 0,
      "outputs": [
        {
          "output_type": "stream",
          "text": [
            "Number of estimators: 10\n",
            "Maximum Accuracy: 0.9858657243816255\n"
          ],
          "name": "stdout"
        }
      ]
    },
    {
      "cell_type": "markdown",
      "metadata": {
        "id": "rz6JILNbfsRB",
        "colab_type": "text"
      },
      "source": [
        "### XgBoost\n",
        "\n",
        "Two very effective, efficient, and parallelizable algorithms, that are popular at time of writing are XGBoost<sup>2</sup> and lightGBM<sup>3</sup>. Both algorithms improve upon basic gradient boosted decision tree (GBDT) algorithms in a number of ways. \n",
        "\n",
        "Both algorithms...\n",
        "- ...can grow trees leaf-wise, so that each split is in the leaf that reduces the most loss, rather than a level-wise strategy, which maintains a more balanced tree with splits generally increasing as the levels increase. Although leaf-wise training is more prone to overfitting, it is more flexible and applicable to large datasets. \n",
        "- ...allow for methods for finding the best split of features for each leaf, such as histogram-based bin sampling and ignoring sparse inputs. Histogram-based methods subsample the number of splits evaluated by a model by grouping features into a set of bins before building each tree. \n",
        "\n",
        "For specifics look into https://xgboost.readthedocs.io/en/latest/tutorials/model.html\n",
        "\n",
        "As can be seen it has a similar/better performance to adaboost but is much faster to compute\n",
        "\n",
        "**TODO**\n",
        "- improve this and the LGBM sections as these are really good models. Until I have written this up look at the following links below for more info:\n",
        "  - https://medium.com/@am.sharma/lgbm-on-colab-with-gpu-c1c09e83f2af\n",
        "  - https://devblogs.nvidia.com/gradient-boosting-decision-trees-xgboost-cuda/\n",
        "  - http://mlexplained.com/2018/01/05/lightgbm-and-xgboost-explained/\n",
        "  - https://machinelearningmastery.com/gentle-introduction-xgboost-applied-machine-learning/\n",
        "  - https://www.kaggle.com/stuarthallows/using-xgboost-with-scikit-learn\n",
        "  - https://www.datacamp.com/community/tutorials/xgboost-in-python\n",
        "    \n",
        "---\n",
        "1. https://machinelearningmastery.com/gentle-introduction-xgboost-applied-machine-learning/\n",
        "2. Chen2016\n",
        "3. Ke2017"
      ]
    },
    {
      "cell_type": "code",
      "metadata": {
        "id": "EELSbEsugAWZ",
        "colab_type": "code",
        "outputId": "5c9b6036-1ac8-46dd-e9f6-9b61d2e04451",
        "colab": {
          "base_uri": "https://localhost:8080/",
          "height": 36
        }
      },
      "source": [
        "from xgboost import XGBClassifier\n",
        "\n",
        "%timeit XGBClassifier(n_estimators =10, random_state=RANDOM_STATE).fit(X_train, y_train)"
      ],
      "execution_count": 0,
      "outputs": [
        {
          "output_type": "stream",
          "text": [
            "1 loop, best of 3: 1.03 s per loop\n"
          ],
          "name": "stdout"
        }
      ]
    },
    {
      "cell_type": "code",
      "metadata": {
        "id": "3Fj4pPdtgKVc",
        "colab_type": "code",
        "outputId": "272d9e6f-9d13-422e-f596-0de6f1fac52f",
        "colab": {
          "base_uri": "https://localhost:8080/",
          "height": 36
        }
      },
      "source": [
        "%timeit AdaBoostClassifier(n_estimators =10, random_state=RANDOM_STATE).fit(X_train, y_train)"
      ],
      "execution_count": 0,
      "outputs": [
        {
          "output_type": "stream",
          "text": [
            "1 loop, best of 3: 2.95 s per loop\n"
          ],
          "name": "stdout"
        }
      ]
    },
    {
      "cell_type": "code",
      "metadata": {
        "id": "5q4_t_MkgC8_",
        "colab_type": "code",
        "outputId": "7653e8c4-9e79-4433-f30d-1b51f8d9ed15",
        "colab": {
          "base_uri": "https://localhost:8080/",
          "height": 36
        }
      },
      "source": [
        "%timeit GradientBoostingClassifier(n_estimators =10, random_state=RANDOM_STATE).fit(X_train, y_train)"
      ],
      "execution_count": 0,
      "outputs": [
        {
          "output_type": "stream",
          "text": [
            "1 loop, best of 3: 7.49 s per loop\n"
          ],
          "name": "stdout"
        }
      ]
    },
    {
      "cell_type": "code",
      "metadata": {
        "id": "ryPAdDN8ftmW",
        "colab_type": "code",
        "outputId": "16afd642-5af1-47b4-e60f-3b51ef471aa3",
        "colab": {
          "base_uri": "https://localhost:8080/",
          "height": 175
        }
      },
      "source": [
        "XGmodel = XGBClassifier(max_depth = 3,\n",
        "                        learning_rate = 0.1, \n",
        "                        n_estimators=500,\n",
        "                        booster = 'gbtree',\n",
        "                        n_jobs =-1,\n",
        "                        random_state=RANDOM_STATE)\n",
        "\n",
        "XGmodel.fit(X_train, y_train)\n",
        "\n",
        "y_pred = XGmodel.predict(X_val)\n",
        "\n",
        "display(pd.DataFrame(classification_report(y_val, y_pred , output_dict = True)))"
      ],
      "execution_count": 0,
      "outputs": [
        {
          "output_type": "display_data",
          "data": {
            "text/html": [
              "<div>\n",
              "<style scoped>\n",
              "    .dataframe tbody tr th:only-of-type {\n",
              "        vertical-align: middle;\n",
              "    }\n",
              "\n",
              "    .dataframe tbody tr th {\n",
              "        vertical-align: top;\n",
              "    }\n",
              "\n",
              "    .dataframe thead th {\n",
              "        text-align: right;\n",
              "    }\n",
              "</style>\n",
              "<table border=\"1\" class=\"dataframe\">\n",
              "  <thead>\n",
              "    <tr style=\"text-align: right;\">\n",
              "      <th></th>\n",
              "      <th>0</th>\n",
              "      <th>1</th>\n",
              "      <th>accuracy</th>\n",
              "      <th>macro avg</th>\n",
              "      <th>weighted avg</th>\n",
              "    </tr>\n",
              "  </thead>\n",
              "  <tbody>\n",
              "    <tr>\n",
              "      <th>precision</th>\n",
              "      <td>1.000000</td>\n",
              "      <td>0.928571</td>\n",
              "      <td>0.996466</td>\n",
              "      <td>0.964286</td>\n",
              "      <td>0.996719</td>\n",
              "    </tr>\n",
              "    <tr>\n",
              "      <th>recall</th>\n",
              "      <td>0.996296</td>\n",
              "      <td>1.000000</td>\n",
              "      <td>0.996466</td>\n",
              "      <td>0.998148</td>\n",
              "      <td>0.996466</td>\n",
              "    </tr>\n",
              "    <tr>\n",
              "      <th>f1-score</th>\n",
              "      <td>0.998145</td>\n",
              "      <td>0.962963</td>\n",
              "      <td>0.996466</td>\n",
              "      <td>0.980554</td>\n",
              "      <td>0.996529</td>\n",
              "    </tr>\n",
              "    <tr>\n",
              "      <th>support</th>\n",
              "      <td>270.000000</td>\n",
              "      <td>13.000000</td>\n",
              "      <td>0.996466</td>\n",
              "      <td>283.000000</td>\n",
              "      <td>283.000000</td>\n",
              "    </tr>\n",
              "  </tbody>\n",
              "</table>\n",
              "</div>"
            ],
            "text/plain": [
              "                    0          1  accuracy   macro avg  weighted avg\n",
              "precision    1.000000   0.928571  0.996466    0.964286      0.996719\n",
              "recall       0.996296   1.000000  0.996466    0.998148      0.996466\n",
              "f1-score     0.998145   0.962963  0.996466    0.980554      0.996529\n",
              "support    270.000000  13.000000  0.996466  283.000000    283.000000"
            ]
          },
          "metadata": {
            "tags": []
          }
        }
      ]
    },
    {
      "cell_type": "markdown",
      "metadata": {
        "id": "MNucdBnlgjIo",
        "colab_type": "text"
      },
      "source": [
        "### LightGBM\n",
        "\n",
        "LightGBM provides additional methods than XGBoost for finding the best split of features for each leaf include data subsampling and exclusive feature bundling.\n",
        "\n",
        "Gradient-based one-side sampling, available in lightGBM, concentrates on data points with larger gradients rather than data points that contribute less to training. In order to ensure ignoring small gradients does not lead to biased sampling, data with small gradients are randomly sampled and these samples are given increased weight when assessing their contribution to the change in loss. \n",
        "\n",
        "**TODO**\n",
        "- add about the GPU enabled versions\n",
        "\n",
        "**NOTE**\n",
        "- `neg_bagging_fraction` is not available in Gradient-based one-side sampling\n",
        "\n",
        "https://lightgbm.readthedocs.io/en/latest/index.html"
      ]
    },
    {
      "cell_type": "code",
      "metadata": {
        "id": "_dXpfAI9pkcd",
        "colab_type": "code",
        "outputId": "447165da-2210-4576-dd4c-543f8621430c",
        "colab": {
          "base_uri": "https://localhost:8080/",
          "height": 36
        }
      },
      "source": [
        "from lightgbm import LGBMClassifier\n",
        "\n",
        "%timeit LGBMClassifier(n_estimators =10, random_state=RANDOM_STATE).fit(X_train, y_train)"
      ],
      "execution_count": 0,
      "outputs": [
        {
          "output_type": "stream",
          "text": [
            "1 loop, best of 3: 2 s per loop\n"
          ],
          "name": "stdout"
        }
      ]
    },
    {
      "cell_type": "code",
      "metadata": {
        "id": "icAkNV3NlIT8",
        "colab_type": "code",
        "outputId": "bc43a9e8-362a-47dc-8c5b-bdf8a87f0e82",
        "colab": {
          "base_uri": "https://localhost:8080/",
          "height": 175
        }
      },
      "source": [
        "LGBM_model = LGBMClassifier(boosting_type='gbdt',  \n",
        "                            max_depth=3,\n",
        "                            n_estimators=500, \n",
        "                            random_state=RANDOM_STATE,\n",
        "                            neg_bagging_fraction = 0.5, # for subsampling interictal data\n",
        "                            n_jobs =-1,\n",
        "                            bagging_seed = RANDOM_STATE)\n",
        "\n",
        "LGBM_model.fit(X_train, y_train)\n",
        "\n",
        "y_pred = LGBM_model.predict(X_val)\n",
        "\n",
        "display(pd.DataFrame(classification_report(y_val, y_pred , output_dict = True)))"
      ],
      "execution_count": 0,
      "outputs": [
        {
          "output_type": "display_data",
          "data": {
            "text/html": [
              "<div>\n",
              "<style scoped>\n",
              "    .dataframe tbody tr th:only-of-type {\n",
              "        vertical-align: middle;\n",
              "    }\n",
              "\n",
              "    .dataframe tbody tr th {\n",
              "        vertical-align: top;\n",
              "    }\n",
              "\n",
              "    .dataframe thead th {\n",
              "        text-align: right;\n",
              "    }\n",
              "</style>\n",
              "<table border=\"1\" class=\"dataframe\">\n",
              "  <thead>\n",
              "    <tr style=\"text-align: right;\">\n",
              "      <th></th>\n",
              "      <th>0</th>\n",
              "      <th>1</th>\n",
              "      <th>accuracy</th>\n",
              "      <th>macro avg</th>\n",
              "      <th>weighted avg</th>\n",
              "    </tr>\n",
              "  </thead>\n",
              "  <tbody>\n",
              "    <tr>\n",
              "      <th>precision</th>\n",
              "      <td>1.000000</td>\n",
              "      <td>0.928571</td>\n",
              "      <td>0.996466</td>\n",
              "      <td>0.964286</td>\n",
              "      <td>0.996719</td>\n",
              "    </tr>\n",
              "    <tr>\n",
              "      <th>recall</th>\n",
              "      <td>0.996296</td>\n",
              "      <td>1.000000</td>\n",
              "      <td>0.996466</td>\n",
              "      <td>0.998148</td>\n",
              "      <td>0.996466</td>\n",
              "    </tr>\n",
              "    <tr>\n",
              "      <th>f1-score</th>\n",
              "      <td>0.998145</td>\n",
              "      <td>0.962963</td>\n",
              "      <td>0.996466</td>\n",
              "      <td>0.980554</td>\n",
              "      <td>0.996529</td>\n",
              "    </tr>\n",
              "    <tr>\n",
              "      <th>support</th>\n",
              "      <td>270.000000</td>\n",
              "      <td>13.000000</td>\n",
              "      <td>0.996466</td>\n",
              "      <td>283.000000</td>\n",
              "      <td>283.000000</td>\n",
              "    </tr>\n",
              "  </tbody>\n",
              "</table>\n",
              "</div>"
            ],
            "text/plain": [
              "                    0          1  accuracy   macro avg  weighted avg\n",
              "precision    1.000000   0.928571  0.996466    0.964286      0.996719\n",
              "recall       0.996296   1.000000  0.996466    0.998148      0.996466\n",
              "f1-score     0.998145   0.962963  0.996466    0.980554      0.996529\n",
              "support    270.000000  13.000000  0.996466  283.000000    283.000000"
            ]
          },
          "metadata": {
            "tags": []
          }
        }
      ]
    },
    {
      "cell_type": "markdown",
      "metadata": {
        "id": "HuBtOyK0pBFy",
        "colab_type": "text"
      },
      "source": [
        "Another package of note is CatBoost<sup>1,2</sup>, which makes improvements on the handling of categorical features and has been shown to be quicker on some datasets than XGBoost and LightGBM. However, although in both industrial and academic applications gradient boosted trees are becoming known as consistently strong performing classifiers, the interpretability of final model is still worse than more basic models such as decision trees.\n",
        "\n",
        "---\n",
        "1. Dorogush2018\n",
        "2. Prokhorenkova2018"
      ]
    },
    {
      "cell_type": "markdown",
      "metadata": {
        "id": "9shVAE4xmuz6",
        "colab_type": "text"
      },
      "source": [
        "# Exercises\n",
        "\n",
        "Below are a few suggested exercises that may help improve your skills.\n",
        "\n",
        "1. compare boosting and pasting models\n",
        "\n",
        "2. Weight classifiers in terms of importance. Weight the best to worst classifiers based on other notebooks outcomes to see if this improves performance. This can be done in the VotingClassifier using a variable called 'weight' followed by a list of the wieghtng order (e.g. [1,2,3])\n",
        "\n",
        "3. load machine learning instances from previous notebooks and put them into a voting classifier\n",
        "\n",
        "4. look for optimal hyperparameters using optimisation techniques\n",
        "\n",
        "5. test models on all patients in a patient specific manner (patient independent is tricky because all the channels are different for each patient)"
      ]
    },
    {
      "cell_type": "markdown",
      "metadata": {
        "id": "YvFvkeckGBou",
        "colab_type": "text"
      },
      "source": [
        "# Extra"
      ]
    },
    {
      "cell_type": "markdown",
      "metadata": {
        "id": "Z-dKEYZV6n8f",
        "colab_type": "text"
      },
      "source": [
        "## Plot Missclassified\n",
        "\n",
        "Lets have a look at the samples that were missclasified. You will need the full data downloaded for this to work (rather than just the feature df), so because that takes a while I've made this an extra part.\n",
        "\n",
        "**TODO**\n",
        "- get this code working again"
      ]
    },
    {
      "cell_type": "code",
      "metadata": {
        "id": "daTZPSU-6-tO",
        "colab_type": "code",
        "colab": {}
      },
      "source": [
        "import mne \n",
        "from scipy.io import loadmat\n",
        "\n",
        "\n",
        "def mat_to_mne(file_path):\n",
        "    mat = loadmat(file_path)  # load mat-file\n",
        "    \n",
        "    data = mat['data']  # variable in mat file\n",
        "    channels = mat['channels']  # dtypes of structures are \"unsized objects\"\n",
        "    freq = mat['freq'][0]\n",
        "\n",
        "    channels_list = []\n",
        "    for channel_array in channels[0][0]:\n",
        "        channels_list.append(channel_array[0])\n",
        "\n",
        "    df = pd.DataFrame(data,\n",
        "                      index=channels_list)\n",
        "\n",
        "    df = df.T\n",
        "    \n",
        "    info = mne.create_info(ch_names=list(df.columns), \n",
        "                               sfreq=freq, \n",
        "                               ch_types=['eeg']*df.shape[-1])\n",
        "    \n",
        "    df = df.apply(lambda x: x*1e-6) # data needs to be in volts rather than in microvolts (which it currently is)\n",
        "    # transpose the data\n",
        "    data_T = df.transpose()\n",
        "    # create raw mne object\n",
        "    raw = mne.io.RawArray(data_T, info)\n",
        "    \n",
        "    return raw\n",
        "\n",
        "\n",
        "def plot_missclassified(predicted, y_test, test_index_list, file_list, plot_kwargs):\n",
        "\n",
        "    for index, class_no in enumerate(predicted):\n",
        "        if class_no != y_test[index]:\n",
        "            file_path = file_list[test_index_list[index]]\n",
        "            \n",
        "            raw = mat_to_mne(file_path)\n",
        "\n",
        "            raw.plot(**plot_kwargs)\n",
        "            \n",
        "\n",
        "plot_kwargs = {\n",
        "    #'scalings': dict(eeg=20e-5),   # zooms the plot out\n",
        "    'highpass': 0.5,              # filters out low frequencies\n",
        "    'lowpass': 40.,                # filters out high frequencies\n",
        "    }\n",
        "\n",
        "index_train, index_test = train_test_split(list(range(0,len(data_x))), test_size=TEST_SIZE, random_state=RANDOM_STATE)\n",
        "            \n",
        "plot_missclassified(forest_predicted, y_test, index_test, file_list(os.path.join(os.path.join(dir_file_list[1], '*'))), plot_kwargs)"
      ],
      "execution_count": 0,
      "outputs": []
    },
    {
      "cell_type": "markdown",
      "metadata": {
        "id": "-EX0KJVwmvoI",
        "colab_type": "text"
      },
      "source": [
        "# License\n",
        "\n",
        "<a rel=\"license\" href=\"http://creativecommons.org/licenses/by-nc/4.0/\"><img alt=\"Creative Commons License\" style=\"border-width:0\" src=\"https://i.creativecommons.org/l/by-nc/4.0/88x31.png\" /></a><br />This work is licensed under a <a rel=\"license\" href=\"http://creativecommons.org/licenses/by-nc/4.0/\">Creative Commons Attribution-NonCommercial 4.0 International License</a>."
      ]
    }
  ]
}