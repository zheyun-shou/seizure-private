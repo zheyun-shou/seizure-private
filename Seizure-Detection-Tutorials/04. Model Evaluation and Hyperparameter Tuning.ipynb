{
  "nbformat": 4,
  "nbformat_minor": 0,
  "metadata": {
    "colab": {
      "name": "04. Model Evaluation and Hyperparameter Tuning.ipynb",
      "provenance": [],
      "collapsed_sections": [],
      "toc_visible": true,
      "include_colab_link": true
    },
    "kernelspec": {
      "name": "python3",
      "display_name": "Python 3"
    }
  },
  "cells": [
    {
      "cell_type": "markdown",
      "metadata": {
        "id": "view-in-github",
        "colab_type": "text"
      },
      "source": [
        "<a href=\"https://colab.research.google.com/github/Eldave93/Seizure-Detection-Tutorials/blob/master/04.%20Model%20Evaluation%20and%20Hyperparameter%20Tuning.ipynb\" target=\"_parent\"><img src=\"https://colab.research.google.com/assets/colab-badge.svg\" alt=\"Open In Colab\"/></a>"
      ]
    },
    {
      "cell_type": "markdown",
      "metadata": {
        "id": "Ec1FIPYtlPu3",
        "colab_type": "text"
      },
      "source": [
        "# 04. Model Evaluation and Hyperparameter Tuning\n",
        "\n",
        "by [David Luke Elliott](https://www.lancaster.ac.uk/psychology/about-us/people/david-elliott)\n",
        "/ [GitHub](https://github.com/Eldave93) "
      ]
    },
    {
      "cell_type": "markdown",
      "metadata": {
        "id": "bz9igSUtQ20l",
        "colab_type": "text"
      },
      "source": [
        "In the previous notebook we had an overview of some of the supervised classifiers available in scikit-learn. \n",
        "\n",
        "In this notebook we are going to look at methods for evaluating the performance of these classifiers and how to tune the hyperparameters of the models to fit our data better. This will enable us to get a better sense of how the models will generalize to unseen data, as well as get greater performance out of our models."
      ]
    },
    {
      "cell_type": "markdown",
      "metadata": {
        "id": "XuFMnYn8d_9K",
        "colab_type": "text"
      },
      "source": [
        "# Environment Set-up\n",
        "\n",
        "First lets start by getting our workspace ready and then loading in the data. As this section below broadly copies some of the data preparation from the previous notebooks, I'm not going to explain it too much."
      ]
    },
    {
      "cell_type": "code",
      "metadata": {
        "id": "4_r9IMrB_viA",
        "colab_type": "code",
        "colab": {}
      },
      "source": [
        "import os\n",
        "import gdown\n",
        "FILE_PATH = 'Epil_features.json.gzip'\n",
        "\n",
        "if not os.path.exists(FILE_PATH):\n",
        "    gdown.download('https://drive.google.com/uc?id=143dJfY1_U-p8elbvSzwe0TTHGcDo3PYv', \n",
        "                './'+FILE_PATH, quiet=False)"
      ],
      "execution_count": 0,
      "outputs": []
    },
    {
      "cell_type": "code",
      "metadata": {
        "id": "D3j6sFdMlJGH",
        "colab_type": "code",
        "outputId": "f1f41bce-f002-4ce0-ca1c-fe677289ae4c",
        "colab": {
          "base_uri": "https://localhost:8080/",
          "height": 1000
        }
      },
      "source": [
        "import matplotlib.pyplot as plt   # for plotting\n",
        "import numpy as np                # arrays\n",
        "import pickle                     # saving python objects\n",
        "import pandas as pd               # dataframes\n",
        "\n",
        "# colours for printing outputs\n",
        "class color:\n",
        "   PURPLE = '\\033[95m'\n",
        "   CYAN = '\\033[96m'\n",
        "   DARKCYAN = '\\033[36m'\n",
        "   BLUE = '\\033[94m'\n",
        "   GREEN = '\\033[92m'\n",
        "   YELLOW = '\\033[93m'\n",
        "   RED = '\\033[91m'\n",
        "   BOLD = '\\033[1m'\n",
        "   UNDERLINE = '\\033[4m'\n",
        "   END = '\\033[0m'\n",
        "\n",
        "# load features dataframe\n",
        "feature_df = pd.read_json(FILE_PATH, orient='index', compression = 'gzip')\n",
        "\n",
        "# display examples of the data\n",
        "display(feature_df.info())\n",
        "display(feature_df.head())"
      ],
      "execution_count": 0,
      "outputs": [
        {
          "output_type": "stream",
          "text": [
            "<class 'pandas.core.frame.DataFrame'>\n",
            "Int64Index: 500 entries, 0 to 99\n",
            "Data columns (total 39 columns):\n",
            "CZ|12_30Hz              500 non-null float64\n",
            "CZ|2_4Hz                500 non-null float64\n",
            "CZ|30_70Hz              500 non-null float64\n",
            "CZ|4_8Hz                500 non-null float64\n",
            "CZ|8_12Hz               500 non-null float64\n",
            "CZ|D1_LSWT              500 non-null float64\n",
            "CZ|D1_mean              500 non-null float64\n",
            "CZ|D1_mean_abs          500 non-null float64\n",
            "CZ|D1_ratio             500 non-null float64\n",
            "CZ|D1_std               500 non-null float64\n",
            "CZ|D2_LSWT              500 non-null float64\n",
            "CZ|D2_mean              500 non-null float64\n",
            "CZ|D2_mean_abs          500 non-null float64\n",
            "CZ|D2_ratio             500 non-null float64\n",
            "CZ|D2_std               500 non-null float64\n",
            "CZ|D3_LSWT              500 non-null float64\n",
            "CZ|D3_mean              500 non-null float64\n",
            "CZ|D3_mean_abs          500 non-null float64\n",
            "CZ|D3_ratio             500 non-null float64\n",
            "CZ|D3_std               500 non-null float64\n",
            "CZ|D4_LSWT              500 non-null float64\n",
            "CZ|D4_mean              500 non-null float64\n",
            "CZ|D4_mean_abs          500 non-null float64\n",
            "CZ|D4_ratio             500 non-null float64\n",
            "CZ|D4_std               500 non-null float64\n",
            "CZ|D5_LSWT              500 non-null float64\n",
            "CZ|D5_mean              500 non-null float64\n",
            "CZ|D5_mean_abs          500 non-null float64\n",
            "CZ|D5_ratio             500 non-null float64\n",
            "CZ|D5_std               500 non-null float64\n",
            "CZ|D6_LSWT              500 non-null float64\n",
            "CZ|D6_mean              500 non-null float64\n",
            "CZ|D6_mean_abs          500 non-null float64\n",
            "CZ|D6_ratio             500 non-null float64\n",
            "CZ|D6_std               500 non-null float64\n",
            "CZ|Ratio_3_12/2_30Hz    500 non-null float64\n",
            "class                   500 non-null object\n",
            "file_id                 500 non-null object\n",
            "location                500 non-null object\n",
            "dtypes: float64(36), object(3)\n",
            "memory usage: 156.2+ KB\n"
          ],
          "name": "stdout"
        },
        {
          "output_type": "display_data",
          "data": {
            "text/plain": [
              "None"
            ]
          },
          "metadata": {
            "tags": []
          }
        },
        {
          "output_type": "display_data",
          "data": {
            "text/html": [
              "<div>\n",
              "<style scoped>\n",
              "    .dataframe tbody tr th:only-of-type {\n",
              "        vertical-align: middle;\n",
              "    }\n",
              "\n",
              "    .dataframe tbody tr th {\n",
              "        vertical-align: top;\n",
              "    }\n",
              "\n",
              "    .dataframe thead th {\n",
              "        text-align: right;\n",
              "    }\n",
              "</style>\n",
              "<table border=\"1\" class=\"dataframe\">\n",
              "  <thead>\n",
              "    <tr style=\"text-align: right;\">\n",
              "      <th></th>\n",
              "      <th>CZ|12_30Hz</th>\n",
              "      <th>CZ|2_4Hz</th>\n",
              "      <th>CZ|30_70Hz</th>\n",
              "      <th>CZ|4_8Hz</th>\n",
              "      <th>CZ|8_12Hz</th>\n",
              "      <th>CZ|D1_LSWT</th>\n",
              "      <th>CZ|D1_mean</th>\n",
              "      <th>CZ|D1_mean_abs</th>\n",
              "      <th>CZ|D1_ratio</th>\n",
              "      <th>CZ|D1_std</th>\n",
              "      <th>CZ|D2_LSWT</th>\n",
              "      <th>CZ|D2_mean</th>\n",
              "      <th>CZ|D2_mean_abs</th>\n",
              "      <th>CZ|D2_ratio</th>\n",
              "      <th>CZ|D2_std</th>\n",
              "      <th>CZ|D3_LSWT</th>\n",
              "      <th>CZ|D3_mean</th>\n",
              "      <th>CZ|D3_mean_abs</th>\n",
              "      <th>CZ|D3_ratio</th>\n",
              "      <th>CZ|D3_std</th>\n",
              "      <th>CZ|D4_LSWT</th>\n",
              "      <th>CZ|D4_mean</th>\n",
              "      <th>CZ|D4_mean_abs</th>\n",
              "      <th>CZ|D4_ratio</th>\n",
              "      <th>CZ|D4_std</th>\n",
              "      <th>CZ|D5_LSWT</th>\n",
              "      <th>CZ|D5_mean</th>\n",
              "      <th>CZ|D5_mean_abs</th>\n",
              "      <th>CZ|D5_ratio</th>\n",
              "      <th>CZ|D5_std</th>\n",
              "      <th>CZ|D6_LSWT</th>\n",
              "      <th>CZ|D6_mean</th>\n",
              "      <th>CZ|D6_mean_abs</th>\n",
              "      <th>CZ|D6_ratio</th>\n",
              "      <th>CZ|D6_std</th>\n",
              "      <th>CZ|Ratio_3_12/2_30Hz</th>\n",
              "      <th>class</th>\n",
              "      <th>file_id</th>\n",
              "      <th>location</th>\n",
              "    </tr>\n",
              "  </thead>\n",
              "  <tbody>\n",
              "    <tr>\n",
              "      <th>0</th>\n",
              "      <td>2.467909</td>\n",
              "      <td>77.429564</td>\n",
              "      <td>0.462172</td>\n",
              "      <td>28.734279</td>\n",
              "      <td>13.102026</td>\n",
              "      <td>3.665018</td>\n",
              "      <td>-0.041443</td>\n",
              "      <td>1.910710</td>\n",
              "      <td>0.362810</td>\n",
              "      <td>2.479045</td>\n",
              "      <td>4.749819</td>\n",
              "      <td>-0.008293</td>\n",
              "      <td>5.266416</td>\n",
              "      <td>0.631333</td>\n",
              "      <td>6.525675</td>\n",
              "      <td>5.805773</td>\n",
              "      <td>0.401766</td>\n",
              "      <td>14.772764</td>\n",
              "      <td>0.877359</td>\n",
              "      <td>18.901216</td>\n",
              "      <td>5.613190</td>\n",
              "      <td>0.572214</td>\n",
              "      <td>28.409123</td>\n",
              "      <td>0.756706</td>\n",
              "      <td>36.437346</td>\n",
              "      <td>6.427250</td>\n",
              "      <td>3.689356</td>\n",
              "      <td>60.313528</td>\n",
              "      <td>1.147393</td>\n",
              "      <td>77.076934</td>\n",
              "      <td>0.000000</td>\n",
              "      <td>-1.758529</td>\n",
              "      <td>76.722313</td>\n",
              "      <td>1.272058</td>\n",
              "      <td>94.954945</td>\n",
              "      <td>0.138219</td>\n",
              "      <td>baseline</td>\n",
              "      <td>F001</td>\n",
              "      <td>intracranial epileptogenic zone</td>\n",
              "    </tr>\n",
              "    <tr>\n",
              "      <th>1</th>\n",
              "      <td>29.713494</td>\n",
              "      <td>1060.585071</td>\n",
              "      <td>4.070126</td>\n",
              "      <td>480.018796</td>\n",
              "      <td>201.886582</td>\n",
              "      <td>8.020356</td>\n",
              "      <td>-0.002805</td>\n",
              "      <td>1.761159</td>\n",
              "      <td>0.208105</td>\n",
              "      <td>3.012844</td>\n",
              "      <td>8.062119</td>\n",
              "      <td>0.120496</td>\n",
              "      <td>8.462824</td>\n",
              "      <td>0.514802</td>\n",
              "      <td>18.696915</td>\n",
              "      <td>7.770027</td>\n",
              "      <td>-1.311734</td>\n",
              "      <td>31.116812</td>\n",
              "      <td>0.687953</td>\n",
              "      <td>67.289651</td>\n",
              "      <td>7.388935</td>\n",
              "      <td>-5.458138</td>\n",
              "      <td>81.999218</td>\n",
              "      <td>0.906137</td>\n",
              "      <td>151.139973</td>\n",
              "      <td>8.241056</td>\n",
              "      <td>5.563645</td>\n",
              "      <td>149.869616</td>\n",
              "      <td>0.824373</td>\n",
              "      <td>281.923087</td>\n",
              "      <td>0.000000</td>\n",
              "      <td>-43.528777</td>\n",
              "      <td>281.597393</td>\n",
              "      <td>1.878949</td>\n",
              "      <td>399.209789</td>\n",
              "      <td>0.140057</td>\n",
              "      <td>baseline</td>\n",
              "      <td>F002</td>\n",
              "      <td>intracranial epileptogenic zone</td>\n",
              "    </tr>\n",
              "    <tr>\n",
              "      <th>10</th>\n",
              "      <td>4.786972</td>\n",
              "      <td>760.135786</td>\n",
              "      <td>0.928530</td>\n",
              "      <td>165.315144</td>\n",
              "      <td>63.214856</td>\n",
              "      <td>6.515312</td>\n",
              "      <td>-0.010631</td>\n",
              "      <td>1.735392</td>\n",
              "      <td>0.311432</td>\n",
              "      <td>2.990235</td>\n",
              "      <td>6.401762</td>\n",
              "      <td>-0.091654</td>\n",
              "      <td>5.572303</td>\n",
              "      <td>0.507149</td>\n",
              "      <td>8.465748</td>\n",
              "      <td>0.000000</td>\n",
              "      <td>-1.344051</td>\n",
              "      <td>20.239643</td>\n",
              "      <td>0.586233</td>\n",
              "      <td>30.191119</td>\n",
              "      <td>6.532587</td>\n",
              "      <td>-0.038338</td>\n",
              "      <td>63.477531</td>\n",
              "      <td>0.789217</td>\n",
              "      <td>81.178056</td>\n",
              "      <td>7.319687</td>\n",
              "      <td>6.063534</td>\n",
              "      <td>140.622318</td>\n",
              "      <td>0.942136</td>\n",
              "      <td>178.913839</td>\n",
              "      <td>6.864220</td>\n",
              "      <td>3.716867</td>\n",
              "      <td>235.040525</td>\n",
              "      <td>1.671431</td>\n",
              "      <td>298.590769</td>\n",
              "      <td>0.061061</td>\n",
              "      <td>baseline</td>\n",
              "      <td>F011</td>\n",
              "      <td>intracranial epileptogenic zone</td>\n",
              "    </tr>\n",
              "    <tr>\n",
              "      <th>100</th>\n",
              "      <td>4.395178</td>\n",
              "      <td>413.443671</td>\n",
              "      <td>0.752382</td>\n",
              "      <td>153.195976</td>\n",
              "      <td>52.397931</td>\n",
              "      <td>6.521874</td>\n",
              "      <td>0.028450</td>\n",
              "      <td>1.568284</td>\n",
              "      <td>0.281573</td>\n",
              "      <td>2.040338</td>\n",
              "      <td>6.376845</td>\n",
              "      <td>-0.032461</td>\n",
              "      <td>5.569725</td>\n",
              "      <td>0.493431</td>\n",
              "      <td>7.123942</td>\n",
              "      <td>5.687828</td>\n",
              "      <td>-0.629769</td>\n",
              "      <td>21.007189</td>\n",
              "      <td>0.633938</td>\n",
              "      <td>26.675227</td>\n",
              "      <td>7.262292</td>\n",
              "      <td>3.068884</td>\n",
              "      <td>60.705456</td>\n",
              "      <td>0.843922</td>\n",
              "      <td>77.541635</td>\n",
              "      <td>6.255351</td>\n",
              "      <td>-0.751342</td>\n",
              "      <td>122.857944</td>\n",
              "      <td>1.172407</td>\n",
              "      <td>166.608287</td>\n",
              "      <td>0.000000</td>\n",
              "      <td>-8.863883</td>\n",
              "      <td>148.876959</td>\n",
              "      <td>1.211781</td>\n",
              "      <td>201.195289</td>\n",
              "      <td>0.073089</td>\n",
              "      <td>baseline</td>\n",
              "      <td>N001</td>\n",
              "      <td>intracranial hippocampus</td>\n",
              "    </tr>\n",
              "    <tr>\n",
              "      <th>101</th>\n",
              "      <td>7.851587</td>\n",
              "      <td>721.653790</td>\n",
              "      <td>1.493076</td>\n",
              "      <td>260.678343</td>\n",
              "      <td>83.752534</td>\n",
              "      <td>7.982971</td>\n",
              "      <td>-0.087572</td>\n",
              "      <td>2.132034</td>\n",
              "      <td>0.265519</td>\n",
              "      <td>2.816092</td>\n",
              "      <td>8.089832</td>\n",
              "      <td>0.146568</td>\n",
              "      <td>8.029698</td>\n",
              "      <td>0.590290</td>\n",
              "      <td>10.741698</td>\n",
              "      <td>8.188312</td>\n",
              "      <td>0.942701</td>\n",
              "      <td>25.073927</td>\n",
              "      <td>0.633819</td>\n",
              "      <td>33.517822</td>\n",
              "      <td>7.872104</td>\n",
              "      <td>-1.859709</td>\n",
              "      <td>71.090412</td>\n",
              "      <td>0.773736</td>\n",
              "      <td>98.099318</td>\n",
              "      <td>0.000000</td>\n",
              "      <td>-23.203895</td>\n",
              "      <td>158.684894</td>\n",
              "      <td>1.313004</td>\n",
              "      <td>213.440482</td>\n",
              "      <td>8.467095</td>\n",
              "      <td>23.505145</td>\n",
              "      <td>170.622285</td>\n",
              "      <td>1.075227</td>\n",
              "      <td>222.681710</td>\n",
              "      <td>0.060733</td>\n",
              "      <td>baseline</td>\n",
              "      <td>N002</td>\n",
              "      <td>intracranial hippocampus</td>\n",
              "    </tr>\n",
              "  </tbody>\n",
              "</table>\n",
              "</div>"
            ],
            "text/plain": [
              "     CZ|12_30Hz     CZ|2_4Hz  ...  file_id                         location\n",
              "0      2.467909    77.429564  ...     F001  intracranial epileptogenic zone\n",
              "1     29.713494  1060.585071  ...     F002  intracranial epileptogenic zone\n",
              "10     4.786972   760.135786  ...     F011  intracranial epileptogenic zone\n",
              "100    4.395178   413.443671  ...     N001         intracranial hippocampus\n",
              "101    7.851587   721.653790  ...     N002         intracranial hippocampus\n",
              "\n",
              "[5 rows x 39 columns]"
            ]
          },
          "metadata": {
            "tags": []
          }
        }
      ]
    },
    {
      "cell_type": "code",
      "metadata": {
        "id": "vdfxfbqVoozj",
        "colab_type": "code",
        "outputId": "1c7417b0-5138-47d3-aa81-da54b3032b5b",
        "colab": {
          "base_uri": "https://localhost:8080/",
          "height": 55
        }
      },
      "source": [
        "from sklearn.preprocessing import LabelEncoder\n",
        "from sklearn.model_selection import train_test_split\n",
        "\n",
        "TEST_SIZE = 0.2\n",
        "RANDOM_STATE = 0\n",
        "\n",
        "feature_reduced = feature_df[feature_df.location != 'surface']\n",
        "feature_reduced_drop = feature_reduced.drop(['class', 'file_id', 'location'], \n",
        "                                            axis='columns')\n",
        "data_x = feature_reduced_drop.values\n",
        "\n",
        "# make a label encoder\n",
        "le = LabelEncoder()\n",
        "# change the string labels to ints\n",
        "data_y = le.fit_transform(feature_reduced['class'])\n",
        "    \n",
        "X_train, X_test, y_train, y_test = train_test_split(data_x, data_y, \n",
        "                                                    test_size=TEST_SIZE, \n",
        "                                                    random_state=RANDOM_STATE)\n",
        "\n",
        "X_train, X_val, y_train, y_val = train_test_split(X_train, y_train, \n",
        "                                                  test_size=TEST_SIZE, \n",
        "                                                  random_state=RANDOM_STATE)\n",
        "\n",
        "print(X_train.shape, X_val.shape, X_test.shape)\n",
        "print(y_train.shape, y_val.shape, y_test.shape)"
      ],
      "execution_count": 0,
      "outputs": [
        {
          "output_type": "stream",
          "text": [
            "(192, 36) (48, 36) (60, 36)\n",
            "(192,) (48,) (60,)\n"
          ],
          "name": "stdout"
        }
      ]
    },
    {
      "cell_type": "markdown",
      "metadata": {
        "id": "MPCkTAxbS01y",
        "colab_type": "text"
      },
      "source": [
        "We came across a number of classifiers last time. Lets quickly make a few so we can compare and change them later."
      ]
    },
    {
      "cell_type": "code",
      "metadata": {
        "id": "QCox83srSxF7",
        "colab_type": "code",
        "colab": {}
      },
      "source": [
        "from sklearn.pipeline import Pipeline\n",
        "from sklearn.preprocessing import StandardScaler\n",
        "from sklearn.linear_model import LogisticRegression\n",
        "from sklearn.svm import SVC\n",
        "from sklearn.tree import DecisionTreeClassifier\n",
        "from sklearn.neighbors import KNeighborsClassifier\n",
        "\n",
        "# Logistic Regression\n",
        "pipe_reg = Pipeline([('scl', StandardScaler()),\n",
        "                     ('clf', LogisticRegression(class_weight='balanced',\n",
        "                                                solver = 'liblinear',\n",
        "                                                random_state=RANDOM_STATE))])\n",
        "\n",
        "# Support Vector Machine\n",
        "pipe_svc = Pipeline([('scl', StandardScaler()),\n",
        "                    ('clf', SVC(kernel='rbf', \n",
        "                                class_weight = 'balanced',\n",
        "                                probability=True,\n",
        "                                random_state=RANDOM_STATE))])\n",
        "\n",
        "# Decision Tree\n",
        "DT = DecisionTreeClassifier(random_state=RANDOM_STATE)\n",
        "\n",
        "# K-Nearest Neighbours\n",
        "pipe_kkn = Pipeline([('scl', StandardScaler()),\n",
        "                    ('clf', KNeighborsClassifier())])\n",
        "\n",
        "# list of classifier names\n",
        "classifier_names = ['Logistic Regression', 'Support Vector Machine', \n",
        "                    'Decision Tree', 'K-Nearest Neighbors']\n",
        "\n",
        "# list of classifiers\n",
        "classifiers = [pipe_reg, pipe_svc, DT, pipe_kkn]\n",
        "\n",
        "# fit all the classifiers to the training data\n",
        "for classifier in classifiers:\n",
        "  classifier.fit(X_train, y_train)"
      ],
      "execution_count": 0,
      "outputs": []
    },
    {
      "cell_type": "markdown",
      "metadata": {
        "id": "cOpBtNuUS56M",
        "colab_type": "text"
      },
      "source": [
        "# Performance Evaluation\n",
        "\n",
        "We have been focusing on accuracy to evaluate a models performance, but we can get much more information about our models performance. "
      ]
    },
    {
      "cell_type": "markdown",
      "metadata": {
        "id": "Na9tYSbzTM1_",
        "colab_type": "text"
      },
      "source": [
        "## Metrics\n",
        "\n",
        "Lets first have a look at a 'confusion matrix' when the support vector machine model is fit to the validation data. A confusion matrix shows what the models predicted label was and what the actual label is."
      ]
    },
    {
      "cell_type": "code",
      "metadata": {
        "id": "iValpVSuTKMv",
        "colab_type": "code",
        "outputId": "fffbe7c7-1b3e-4c09-f768-8ce59d5eb7a9",
        "colab": {
          "base_uri": "https://localhost:8080/",
          "height": 269
        }
      },
      "source": [
        "from sklearn.metrics import confusion_matrix\n",
        "\n",
        "def pretty_confusion_matrix(confmat):\n",
        "\n",
        "    # this creates the matplotlib graph to make the confmat look nicer\n",
        "    fig, ax = plt.subplots(figsize=(4, 4))\n",
        "    ax.matshow(confmat, cmap=plt.cm.Blues, alpha=0.3)\n",
        "    for i in range(confmat.shape[0]):\n",
        "        for j in range(confmat.shape[1]):\n",
        "            ax.text(x=j, y=i, s=confmat[i, j], va='center', ha='center')\n",
        "       \n",
        "    # change the labels\n",
        "    ax.set_xticklabels(['']+['Baseline', 'Seizure'])\n",
        "    ax.set_yticklabels(['']+['Baseline', 'Seizure'])\n",
        "\n",
        "    plt.xlabel('Predicted Label')\n",
        "    plt.ylabel('True Label')\n",
        "    ax.xaxis.set_label_position('top')\n",
        "\n",
        "    plt.tight_layout()\n",
        "    \n",
        "    plt.show()\n",
        "    \n",
        "    \n",
        "# use the first classifier to predict the validation set    \n",
        "predictions = classifiers[1].predict(X_val)\n",
        "\n",
        "# get the confusion matrix as a numpy array\n",
        "confmat = confusion_matrix(y_true=y_val, y_pred=predictions)\n",
        "\n",
        "# use the pretty function to make it nicer\n",
        "pretty_confusion_matrix(confmat)"
      ],
      "execution_count": 0,
      "outputs": [
        {
          "output_type": "display_data",
          "data": {
            "image/png": "[encoded data removed]",
            "text/plain": [
              "<Figure size 288x288 with 1 Axes>"
            ]
          },
          "metadata": {
            "tags": []
          }
        }
      ]
    },
    {
      "cell_type": "markdown",
      "metadata": {
        "id": "h2Pk2BRATw7y",
        "colab_type": "text"
      },
      "source": [
        "Using this confusion matrix we can manually work out a number of different performance metrics.\n",
        "\n",
        "> **Error and Accuracy** \n",
        ">\n",
        "> Give general performance information regarding the number of all correct or false predictions comparative to the total number of predictions for both the positive and negative labels.\n",
        ">\n",
        "> **Recall (or True Positive Rate)** \n",
        ">\n",
        "> Calculates how many of the actual positives our model correctly or incorrectly labelled. This is useful when the fraction of correctly or misclassified samples in the positive class are of interest.\n",
        ">\n",
        "> **Precision (PRE)** \n",
        ">\n",
        "> Precision gives information on how precise your model is by looking at how many positive predicted labels are actually positive. To calculate it you just take the true  positives and divide it by the total true and false positives. Precision is a good measure to determine, when the costs of a False Positive is high.\n",
        ">\n",
        "> **F1-score**\n",
        ">\n",
        "> F1-score is a combination of Recall and Precision used when there is an uneven class distribution due to a large number of Actual Negatives that you are not as focused on. \n",
        "\n",
        "Different metrics maybe more appropriate depending on the application. For example, the priority may be to identify seizures and not as much on correctly identifying inter-ictal periods, therefore recall would be a better metic to look at. If we are looking at patients at risk for Sudden Unexpected Death in Epilepsy (SUDEP), then the costs of having a miss-classified actual positive (or false negative) is very high.\n",
        "\n",
        "**Note**\n",
        "- In the descriptions ictal activity would be the positive prediction and interical activity the negative.\n",
        "\n",
        "---\n",
        "\n",
        "1. Raschka, Sebastian, and Vahid Mirjalili. Python Machine Learning, 2nd Ed. Packt Publishing, 2017.\n",
        "2. https://towardsdatascience.com/accuracy-precision-recall-or-f1-331fb37c5cb9"
      ]
    },
    {
      "cell_type": "code",
      "metadata": {
        "id": "yABCyA5ET0Ca",
        "colab_type": "code",
        "outputId": "9fe79a77-59f7-46cb-a925-739696979a37",
        "colab": {
          "base_uri": "https://localhost:8080/",
          "height": 169
        }
      },
      "source": [
        "FP = confmat[0,1]\n",
        "TN = confmat[0,0]\n",
        "TP = confmat[1,1]\n",
        "FN = confmat[1,0]\n",
        "\n",
        "ERR = (FP+FN)/(FP+FN+TP+TN)\n",
        "ACC = 1-ERR\n",
        "TPR = TP/(FN+TP)\n",
        "FPR = FP/(FP+TN)\n",
        "PRE = TP/(TP+FP)\n",
        "REC = TP/(FN+TP)\n",
        "F1 = 2*((PRE*REC)/(PRE+REC))\n",
        "\n",
        "print('True positive rate (TPR): %.3f' % TPR)\n",
        "print('False positive rate (FPR): %.3f' % FPR)\n",
        "print('Error (ERR): %.3f' % ERR)\n",
        "print()\n",
        "print('Accuracy (ACC): %.3f' % ACC)\n",
        "print('Precision (PRE): %.3f' % PRE)\n",
        "print('Recall (REC): %.3f' % REC)\n",
        "print('F1-score (F1): %.3f' % F1)"
      ],
      "execution_count": 0,
      "outputs": [
        {
          "output_type": "stream",
          "text": [
            "True positive rate (TPR): 1.000\n",
            "False positive rate (FPR): 0.057\n",
            "Error (ERR): 0.042\n",
            "\n",
            "Accuracy (ACC): 0.958\n",
            "Precision (PRE): 0.867\n",
            "Recall (REC): 1.000\n",
            "F1-score (F1): 0.929\n"
          ],
          "name": "stdout"
        }
      ]
    },
    {
      "cell_type": "markdown",
      "metadata": {
        "id": "1eAWNhz_UArW",
        "colab_type": "text"
      },
      "source": [
        "Rather than manually calculating the metrics, we can use the inbuilt sklearn method to calculate them."
      ]
    },
    {
      "cell_type": "code",
      "metadata": {
        "id": "JxMVtOyiUB3A",
        "colab_type": "code",
        "outputId": "953039d0-1686-46a6-cffe-d67e2373529b",
        "colab": {
          "base_uri": "https://localhost:8080/",
          "height": 93
        }
      },
      "source": [
        "from sklearn.metrics import precision_score, recall_score, f1_score\n",
        "from sklearn.metrics import accuracy_score\n",
        "\n",
        "print('Accuracy (ACC): %.3f' % accuracy_score(y_true=y_val, y_pred=predictions))\n",
        "print('Precision (PRE): %.3f' % precision_score(y_true=y_val, y_pred=predictions))\n",
        "print('Recall (REC): %.3f' % recall_score(y_true=y_val, y_pred=predictions))\n",
        "print('F1-score (F1): %.3f' % f1_score(y_true=y_val, y_pred=predictions))"
      ],
      "execution_count": 0,
      "outputs": [
        {
          "output_type": "stream",
          "text": [
            "Accuracy (ACC): 0.958\n",
            "Precision (PRE): 0.867\n",
            "Recall (REC): 1.000\n",
            "F1-score (F1): 0.929\n"
          ],
          "name": "stdout"
        }
      ]
    },
    {
      "cell_type": "markdown",
      "metadata": {
        "id": "0UZohdDdVeA8",
        "colab_type": "text"
      },
      "source": [
        "Furthermore we can use a classification report, which gives more information such as the micro avg, macro avg, and weighted avg; although we can still specify this in the previous method using the average parameter.\n",
        "\n",
        "\n",
        "> **Macro Average**\n",
        "- Treats all classes equally as each metric is calculated independently and the average is taken.\n",
        ">\n",
        "> **Micro Average**\n",
        "- Aggregates the contributions of all classes and computes an average metric. \n",
        "- This is preferable to macro avg  in cases with class imbalances.\n",
        ">\n",
        "> **Weighted Average** \n",
        "- Each contribution to the average is weighted by the relative number of examples in a class available.\n",
        "\n",
        "**NOTES**\n",
        "- The support is the number of occurrences of each class in y_true.\n",
        "- Notice how the previous metrics were based on the seizure scores. This is because in binary classification problems, the default positive label is the target (class 1). You can change this if you are more interested in the other classes performance or the average metrics.\n",
        "\n",
        "---\n",
        "https://datascience.stackexchange.com/questions/15989/micro-average-vs-macro-average-performance-in-a-multiclass-classification-settin"
      ]
    },
    {
      "cell_type": "code",
      "metadata": {
        "id": "e3KtRatTVew1",
        "colab_type": "code",
        "outputId": "f3ed74ab-f559-4a95-9e94-5816e7742892",
        "colab": {
          "base_uri": "https://localhost:8080/",
          "height": 175
        }
      },
      "source": [
        "from sklearn.metrics import classification_report\n",
        "\n",
        "pd.DataFrame(classification_report(y_val, \n",
        "                                   predictions, \n",
        "                                   labels=None, \n",
        "                                   target_names=['Baseline', 'Seizure'], \n",
        "                                   sample_weight=None, \n",
        "                                   digits=2, \n",
        "                                   output_dict=True))"
      ],
      "execution_count": 0,
      "outputs": [
        {
          "output_type": "execute_result",
          "data": {
            "text/html": [
              "<div>\n",
              "<style scoped>\n",
              "    .dataframe tbody tr th:only-of-type {\n",
              "        vertical-align: middle;\n",
              "    }\n",
              "\n",
              "    .dataframe tbody tr th {\n",
              "        vertical-align: top;\n",
              "    }\n",
              "\n",
              "    .dataframe thead th {\n",
              "        text-align: right;\n",
              "    }\n",
              "</style>\n",
              "<table border=\"1\" class=\"dataframe\">\n",
              "  <thead>\n",
              "    <tr style=\"text-align: right;\">\n",
              "      <th></th>\n",
              "      <th>Baseline</th>\n",
              "      <th>Seizure</th>\n",
              "      <th>accuracy</th>\n",
              "      <th>macro avg</th>\n",
              "      <th>weighted avg</th>\n",
              "    </tr>\n",
              "  </thead>\n",
              "  <tbody>\n",
              "    <tr>\n",
              "      <th>precision</th>\n",
              "      <td>1.000000</td>\n",
              "      <td>0.866667</td>\n",
              "      <td>0.958333</td>\n",
              "      <td>0.933333</td>\n",
              "      <td>0.963889</td>\n",
              "    </tr>\n",
              "    <tr>\n",
              "      <th>recall</th>\n",
              "      <td>0.942857</td>\n",
              "      <td>1.000000</td>\n",
              "      <td>0.958333</td>\n",
              "      <td>0.971429</td>\n",
              "      <td>0.958333</td>\n",
              "    </tr>\n",
              "    <tr>\n",
              "      <th>f1-score</th>\n",
              "      <td>0.970588</td>\n",
              "      <td>0.928571</td>\n",
              "      <td>0.958333</td>\n",
              "      <td>0.949580</td>\n",
              "      <td>0.959209</td>\n",
              "    </tr>\n",
              "    <tr>\n",
              "      <th>support</th>\n",
              "      <td>35.000000</td>\n",
              "      <td>13.000000</td>\n",
              "      <td>0.958333</td>\n",
              "      <td>48.000000</td>\n",
              "      <td>48.000000</td>\n",
              "    </tr>\n",
              "  </tbody>\n",
              "</table>\n",
              "</div>"
            ],
            "text/plain": [
              "            Baseline    Seizure  accuracy  macro avg  weighted avg\n",
              "precision   1.000000   0.866667  0.958333   0.933333      0.963889\n",
              "recall      0.942857   1.000000  0.958333   0.971429      0.958333\n",
              "f1-score    0.970588   0.928571  0.958333   0.949580      0.959209\n",
              "support    35.000000  13.000000  0.958333  48.000000     48.000000"
            ]
          },
          "metadata": {
            "tags": []
          },
          "execution_count": 18
        }
      ]
    },
    {
      "cell_type": "markdown",
      "metadata": {
        "id": "F4_h2K6OV4Tt",
        "colab_type": "text"
      },
      "source": [
        "If we have a look at the confusion matrix for all the methods we can see different methods are either producing similar or different errors"
      ]
    },
    {
      "cell_type": "code",
      "metadata": {
        "id": "rjwaxvRFWCTE",
        "colab_type": "code",
        "outputId": "4a9445bb-306c-4c50-bf5a-ff0979deba49",
        "colab": {
          "base_uri": "https://localhost:8080/",
          "height": 1000
        }
      },
      "source": [
        "for i, classifier in enumerate(classifiers):\n",
        "  print(color.BOLD+color.UNDERLINE+classifier_names[i]+color.END)\n",
        "\n",
        "  predictions = classifier.predict(X_val)\n",
        "\n",
        "  confmat = confusion_matrix(y_true=y_val, y_pred=predictions)\n",
        "\n",
        "  pretty_confusion_matrix(confmat)"
      ],
      "execution_count": 0,
      "outputs": [
        {
          "output_type": "stream",
          "text": [
            "\u001b[1m\u001b[4mLogistic Regression\u001b[0m\n"
          ],
          "name": "stdout"
        },
        {
          "output_type": "display_data",
          "data": {
            "image/png": "[encoded data removed]",
            "text/plain": [
              "<Figure size 288x288 with 1 Axes>"
            ]
          },
          "metadata": {
            "tags": []
          }
        },
        {
          "output_type": "stream",
          "text": [
            "\u001b[1m\u001b[4mSupport Vector Machine\u001b[0m\n"
          ],
          "name": "stdout"
        },
        {
          "output_type": "display_data",
          "data": {
            "image/png": "[encoded data removed]",
            "text/plain": [
              "<Figure size 288x288 with 1 Axes>"
            ]
          },
          "metadata": {
            "tags": []
          }
        },
        {
          "output_type": "stream",
          "text": [
            "\u001b[1m\u001b[4mDecision Tree\u001b[0m\n"
          ],
          "name": "stdout"
        },
        {
          "output_type": "display_data",
          "data": {
            "image/png": "[encoded data removed]",
            "text/plain": [
              "<Figure size 288x288 with 1 Axes>"
            ]
          },
          "metadata": {
            "tags": []
          }
        },
        {
          "output_type": "stream",
          "text": [
            "\u001b[1m\u001b[4mK-Nearest Neighbors\u001b[0m\n"
          ],
          "name": "stdout"
        },
        {
          "output_type": "display_data",
          "data": {
            "image/png": "[encoded data removed]",
            "text/plain": [
              "<Figure size 288x288 with 1 Axes>"
            ]
          },
          "metadata": {
            "tags": []
          }
        }
      ]
    },
    {
      "cell_type": "markdown",
      "metadata": {
        "id": "hh4FvdnMWOra",
        "colab_type": "text"
      },
      "source": [
        "Lets confirm this by combining all the metrics into one dataframe to compare"
      ]
    },
    {
      "cell_type": "code",
      "metadata": {
        "id": "eFwwMFM9WRuz",
        "colab_type": "code",
        "outputId": "c048db2e-6cac-48bb-895c-a9679a90af81",
        "colab": {
          "base_uri": "https://localhost:8080/",
          "height": 583
        }
      },
      "source": [
        "for i, classifier in enumerate(classifiers):\n",
        "  predictions = classifier.predict(X_val)\n",
        "\n",
        "  classifier_score_df = pd.DataFrame(\n",
        "      classification_report(y_val, \n",
        "                            predictions,\n",
        "                            target_names=['Baseline', 'Seizure'],\n",
        "                            digits=2, \n",
        "                            output_dict=True))\n",
        "  \n",
        "  classifier_score_df.index.name = 'Metric'\n",
        "  classifier_score_df['Classifier'] = classifier_names[i]\n",
        "  classifier_score_df = classifier_score_df.set_index('Classifier', append=True)\n",
        "  \n",
        "  if i == 0:\n",
        "    all_scores = classifier_score_df\n",
        "\n",
        "  else:\n",
        "    all_scores = pd.concat([all_scores, classifier_score_df])\n",
        "        \n",
        "all_scores.sort_index()"
      ],
      "execution_count": 0,
      "outputs": [
        {
          "output_type": "execute_result",
          "data": {
            "text/html": [
              "<div>\n",
              "<style scoped>\n",
              "    .dataframe tbody tr th:only-of-type {\n",
              "        vertical-align: middle;\n",
              "    }\n",
              "\n",
              "    .dataframe tbody tr th {\n",
              "        vertical-align: top;\n",
              "    }\n",
              "\n",
              "    .dataframe thead th {\n",
              "        text-align: right;\n",
              "    }\n",
              "</style>\n",
              "<table border=\"1\" class=\"dataframe\">\n",
              "  <thead>\n",
              "    <tr style=\"text-align: right;\">\n",
              "      <th></th>\n",
              "      <th></th>\n",
              "      <th>Baseline</th>\n",
              "      <th>Seizure</th>\n",
              "      <th>accuracy</th>\n",
              "      <th>macro avg</th>\n",
              "      <th>weighted avg</th>\n",
              "    </tr>\n",
              "    <tr>\n",
              "      <th>Metric</th>\n",
              "      <th>Classifier</th>\n",
              "      <th></th>\n",
              "      <th></th>\n",
              "      <th></th>\n",
              "      <th></th>\n",
              "      <th></th>\n",
              "    </tr>\n",
              "  </thead>\n",
              "  <tbody>\n",
              "    <tr>\n",
              "      <th rowspan=\"4\" valign=\"top\">f1-score</th>\n",
              "      <th>Decision Tree</th>\n",
              "      <td>0.985507</td>\n",
              "      <td>0.962963</td>\n",
              "      <td>0.979167</td>\n",
              "      <td>0.974235</td>\n",
              "      <td>0.979402</td>\n",
              "    </tr>\n",
              "    <tr>\n",
              "      <th>K-Nearest Neighbors</th>\n",
              "      <td>0.958904</td>\n",
              "      <td>0.869565</td>\n",
              "      <td>0.937500</td>\n",
              "      <td>0.914235</td>\n",
              "      <td>0.934708</td>\n",
              "    </tr>\n",
              "    <tr>\n",
              "      <th>Logistic Regression</th>\n",
              "      <td>1.000000</td>\n",
              "      <td>1.000000</td>\n",
              "      <td>1.000000</td>\n",
              "      <td>1.000000</td>\n",
              "      <td>1.000000</td>\n",
              "    </tr>\n",
              "    <tr>\n",
              "      <th>Support Vector Machine</th>\n",
              "      <td>0.970588</td>\n",
              "      <td>0.928571</td>\n",
              "      <td>0.958333</td>\n",
              "      <td>0.949580</td>\n",
              "      <td>0.959209</td>\n",
              "    </tr>\n",
              "    <tr>\n",
              "      <th rowspan=\"4\" valign=\"top\">precision</th>\n",
              "      <th>Decision Tree</th>\n",
              "      <td>1.000000</td>\n",
              "      <td>0.928571</td>\n",
              "      <td>0.979167</td>\n",
              "      <td>0.964286</td>\n",
              "      <td>0.980655</td>\n",
              "    </tr>\n",
              "    <tr>\n",
              "      <th>K-Nearest Neighbors</th>\n",
              "      <td>0.921053</td>\n",
              "      <td>1.000000</td>\n",
              "      <td>0.937500</td>\n",
              "      <td>0.960526</td>\n",
              "      <td>0.942434</td>\n",
              "    </tr>\n",
              "    <tr>\n",
              "      <th>Logistic Regression</th>\n",
              "      <td>1.000000</td>\n",
              "      <td>1.000000</td>\n",
              "      <td>1.000000</td>\n",
              "      <td>1.000000</td>\n",
              "      <td>1.000000</td>\n",
              "    </tr>\n",
              "    <tr>\n",
              "      <th>Support Vector Machine</th>\n",
              "      <td>1.000000</td>\n",
              "      <td>0.866667</td>\n",
              "      <td>0.958333</td>\n",
              "      <td>0.933333</td>\n",
              "      <td>0.963889</td>\n",
              "    </tr>\n",
              "    <tr>\n",
              "      <th rowspan=\"4\" valign=\"top\">recall</th>\n",
              "      <th>Decision Tree</th>\n",
              "      <td>0.971429</td>\n",
              "      <td>1.000000</td>\n",
              "      <td>0.979167</td>\n",
              "      <td>0.985714</td>\n",
              "      <td>0.979167</td>\n",
              "    </tr>\n",
              "    <tr>\n",
              "      <th>K-Nearest Neighbors</th>\n",
              "      <td>1.000000</td>\n",
              "      <td>0.769231</td>\n",
              "      <td>0.937500</td>\n",
              "      <td>0.884615</td>\n",
              "      <td>0.937500</td>\n",
              "    </tr>\n",
              "    <tr>\n",
              "      <th>Logistic Regression</th>\n",
              "      <td>1.000000</td>\n",
              "      <td>1.000000</td>\n",
              "      <td>1.000000</td>\n",
              "      <td>1.000000</td>\n",
              "      <td>1.000000</td>\n",
              "    </tr>\n",
              "    <tr>\n",
              "      <th>Support Vector Machine</th>\n",
              "      <td>0.942857</td>\n",
              "      <td>1.000000</td>\n",
              "      <td>0.958333</td>\n",
              "      <td>0.971429</td>\n",
              "      <td>0.958333</td>\n",
              "    </tr>\n",
              "    <tr>\n",
              "      <th rowspan=\"4\" valign=\"top\">support</th>\n",
              "      <th>Decision Tree</th>\n",
              "      <td>35.000000</td>\n",
              "      <td>13.000000</td>\n",
              "      <td>0.979167</td>\n",
              "      <td>48.000000</td>\n",
              "      <td>48.000000</td>\n",
              "    </tr>\n",
              "    <tr>\n",
              "      <th>K-Nearest Neighbors</th>\n",
              "      <td>35.000000</td>\n",
              "      <td>13.000000</td>\n",
              "      <td>0.937500</td>\n",
              "      <td>48.000000</td>\n",
              "      <td>48.000000</td>\n",
              "    </tr>\n",
              "    <tr>\n",
              "      <th>Logistic Regression</th>\n",
              "      <td>35.000000</td>\n",
              "      <td>13.000000</td>\n",
              "      <td>1.000000</td>\n",
              "      <td>48.000000</td>\n",
              "      <td>48.000000</td>\n",
              "    </tr>\n",
              "    <tr>\n",
              "      <th>Support Vector Machine</th>\n",
              "      <td>35.000000</td>\n",
              "      <td>13.000000</td>\n",
              "      <td>0.958333</td>\n",
              "      <td>48.000000</td>\n",
              "      <td>48.000000</td>\n",
              "    </tr>\n",
              "  </tbody>\n",
              "</table>\n",
              "</div>"
            ],
            "text/plain": [
              "                                   Baseline    Seizure  ...  macro avg  weighted avg\n",
              "Metric    Classifier                                    ...                         \n",
              "f1-score  Decision Tree            0.985507   0.962963  ...   0.974235      0.979402\n",
              "          K-Nearest Neighbors      0.958904   0.869565  ...   0.914235      0.934708\n",
              "          Logistic Regression      1.000000   1.000000  ...   1.000000      1.000000\n",
              "          Support Vector Machine   0.970588   0.928571  ...   0.949580      0.959209\n",
              "precision Decision Tree            1.000000   0.928571  ...   0.964286      0.980655\n",
              "          K-Nearest Neighbors      0.921053   1.000000  ...   0.960526      0.942434\n",
              "          Logistic Regression      1.000000   1.000000  ...   1.000000      1.000000\n",
              "          Support Vector Machine   1.000000   0.866667  ...   0.933333      0.963889\n",
              "recall    Decision Tree            0.971429   1.000000  ...   0.985714      0.979167\n",
              "          K-Nearest Neighbors      1.000000   0.769231  ...   0.884615      0.937500\n",
              "          Logistic Regression      1.000000   1.000000  ...   1.000000      1.000000\n",
              "          Support Vector Machine   0.942857   1.000000  ...   0.971429      0.958333\n",
              "support   Decision Tree           35.000000  13.000000  ...  48.000000     48.000000\n",
              "          K-Nearest Neighbors     35.000000  13.000000  ...  48.000000     48.000000\n",
              "          Logistic Regression     35.000000  13.000000  ...  48.000000     48.000000\n",
              "          Support Vector Machine  35.000000  13.000000  ...  48.000000     48.000000\n",
              "\n",
              "[16 rows x 5 columns]"
            ]
          },
          "metadata": {
            "tags": []
          },
          "execution_count": 21
        }
      ]
    },
    {
      "cell_type": "markdown",
      "metadata": {
        "id": "ijOdUcuSXHY7",
        "colab_type": "text"
      },
      "source": [
        "## Receiver Operating Characteristic (ROC) Curve\n",
        "\n",
        "We can also use plots to visualise each models performance. \n",
        "\n",
        "ROC curves are useful for comparing classification models based on their false positive and true positive rate performance. A ROC curve is computed by shifting the decision threshold of the classifier<sup>1</sup>.\n",
        "\n",
        "**NOTES**\n",
        "- For the SVM, probability needs to be true\n",
        "\n",
        "---\n",
        "\n",
        "1. Raschka, Sebastian, and Vahid Mirjalili. Python Machine Learning, 2nd Ed. Packt Publishing, 2017."
      ]
    },
    {
      "cell_type": "code",
      "metadata": {
        "id": "N8vs4FmmXNtQ",
        "colab_type": "code",
        "outputId": "f73ff1fc-98dc-4357-fab5-0a8bdbeb36a9",
        "colab": {
          "base_uri": "https://localhost:8080/",
          "height": 585
        }
      },
      "source": [
        "from sklearn.metrics import roc_curve, roc_auc_score, auc\n",
        "from sklearn.externals import joblib\n",
        "import re\n",
        "\n",
        "def ROC(classifiers, classifier_names, X_train, \n",
        "        X_val, y_train, y_val, image_file_path):\n",
        "  \n",
        "  # this creates the matplotlib graph to make the confmat look nicer\n",
        "  fig, ax = plt.subplots(figsize=(8, 8))\n",
        "  # for each classifier...\n",
        "  for i, classifer in enumerate(classifiers):\n",
        "    # fit the pipeline\n",
        "    probas = classifer.fit(X_train,\n",
        "                                y_train).predict_proba(X_val)\n",
        "\n",
        "    # get the roc curve info\n",
        "    fpr, tpr, thresholds = roc_curve(y_val, \n",
        "                                     probas[:, 1], \n",
        "                                     pos_label=1)\n",
        "\n",
        "    roc_auc = auc(fpr, tpr)\n",
        "\n",
        "    plt.plot(fpr, \n",
        "             tpr, \n",
        "             lw=1, \n",
        "             label='{} (area = %0.2f)'.format(classifier_names[i]) %roc_auc)\n",
        "\n",
        "  plt.plot([0, 1], \n",
        "           [0, 1], \n",
        "           linestyle='--', \n",
        "           color=(0.6, 0.6, 0.6), \n",
        "           label='random guessing')\n",
        "\n",
        "  plt.plot([0, 0, 1], \n",
        "           [0, 1, 1], \n",
        "           lw=2, \n",
        "           linestyle=':', \n",
        "           color='black', \n",
        "           label='perfect performance')\n",
        "\n",
        "  plt.xlim([-0.05, 1.05])\n",
        "  plt.ylim([-0.05, 1.05])\n",
        "  plt.xlabel('false positive rate')\n",
        "  plt.ylabel('true positive rate')\n",
        "  plt.title('Receiver Operator Characteristic on Validation Set')\n",
        "  plt.legend(loc=\"lower right\", fontsize ='medium')\n",
        "\n",
        "  plt.tight_layout()\n",
        "  plt.savefig(image_file_path, dpi=300)\n",
        "  plt.show()    \n",
        "    \n",
        "\n",
        "ROC(classifiers, classifier_names, X_train, X_val, y_train, \n",
        "    y_val, 'Classifiers_ROC.png')"
      ],
      "execution_count": 0,
      "outputs": [
        {
          "output_type": "display_data",
          "data": {
            "image/png": "[encoded data removed]",
            "text/plain": [
              "<Figure size 576x576 with 1 Axes>"
            ]
          },
          "metadata": {
            "tags": []
          }
        }
      ]
    },
    {
      "cell_type": "markdown",
      "metadata": {
        "id": "IjuwnvLqXp6Q",
        "colab_type": "text"
      },
      "source": [
        "## Precision-recall Curve\n",
        "\n",
        "To explain precision-recall curves the Scikit-learn documentation is pretty useful (as seen below):\n",
        "\n",
        "> \"*The precision-recall curve shows the tradeoff between precision and recall for different threshold. A high area under the curve represents both high recall and high precision, where high precision relates to a low false positive rate, and high recall relates to a low false negative rate. High scores for both show that the classifier is returning accurate results (high precision), as well as returning a majority of all positive results (high recall).*\n",
        ">\n",
        "> *A system with high recall but low precision returns many results, but most of its predicted labels are incorrect when compared to the training labels. A system with high precision but low recall is just the opposite, returning very few results, but most of its predicted labels are correct when compared to the training labels. An ideal system with high precision and high recall will return many results, with all results labeled correctly.*\"<sup>1</sup>\n",
        "\n",
        "PR curves are useful in unballanced datasets, such as when the positive class is rare, or when false positives are more important than false negatives; otherwise a ROC curve is generally more useful<sup>2<sup>.\n",
        "\n",
        "**Note**\n",
        "- Precision Curves only work with classifiers that have a decision_function such as SVM\n",
        "  \n",
        "---\n",
        "1. https://scikit-learn.org/stable/auto_examples/model_selection/plot_precision_recall.html\n",
        "2. Géron, A. (2017). Hands-on machine learning with Scikit-Learn and TensorFlow: concepts, tools, and techniques to build intelligent systems. \" O'Reilly Media, Inc.\"."
      ]
    },
    {
      "cell_type": "code",
      "metadata": {
        "id": "ONo-uFJQXqgQ",
        "colab_type": "code",
        "outputId": "8cc083ec-58ab-4150-f24a-eee422b77c97",
        "colab": {
          "base_uri": "https://localhost:8080/",
          "height": 297
        }
      },
      "source": [
        "from sklearn.metrics import precision_recall_curve\n",
        "#from sklearn.utils.fixes import signature\n",
        "from sklearn.externals import joblib\n",
        "from sklearn.metrics import average_precision_score\n",
        "\n",
        "def Precision_Curve(classifier_list, classifier_names, X_train, \n",
        "                    X_val, y_train, y_val, image_file_path):\n",
        "\n",
        "  # for each classifier...\n",
        "  for i, classifer_ in enumerate(classifier_list):\n",
        "\n",
        "      y_score = classifer_.decision_function(X_val)\n",
        "\n",
        "      precision, recall, _ = precision_recall_curve(y_val, y_score)\n",
        "\n",
        "      average_precision = average_precision_score(y_val, y_score)\n",
        "\n",
        "      plt.step(recall, precision, alpha=0.2, where='post', \n",
        "               label=classifier_names[i]+' PREC = %0.2f'% average_precision)\n",
        "\n",
        "  plt.xlabel('Recall')\n",
        "  plt.ylabel('Precision')\n",
        "  plt.ylim([0.0, 1.05])\n",
        "  plt.xlim([0.0, 1.0])\n",
        "  plt.title('Precision-Recall curve on Validation Set')\n",
        "  plt.legend(loc=\"lower right\")\n",
        "\n",
        "  plt.tight_layout()\n",
        "  plt.savefig(image_file_path, dpi=300)\n",
        "  plt.show()\n",
        "\n",
        "Precision_Curve(classifiers[:2], classifier_names[:2], X_train, X_val, \n",
        "                y_train, y_val, 'Classifiers_PREC.png')"
      ],
      "execution_count": 0,
      "outputs": [
        {
          "output_type": "display_data",
          "data": {
            "image/png": "[encoded data removed]",
            "text/plain": [
              "<Figure size 432x288 with 1 Axes>"
            ]
          },
          "metadata": {
            "tags": []
          }
        }
      ]
    },
    {
      "cell_type": "markdown",
      "metadata": {
        "id": "KqHBqHdmZYOH",
        "colab_type": "text"
      },
      "source": [
        "## Learning Curve\n",
        "\n",
        "Learning curves can be used to see if an algorithm has a problem with overfitting (high variance) or underfitting (high bias) to the training data. It could be that the model is too complex for the training dataset leading it to not generalize well to unseen data. We can plot the degree to which a model is over/under-fitting to the training data as we add in more training data. What we are looking for is that as the number of training samples increases the chosen scoring metrics for the training and test sets get closer together.\n",
        "\n",
        "What these curves are telling us about our model is that are likely overfitting to the training data. To address this we could<sup>1</sup>:\n",
        "- collect more training data\n",
        "- reduce the complexity of the model\n",
        "- increase the regularization parameter\n",
        "- decrease the number of features via feature selection or feature extraction (Classification 05 Tutorial)\n",
        "\n",
        "**NOTES**\n",
        "- for the plotting I'm using a package called mlxtend<sup>2</sup>\n",
        "\n",
        "---\n",
        "\n",
        "1. Raschka, Sebastian, and Vahid Mirjalili. Python Machine Learning, 2nd Ed. Packt Publishing, 2017.\n",
        "\n",
        "2. Raschka, Sebastian. Mlxtend(Version 0.13.0). doi = 10.5281/zenodo.594432, url = http://dx.doi.org/10.5281/zenodo.594432"
      ]
    },
    {
      "cell_type": "code",
      "metadata": {
        "id": "vHoZ512XZbXW",
        "colab_type": "code",
        "outputId": "cad26798-7436-4c63-d1f2-c6c90ffac9c7",
        "colab": {
          "base_uri": "https://localhost:8080/",
          "height": 610
        }
      },
      "source": [
        "from mlxtend.plotting import plot_learning_curves\n",
        "\n",
        "learning_curve_scoring = ['accuracy', 'precision']\n",
        "\n",
        "\n",
        "print(color.BOLD+color.UNDERLINE+classifier_names[1]+color.END)\n",
        "for scoring_method in learning_curve_scoring:\n",
        "  plot_learning_curves(X_train, y_train, X_val, y_val, classifiers[1], \n",
        "                       train_marker='o', test_marker='^', \n",
        "                       scoring=scoring_method, print_model =False)\n",
        "  if scoring_method in ['accuracy', 'precision']:\n",
        "      plt.ylim(top=1.01)\n",
        "  plt.show()"
      ],
      "execution_count": 0,
      "outputs": [
        {
          "output_type": "stream",
          "text": [
            "\u001b[1m\u001b[4mSupport Vector Machine\u001b[0m\n"
          ],
          "name": "stdout"
        },
        {
          "output_type": "display_data",
          "data": {
            "image/png": "[encoded data removed]",
            "text/plain": [
              "<Figure size 432x288 with 1 Axes>"
            ]
          },
          "metadata": {
            "tags": []
          }
        },
        {
          "output_type": "display_data",
          "data": {
            "image/png": "[encoded data removed]",
            "text/plain": [
              "<Figure size 432x288 with 1 Axes>"
            ]
          },
          "metadata": {
            "tags": []
          }
        }
      ]
    },
    {
      "cell_type": "markdown",
      "metadata": {
        "id": "jfzmppb-YAcH",
        "colab_type": "text"
      },
      "source": [
        "## Cross-Validation\n",
        "\n",
        "So far we have only assessed our models performance on splitting our data into training, validation, and test sets (the holdout method). The validation set is used during training and setting hyperparameters, and the test set can be used once a final model is selected for final performance evaluation<sup>1</sup>. This is a popular approach to generalization performance, however as we will see, we can't keep using the same validation set when trying different hyperparameters as the model will be more likely to over-fit to the current data and be less generalisable when deployed in the real world.\n",
        "\n",
        "So first lets split our data back into just training and test sets.\n",
        "\n",
        "---\n",
        "\n",
        "1. Raschka, Sebastian, and Vahid Mirjalili. Python Machine Learning, 2nd Ed. Packt Publishing, 2017."
      ]
    },
    {
      "cell_type": "code",
      "metadata": {
        "id": "PYp2Qn7AYqOf",
        "colab_type": "code",
        "colab": {}
      },
      "source": [
        "X_train, X_test, y_train, y_test = train_test_split(data_x, \n",
        "                                                    data_y, \n",
        "                                                    test_size=TEST_SIZE, \n",
        "                                                    random_state=RANDOM_STATE)"
      ],
      "execution_count": 0,
      "outputs": []
    },
    {
      "cell_type": "markdown",
      "metadata": {
        "id": "LawbRSrYY3PB",
        "colab_type": "text"
      },
      "source": [
        "### K-Fold Cross-Validation\n",
        "\n",
        "There is a disadvantage to the holdout method, as where the splits of the training, validation, and test sets are will effect performance. Therefore a more robust technique is to split the training data into multipule training and validation sets (e.g. K-Fold Cross-Validation). We randomly split the training set into *k* folds without replacement so *k*-1 folds are used for model training with one fold used for performance evaluation. As this is repeated *k* times we get *k* models and performance estimates, of which the average performance is taken. As the k-fold cross-validation resamples without replacement, each sample point will have been used in both the training and validation sets once<sup>1</sup>.\n",
        "\n",
        "A good default value for K is 10, however if the training sets are small it may be better to increase the number of folds, and if the data is large reduce it<sup>2</sup>.\n",
        "\n",
        "First I will show how it splits up data. This code could be used for analysis but is not as efficient as the subsequent block. As such I'll keep the number of splits and repeats low to demonstrate.\n",
        "\n",
        "---\n",
        "\n",
        "1. Raschka, Sebastian, and Vahid Mirjalili. Python Machine Learning, 2nd Ed. Packt Publishing, 2017.\n",
        "\n",
        "2. R. Kohavi et al. A Study of Cross-validation and Bootstrap for Accuracy Estimation and Model Selection. In Ijcai, volume 14, pages 1137–1145, 1995"
      ]
    },
    {
      "cell_type": "code",
      "metadata": {
        "id": "AhB8FSmjZFBw",
        "colab_type": "code",
        "outputId": "c92ff889-0b74-4d0c-a662-c38bced30490",
        "colab": {
          "base_uri": "https://localhost:8080/",
          "height": 1000
        }
      },
      "source": [
        "%%time\n",
        "import numpy as np\n",
        "from sklearn.model_selection import RepeatedKFold\n",
        "from sklearn.base import clone\n",
        "\n",
        "N_SPLITS = 2\n",
        "N_REPEATS = 2\n",
        "\n",
        "RepKFold = RepeatedKFold(n_splits = N_SPLITS,\n",
        "                         n_repeats = N_REPEATS,\n",
        "                         random_state=RANDOM_STATE)\n",
        "\n",
        "scores = []\n",
        "i = 0\n",
        "for train_index, validation_index in RepKFold.split(X_train, y_train):\n",
        "  clone_clf = clone(pipe_reg)\n",
        "\n",
        "  clone_clf.fit(X_train[train_index], y_train[train_index])\n",
        "  score = clone_clf.score(X_train[validation_index], y_train[validation_index])\n",
        "  scores.append(score)\n",
        "\n",
        "  print(color.BOLD+color.UNDERLINE+'Fold '+str(i+1)+color.END)\n",
        "  print('Class dist.: %s, Acc: %.3f' % (np.bincount(y_train[train_index]), score))\n",
        "  print(\"\\nTRAIN:\", train_index)\n",
        "  print(\"\\nVALIDATION:\", validation_index)\n",
        "  print()\n",
        "  i+=1\n",
        "    \n",
        "print('\\nCV accuracy: %.3f +/- %.3f' % (np.mean(scores), np.std(scores)))"
      ],
      "execution_count": 0,
      "outputs": [
        {
          "output_type": "stream",
          "text": [
            "\u001b[1m\u001b[4mFold 1\u001b[0m\n",
            "Class dist.: [74 46], Acc: 0.975\n",
            "\n",
            "TRAIN: [  0   1   2   6   9  10  11  17  21  23  25  28  29  31  32  34  35  36\n",
            "  38  39  42  43  47  48  49  53  57  58  59  65  67  68  69  70  72  77\n",
            "  78  79  81  82  84  85  87  88  91  93  94  95  98  99 100 102 103 105\n",
            " 112 113 114 115 117 119 120 121 127 128 131 132 133 137 140 141 142 143\n",
            " 146 147 148 150 151 160 163 164 165 167 172 173 174 175 177 180 182 183\n",
            " 185 186 187 189 190 192 193 195 196 197 198 200 203 204 205 207 208 211\n",
            " 212 216 222 223 224 225 228 229 232 236 237 238]\n",
            "\n",
            "VALIDATION: [  3   4   5   7   8  12  13  14  15  16  18  19  20  22  24  26  27  30\n",
            "  33  37  40  41  44  45  46  50  51  52  54  55  56  60  61  62  63  64\n",
            "  66  71  73  74  75  76  80  83  86  89  90  92  96  97 101 104 106 107\n",
            " 108 109 110 111 116 118 122 123 124 125 126 129 130 134 135 136 138 139\n",
            " 144 145 149 152 153 154 155 156 157 158 159 161 162 166 168 169 170 171\n",
            " 176 178 179 181 184 188 191 194 199 201 202 206 209 210 213 214 215 217\n",
            " 218 219 220 221 226 227 230 231 233 234 235 239]\n",
            "\n",
            "\u001b[1m\u001b[4mFold 2\u001b[0m\n",
            "Class dist.: [86 34], Acc: 0.992\n",
            "\n",
            "TRAIN: [  3   4   5   7   8  12  13  14  15  16  18  19  20  22  24  26  27  30\n",
            "  33  37  40  41  44  45  46  50  51  52  54  55  56  60  61  62  63  64\n",
            "  66  71  73  74  75  76  80  83  86  89  90  92  96  97 101 104 106 107\n",
            " 108 109 110 111 116 118 122 123 124 125 126 129 130 134 135 136 138 139\n",
            " 144 145 149 152 153 154 155 156 157 158 159 161 162 166 168 169 170 171\n",
            " 176 178 179 181 184 188 191 194 199 201 202 206 209 210 213 214 215 217\n",
            " 218 219 220 221 226 227 230 231 233 234 235 239]\n",
            "\n",
            "VALIDATION: [  0   1   2   6   9  10  11  17  21  23  25  28  29  31  32  34  35  36\n",
            "  38  39  42  43  47  48  49  53  57  58  59  65  67  68  69  70  72  77\n",
            "  78  79  81  82  84  85  87  88  91  93  94  95  98  99 100 102 103 105\n",
            " 112 113 114 115 117 119 120 121 127 128 131 132 133 137 140 141 142 143\n",
            " 146 147 148 150 151 160 163 164 165 167 172 173 174 175 177 180 182 183\n",
            " 185 186 187 189 190 192 193 195 196 197 198 200 203 204 205 207 208 211\n",
            " 212 216 222 223 224 225 228 229 232 236 237 238]\n",
            "\n",
            "\u001b[1m\u001b[4mFold 3\u001b[0m\n",
            "Class dist.: [81 39], Acc: 0.967\n",
            "\n",
            "TRAIN: [  0   2   3   5   8   9  11  13  14  16  17  18  20  22  24  25  27  28\n",
            "  29  30  31  32  33  34  35  36  39  41  43  44  46  51  53  58  61  63\n",
            "  64  66  67  68  69  72  73  79  80  81  83  84  85  87  88  89  91  92\n",
            "  93  94  97 101 103 105 106 108 111 112 114 116 117 120 122 123 126 128\n",
            " 129 131 133 136 138 140 143 145 146 147 149 150 151 152 158 160 162 164\n",
            " 166 167 168 173 176 178 181 187 189 190 195 196 197 198 199 200 201 202\n",
            " 203 206 214 215 217 218 220 221 223 224 225 239]\n",
            "\n",
            "VALIDATION: [  1   4   6   7  10  12  15  19  21  23  26  37  38  40  42  45  47  48\n",
            "  49  50  52  54  55  56  57  59  60  62  65  70  71  74  75  76  77  78\n",
            "  82  86  90  95  96  98  99 100 102 104 107 109 110 113 115 118 119 121\n",
            " 124 125 127 130 132 134 135 137 139 141 142 144 148 153 154 155 156 157\n",
            " 159 161 163 165 169 170 171 172 174 175 177 179 180 182 183 184 185 186\n",
            " 188 191 192 193 194 204 205 207 208 209 210 211 212 213 216 219 222 226\n",
            " 227 228 229 230 231 232 233 234 235 236 237 238]\n",
            "\n",
            "\u001b[1m\u001b[4mFold 4\u001b[0m\n",
            "Class dist.: [79 41], Acc: 0.975\n",
            "\n",
            "TRAIN: [  1   4   6   7  10  12  15  19  21  23  26  37  38  40  42  45  47  48\n",
            "  49  50  52  54  55  56  57  59  60  62  65  70  71  74  75  76  77  78\n",
            "  82  86  90  95  96  98  99 100 102 104 107 109 110 113 115 118 119 121\n",
            " 124 125 127 130 132 134 135 137 139 141 142 144 148 153 154 155 156 157\n",
            " 159 161 163 165 169 170 171 172 174 175 177 179 180 182 183 184 185 186\n",
            " 188 191 192 193 194 204 205 207 208 209 210 211 212 213 216 219 222 226\n",
            " 227 228 229 230 231 232 233 234 235 236 237 238]\n",
            "\n",
            "VALIDATION: [  0   2   3   5   8   9  11  13  14  16  17  18  20  22  24  25  27  28\n",
            "  29  30  31  32  33  34  35  36  39  41  43  44  46  51  53  58  61  63\n",
            "  64  66  67  68  69  72  73  79  80  81  83  84  85  87  88  89  91  92\n",
            "  93  94  97 101 103 105 106 108 111 112 114 116 117 120 122 123 126 128\n",
            " 129 131 133 136 138 140 143 145 146 147 149 150 151 152 158 160 162 164\n",
            " 166 167 168 173 176 178 181 187 189 190 195 196 197 198 199 200 201 202\n",
            " 203 206 214 215 217 218 220 221 223 224 225 239]\n",
            "\n",
            "\n",
            "CV accuracy: 0.977 +/- 0.009\n",
            "CPU times: user 26.9 ms, sys: 2.92 ms, total: 29.9 ms\n",
            "Wall time: 28.4 ms\n"
          ],
          "name": "stdout"
        }
      ]
    },
    {
      "cell_type": "markdown",
      "metadata": {
        "id": "sKe-92q7ZWj1",
        "colab_type": "text"
      },
      "source": [
        "However rather than manually doing it like above, we can instead use a function such as cross_val_score which allows for doing computation in parallel (n_jobs=-1)."
      ]
    },
    {
      "cell_type": "code",
      "metadata": {
        "id": "OVdhyLoWZXJn",
        "colab_type": "code",
        "outputId": "9b0dc8d5-f29e-41bd-c3b2-1f531fdfb073",
        "colab": {
          "base_uri": "https://localhost:8080/",
          "height": 93
        }
      },
      "source": [
        "%%time\n",
        "from sklearn.model_selection import cross_val_score\n",
        "from sklearn.metrics import make_scorer\n",
        "\n",
        "SCORER = make_scorer(score_func=accuracy_score)\n",
        "\n",
        "scores = cross_val_score(estimator=pipe_reg, \n",
        "                         X=X_train, \n",
        "                         y=y_train, \n",
        "                         scoring = SCORER,\n",
        "                         cv=RepKFold,\n",
        "                         n_jobs=-1)\n",
        "\n",
        "print('CV accuracy scores: %s' % scores)\n",
        "print('CV accuracy: %.3f +/- %.3f' % (np.mean(scores), np.std(scores)))"
      ],
      "execution_count": 0,
      "outputs": [
        {
          "output_type": "stream",
          "text": [
            "CV accuracy scores: [0.975      0.99166667 0.96666667 0.975     ]\n",
            "CV accuracy: 0.977 +/- 0.009\n",
            "CPU times: user 25.1 ms, sys: 31 ms, total: 56.1 ms\n",
            "Wall time: 1.1 s\n"
          ],
          "name": "stdout"
        }
      ]
    },
    {
      "cell_type": "markdown",
      "metadata": {
        "id": "4HUhUw3CZrTv",
        "colab_type": "text"
      },
      "source": [
        "### Stratified K-Fold Cross-Validation\n",
        "\n",
        "We can also use stratified k-fold cross-validation, as it can yield better bias and variance estimates in cases of unequal class proportions than RepeatedKFold<sup>1,2</sup>. This is because \"stratified\" refers to sampling where the classes are separated into \"strata\" and a probability sample is drawn from each group<sup>3</sup>.\n",
        "\n",
        "As can be seen below we have twice as much baseline data (inter-ictal) than seizure (ictal).\n",
        "\n",
        "---\n",
        "1. Raschka, Sebastian, and Vahid Mirjalili. Python Machine Learning, 2nd Ed. Packt Publishing, 2017.\n",
        "2. R. Kohavi et al. A Study of Cross-validation and Bootstrap for Accuracy Estimation and Model Selection. In Ijcai, volume 14, pages 1137–1145, 1995\n",
        "3. https://stattrek.com/statistics/dictionary.aspx?definition=stratified_sampling"
      ]
    },
    {
      "cell_type": "code",
      "metadata": {
        "id": "m9rcFAB1Z1i_",
        "colab_type": "code",
        "outputId": "a5ea4bf3-2897-4918-ca82-fc6a419941ed",
        "colab": {
          "base_uri": "https://localhost:8080/",
          "height": 74
        }
      },
      "source": [
        "feature_reduced['class'].value_counts()"
      ],
      "execution_count": 0,
      "outputs": [
        {
          "output_type": "execute_result",
          "data": {
            "text/plain": [
              "baseline    200\n",
              "seizure     100\n",
              "Name: class, dtype: int64"
            ]
          },
          "metadata": {
            "tags": []
          },
          "execution_count": 33
        }
      ]
    },
    {
      "cell_type": "code",
      "metadata": {
        "id": "whkscWc4Z4ev",
        "colab_type": "code",
        "outputId": "8fee045c-28c4-4240-8268-fd66528c6fee",
        "colab": {
          "base_uri": "https://localhost:8080/",
          "height": 132
        }
      },
      "source": [
        "from sklearn.model_selection import StratifiedKFold\n",
        "N_SPLITS = 10\n",
        "\n",
        "StratKFold = StratifiedKFold(n_splits = N_SPLITS,\n",
        "                             shuffle=False,\n",
        "                             random_state=RANDOM_STATE)\n",
        "\n",
        "scores = cross_val_score(estimator=pipe_reg, \n",
        "                         X=X_train, \n",
        "                         y=y_train, \n",
        "                         scoring = SCORER,\n",
        "                         cv=StratKFold,\n",
        "                         n_jobs=-1)\n",
        "\n",
        "print('CV accuracy scores: %s' % scores)\n",
        "print('CV accuracy: %.3f +/- %.3f' % (np.mean(scores), np.std(scores)))"
      ],
      "execution_count": 0,
      "outputs": [
        {
          "output_type": "stream",
          "text": [
            "CV accuracy scores: [1.         0.95833333 0.95833333 1.         1.         0.91666667\n",
            " 1.         1.         1.         1.        ]\n",
            "CV accuracy: 0.983 +/- 0.028\n"
          ],
          "name": "stdout"
        },
        {
          "output_type": "stream",
          "text": [
            "/usr/local/lib/python3.6/dist-packages/sklearn/model_selection/_split.py:296: FutureWarning: Setting a random_state has no effect since shuffle is False. This will raise an error in 0.24. You should leave random_state to its default (None), or set shuffle=True.\n",
            "  FutureWarning\n"
          ],
          "name": "stderr"
        }
      ]
    },
    {
      "cell_type": "markdown",
      "metadata": {
        "id": "iy8rODmLZ32A",
        "colab_type": "text"
      },
      "source": [
        "### Cross-Validation ROC Curve\n",
        "\n",
        "ROC curves can also be used to see the difference in performance at each fold. Lets look at k-nearest neighbour."
      ]
    },
    {
      "cell_type": "code",
      "metadata": {
        "id": "LcuC6y5baU_Q",
        "colab_type": "code",
        "outputId": "977b76c8-af6c-4622-f718-e6834d881313",
        "colab": {
          "base_uri": "https://localhost:8080/",
          "height": 775
        }
      },
      "source": [
        "from sklearn.metrics import roc_curve, roc_auc_score, auc\n",
        "from scipy import interp\n",
        "\n",
        "def cross_val_ROC(classifier, cross_validator, data_x, data_y, n_splits, \n",
        "                  image_file_path):\n",
        "\n",
        "  fig, ax = plt.subplots(figsize=(8, 8))\n",
        "  # default mean true positive rate\n",
        "  mean_tpr = 0.0\n",
        "  # default mean false positive rate\n",
        "  mean_fpr = np.linspace(0, 1, 100)\n",
        "\n",
        "  i = 0\n",
        "  for train_index, validation_index in cross_validator.split(data_x, data_y):\n",
        "    # fit the pipeline\n",
        "    probas = classifier.fit(\n",
        "        data_x[train_index],\n",
        "        data_y[train_index]).predict_proba(data_x[validation_index])\n",
        "\n",
        "    # get the roc curve info\n",
        "    fpr, tpr, thresholds = roc_curve(data_y[validation_index], \n",
        "                                     probas[:, 1], \n",
        "                                     pos_label=1)\n",
        "\n",
        "    mean_tpr += interp(mean_fpr, fpr, tpr)\n",
        "    mean_tpr[0] = 0.0\n",
        "    roc_auc = auc(fpr, tpr)\n",
        "    i+=1\n",
        "    plt.plot(fpr, \n",
        "             tpr, \n",
        "             lw=1, \n",
        "             label='ROC fold %d (area = %0.2f)' \n",
        "                    % (i, roc_auc))\n",
        "\n",
        "  plt.plot([0, 1], \n",
        "           [0, 1], \n",
        "           linestyle='--', \n",
        "           color=(0.6, 0.6, 0.6), \n",
        "           label='random guessing')\n",
        "\n",
        "  mean_tpr /= n_splits\n",
        "  mean_tpr[-1] = 1.0\n",
        "  mean_auc = auc(mean_fpr, mean_tpr)\n",
        "  plt.plot(mean_fpr, mean_tpr, 'k--',\n",
        "           label='mean ROC (area = %0.2f)' % mean_auc, lw=2)\n",
        "  plt.plot([0, 0, 1], \n",
        "           [0, 1, 1], \n",
        "           lw=2, \n",
        "           linestyle=':', \n",
        "           color='black', \n",
        "           label='perfect performance')\n",
        "\n",
        "  plt.xlim([-0.05, 1.05])\n",
        "  plt.ylim([-0.05, 1.05])\n",
        "  plt.xlabel('false positive rate')\n",
        "  plt.ylabel('true positive rate')\n",
        "  plt.title('Receiver Operator Characteristic on Test Set ('\n",
        "            +str(n_splits)+' StratifiedKFold splits)')\n",
        "  plt.legend(loc=\"lower right\")\n",
        "\n",
        "  plt.tight_layout()\n",
        "  plt.savefig(image_file_path, dpi=300)\n",
        "  plt.show()\n",
        "\n",
        "cross_val_ROC(pipe_kkn, StratKFold, X_train, y_train, N_SPLITS, 'KNN_ROC.png')"
      ],
      "execution_count": 0,
      "outputs": [
        {
          "output_type": "stream",
          "text": [
            "/usr/local/lib/python3.6/dist-packages/ipykernel_launcher.py:25: DeprecationWarning: scipy.interp is deprecated and will be removed in SciPy 2.0.0, use numpy.interp instead\n",
            "/usr/local/lib/python3.6/dist-packages/ipykernel_launcher.py:25: DeprecationWarning: scipy.interp is deprecated and will be removed in SciPy 2.0.0, use numpy.interp instead\n",
            "/usr/local/lib/python3.6/dist-packages/ipykernel_launcher.py:25: DeprecationWarning: scipy.interp is deprecated and will be removed in SciPy 2.0.0, use numpy.interp instead\n",
            "/usr/local/lib/python3.6/dist-packages/ipykernel_launcher.py:25: DeprecationWarning: scipy.interp is deprecated and will be removed in SciPy 2.0.0, use numpy.interp instead\n",
            "/usr/local/lib/python3.6/dist-packages/ipykernel_launcher.py:25: DeprecationWarning: scipy.interp is deprecated and will be removed in SciPy 2.0.0, use numpy.interp instead\n",
            "/usr/local/lib/python3.6/dist-packages/ipykernel_launcher.py:25: DeprecationWarning: scipy.interp is deprecated and will be removed in SciPy 2.0.0, use numpy.interp instead\n",
            "/usr/local/lib/python3.6/dist-packages/ipykernel_launcher.py:25: DeprecationWarning: scipy.interp is deprecated and will be removed in SciPy 2.0.0, use numpy.interp instead\n",
            "/usr/local/lib/python3.6/dist-packages/ipykernel_launcher.py:25: DeprecationWarning: scipy.interp is deprecated and will be removed in SciPy 2.0.0, use numpy.interp instead\n",
            "/usr/local/lib/python3.6/dist-packages/ipykernel_launcher.py:25: DeprecationWarning: scipy.interp is deprecated and will be removed in SciPy 2.0.0, use numpy.interp instead\n",
            "/usr/local/lib/python3.6/dist-packages/ipykernel_launcher.py:25: DeprecationWarning: scipy.interp is deprecated and will be removed in SciPy 2.0.0, use numpy.interp instead\n"
          ],
          "name": "stderr"
        },
        {
          "output_type": "display_data",
          "data": {
            "image/png": "[encoded data removed]",
            "text/plain": [
              "<Figure size 576x576 with 1 Axes>"
            ]
          },
          "metadata": {
            "tags": []
          }
        }
      ]
    },
    {
      "cell_type": "markdown",
      "metadata": {
        "id": "6Fh0lUXWbEhh",
        "colab_type": "text"
      },
      "source": [
        "### Cross-Validation Precision Curve\n",
        "\n",
        "We can also use the precision curves on each fold as well."
      ]
    },
    {
      "cell_type": "code",
      "metadata": {
        "id": "ejvABN6hbD8h",
        "colab_type": "code",
        "outputId": "e0376f67-df99-4f83-83b8-30b0a2729708",
        "colab": {
          "base_uri": "https://localhost:8080/",
          "height": 585
        }
      },
      "source": [
        "from sklearn.metrics import precision_recall_curve\n",
        "#from sklearn.utils.fixes import signature\n",
        "from sklearn.externals import joblib\n",
        "from sklearn.metrics import average_precision_score\n",
        "\n",
        "def cross_val_precision_curve(classifier, cross_validator, data_x, data_y, \n",
        "                              n_splits, image_file_path):\n",
        "  fig, ax = plt.subplots(figsize=(8, 8))\n",
        "  # default mean true positive rate\n",
        "  mean_tpr = 0.0\n",
        "  # default mean false positive rate\n",
        "  mean_fpr = np.linspace(0, 1, 100)\n",
        "\n",
        "  i = 0\n",
        "  for train_index, validation_index in cross_validator.split(data_x, data_y):\n",
        "\n",
        "    # fit the pipeline\n",
        "    classifier.fit(data_x[train_index],data_y[train_index])\n",
        "\n",
        "    y_score = classifier.decision_function(data_x[validation_index])\n",
        "\n",
        "    precision, recall, _ = precision_recall_curve(data_y[validation_index], y_score)\n",
        "\n",
        "    average_precision = average_precision_score(data_y[validation_index], y_score)\n",
        "\n",
        "    plt.step(recall, precision, alpha=0.2, where='post', label='fold %d (PREC = %0.2f)'% (i, average_precision))\n",
        "\n",
        "  plt.xlabel('Recall')\n",
        "  plt.ylabel('Precision')\n",
        "  plt.ylim([0.0, 1.05])\n",
        "  plt.xlim([0.0, 1.0])\n",
        "  plt.title('2-class Precision-Recall curve on Test Set ('+str(n_splits)+' StratifiedKFold splits)')\n",
        "  plt.legend(loc=\"lower right\")\n",
        "\n",
        "  plt.tight_layout()\n",
        "  plt.savefig(image_file_path, dpi=300)\n",
        "  plt.show()\n",
        "\n",
        "cross_val_precision_curve(pipe_reg, StratKFold, X_train, y_train, N_SPLITS, \n",
        "                          'REG_PREC_REC.png')"
      ],
      "execution_count": 0,
      "outputs": [
        {
          "output_type": "display_data",
          "data": {
            "image/png": "[encoded data removed]",
            "text/plain": [
              "<Figure size 576x576 with 1 Axes>"
            ]
          },
          "metadata": {
            "tags": []
          }
        }
      ]
    },
    {
      "cell_type": "markdown",
      "metadata": {
        "id": "e8JGX0SuuX7v",
        "colab_type": "text"
      },
      "source": [
        "# Hyperparameter Tuning\n",
        "Each machine learning model has a set of parameters which could be set to different values. Currently we have been using mostly default parameters for our classifier, or manually setting them (e.g. C in both Logistic Regression and SVM), but our model will likely be able to be improved if we change these to fit the data better. The sensitivity to hyperparameter settings change depending on the classifier; for example logistic regression is relatively insensitive to hyperparameter settings. However it is still necessary to find the right range of hyperparameters, otherwise differences between models may just be down to the default tuning parameters rather than the behavior of the model or features<sup>1</sup>.\n",
        "\n",
        "---\n",
        "\n",
        "1. Zheng, A., & Casari, A. (2018). Feature Engineering for Machine Learning: Principles and Techniques for Data Scientists. \" O'Reilly Media, Inc.\"."
      ]
    },
    {
      "cell_type": "markdown",
      "metadata": {
        "id": "PUpG-r8cuQ91",
        "colab_type": "text"
      },
      "source": [
        "## Grid Search\n",
        "\n",
        "A grid search is an exhaustive search paradigm where we specify a list inside a dictionary with various values for different hyperparameters. The computer will use this list to evaluate the model performance for each combination of values to obtain the set that scorers best on the given performance metric<sup>1</sup>.\n",
        "\n",
        "For support vector machines the values we will vary are C and Gamma. C controls the penalty for misclassification, with larger values corresponding to larger error penalties, meaning we can use this to control the the width of the margin around the decision boundary and therefore tune the bias-variance trade-off. Gamma is essentially a cut-off parameter for the kernal parameter, with increasing values increasing the influence of the training samples to create a tighter non-linear decision boundary<sup>1</sup>.\n",
        "\n",
        "The actual values we will test across come from a previous paper looking at machine learning models for seizure detection<sup>2</sup>. We will make it into a function that returns a dataframe of the scores and the best model as we will use the gridsearch again later.\n",
        "\n",
        "Once we've found the optimal hyperparamters we can then actually use these optimal hyper-parameters to re-train our final model on the full training set (including the validation data) to make the model slightly more accurate<sup>1</sup>. If we set *refit = True* (the default anyway), then this will do this for us for the best estimator.\n",
        "\n",
        "**NOTES**\n",
        "- if the grid param scores were the maximum values evaluated you should try increasing the values to see if the score will improve\n",
        "\n",
        "---\n",
        "\n",
        "1. Raschka, Sebastian, and Vahid Mirjalili. Python Machine Learning, 2nd Ed. Packt Publishing, 2017.\n",
        "\n",
        "2. Kjær, T. W., Sorensen, H. B. D., Groenborg, S., Pedersen, C. R., & Duun-Henriksen, J. (2017). Detection of Paroxysms in Long-Term, Single Channel EEG-Monitoring of Patients with Typical Absence Seizure. IEEE Journal of Translational Engineering in Health and Medicine, 5(September 2016). https://doi.org/10.1109/JTEHM.2017.2649491"
      ]
    },
    {
      "cell_type": "code",
      "metadata": {
        "id": "1AYImKYvu0Ej",
        "colab_type": "code",
        "outputId": "b83a64f5-b995-4b1b-eba0-04683b550456",
        "colab": {
          "base_uri": "https://localhost:8080/",
          "height": 244
        }
      },
      "source": [
        "%%time\n",
        "from sklearn.externals import joblib\n",
        "from sklearn.model_selection  import GridSearchCV\n",
        "\n",
        "# make a parameter grid with the range of hyperparameteer values of interest\n",
        "PARAM_GRID = {'clf__C': [0.5, 1.0, 2.0, 4.0, 8.0], \n",
        "              'clf__gamma': [0.005, 0.01, 0.02, 0.05, 0.1, 0.2]}\n",
        "\n",
        "def Grid_Search(X_train, y_train, estimator, cv, \n",
        "                param_grid, scorer, pipe_file_path):\n",
        "\n",
        "  # create gridsearch object\n",
        "  gs = GridSearchCV(estimator=estimator, \n",
        "                    param_grid=param_grid, \n",
        "                    scoring=scorer, \n",
        "                    cv=cv,\n",
        "                    return_train_score=True,\n",
        "                    refit = True,\n",
        "                    n_jobs=-1)\n",
        "\n",
        "  # fit the gridsearch object\n",
        "  gs = gs.fit(X_train, y_train)\n",
        "\n",
        "  # get the results of the gridsearch\n",
        "  results = pd.DataFrame(gs.cv_results_)\n",
        "\n",
        "  # select the best estimator\n",
        "  clf_pipe = gs.best_estimator_\n",
        "\n",
        "  # save\n",
        "  joblib.dump(clf_pipe, pipe_file_path)\n",
        "\n",
        "  display(results[['mean_fit_time','mean_score_time',\n",
        "                   'params','mean_test_score',\n",
        "                   'std_test_score']].sort_values(by='mean_test_score',\n",
        "                                                  ascending =False).head())\n",
        "\n",
        "  return clf_pipe, results\n",
        "\n",
        "best_svm_pipe, svm_grid_results = Grid_Search(X_train, y_train, pipe_svc, \n",
        "                                              StratKFold, PARAM_GRID, SCORER, \n",
        "                                              'Grid_SVM.joblib')"
      ],
      "execution_count": 0,
      "outputs": [
        {
          "output_type": "display_data",
          "data": {
            "text/html": [
              "<div>\n",
              "<style scoped>\n",
              "    .dataframe tbody tr th:only-of-type {\n",
              "        vertical-align: middle;\n",
              "    }\n",
              "\n",
              "    .dataframe tbody tr th {\n",
              "        vertical-align: top;\n",
              "    }\n",
              "\n",
              "    .dataframe thead th {\n",
              "        text-align: right;\n",
              "    }\n",
              "</style>\n",
              "<table border=\"1\" class=\"dataframe\">\n",
              "  <thead>\n",
              "    <tr style=\"text-align: right;\">\n",
              "      <th></th>\n",
              "      <th>mean_fit_time</th>\n",
              "      <th>mean_score_time</th>\n",
              "      <th>params</th>\n",
              "      <th>mean_test_score</th>\n",
              "      <th>std_test_score</th>\n",
              "    </tr>\n",
              "  </thead>\n",
              "  <tbody>\n",
              "    <tr>\n",
              "      <th>21</th>\n",
              "      <td>0.013694</td>\n",
              "      <td>0.000766</td>\n",
              "      <td>{'clf__C': 4.0, 'clf__gamma': 0.05}</td>\n",
              "      <td>0.987500</td>\n",
              "      <td>0.026680</td>\n",
              "    </tr>\n",
              "    <tr>\n",
              "      <th>27</th>\n",
              "      <td>0.013307</td>\n",
              "      <td>0.000807</td>\n",
              "      <td>{'clf__C': 8.0, 'clf__gamma': 0.05}</td>\n",
              "      <td>0.987500</td>\n",
              "      <td>0.026680</td>\n",
              "    </tr>\n",
              "    <tr>\n",
              "      <th>26</th>\n",
              "      <td>0.009954</td>\n",
              "      <td>0.000696</td>\n",
              "      <td>{'clf__C': 8.0, 'clf__gamma': 0.02}</td>\n",
              "      <td>0.987500</td>\n",
              "      <td>0.026680</td>\n",
              "    </tr>\n",
              "    <tr>\n",
              "      <th>19</th>\n",
              "      <td>0.009221</td>\n",
              "      <td>0.000655</td>\n",
              "      <td>{'clf__C': 4.0, 'clf__gamma': 0.01}</td>\n",
              "      <td>0.983333</td>\n",
              "      <td>0.027639</td>\n",
              "    </tr>\n",
              "    <tr>\n",
              "      <th>25</th>\n",
              "      <td>0.009441</td>\n",
              "      <td>0.000686</td>\n",
              "      <td>{'clf__C': 8.0, 'clf__gamma': 0.01}</td>\n",
              "      <td>0.983333</td>\n",
              "      <td>0.027639</td>\n",
              "    </tr>\n",
              "  </tbody>\n",
              "</table>\n",
              "</div>"
            ],
            "text/plain": [
              "    mean_fit_time  mean_score_time  ... mean_test_score  std_test_score\n",
              "21       0.013694         0.000766  ...        0.987500        0.026680\n",
              "27       0.013307         0.000807  ...        0.987500        0.026680\n",
              "26       0.009954         0.000696  ...        0.987500        0.026680\n",
              "19       0.009221         0.000655  ...        0.983333        0.027639\n",
              "25       0.009441         0.000686  ...        0.983333        0.027639\n",
              "\n",
              "[5 rows x 5 columns]"
            ]
          },
          "metadata": {
            "tags": []
          }
        },
        {
          "output_type": "stream",
          "text": [
            "CPU times: user 444 ms, sys: 10.6 ms, total: 455 ms\n",
            "Wall time: 3.27 s\n"
          ],
          "name": "stdout"
        }
      ]
    },
    {
      "cell_type": "markdown",
      "metadata": {
        "id": "MKjixgGFvg3f",
        "colab_type": "text"
      },
      "source": [
        "## Randomized Search\n",
        "\n",
        "Although a powerful method, gridsearch is computationally expensive as it has to evaluate all the possible parameter combinations. If we were working with a larger dataset (as we will in later tutorials), it is much better to randomly sample different random parameter combinations within a given range using RandomizedSearchCV<sup>1</sup>. \n",
        "\n",
        "You can provide distributions for sampling parameters as demonstrated for gamma below. The distributions just make it more likely a value will be picked within a certain range. For example an exponential continuous random variable could be set so its more likely to get a lower number. Lets plot 1000 random samples and see where they lie.\n",
        "\n",
        "---\n",
        "\n",
        "1. Raschka, Sebastian, and Vahid Mirjalili. Python Machine Learning, 2nd Ed. Packt Publishing, 2017."
      ]
    },
    {
      "cell_type": "code",
      "metadata": {
        "id": "fP8O7CDlvjcr",
        "colab_type": "code",
        "outputId": "1edbafb6-9d99-4934-e644-23e96f914a65",
        "colab": {
          "base_uri": "https://localhost:8080/",
          "height": 279
        }
      },
      "source": [
        "from scipy.stats import expon\n",
        "\n",
        "plt.hist(expon(scale=0.1).rvs(size=1000), histtype='stepfilled', alpha=0.2)\n",
        "plt.xlabel('Parameter Number')\n",
        "plt.ylabel('Times picked')\n",
        "plt.show()"
      ],
      "execution_count": 0,
      "outputs": [
        {
          "output_type": "display_data",
          "data": {
            "image/png": "[encoded data removed]",
            "text/plain": [
              "<Figure size 432x288 with 1 Axes>"
            ]
          },
          "metadata": {
            "tags": []
          }
        }
      ]
    },
    {
      "cell_type": "markdown",
      "metadata": {
        "id": "drEviisnvk2T",
        "colab_type": "text"
      },
      "source": [
        "...or you could use a gamma continuous random variable to provide a more 'normal' distribution."
      ]
    },
    {
      "cell_type": "code",
      "metadata": {
        "id": "CL_RSaMOvnrk",
        "colab_type": "code",
        "outputId": "58e1faac-b2d3-435a-cff5-0295df1c0207",
        "colab": {
          "base_uri": "https://localhost:8080/",
          "height": 279
        }
      },
      "source": [
        "from scipy.stats import gamma\n",
        "\n",
        "plt.hist(gamma(a=10, scale=0.01).rvs(size=1000), histtype='stepfilled', alpha=0.2)\n",
        "plt.xlabel('Parameter Number')\n",
        "plt.ylabel('Times picked')\n",
        "plt.show()"
      ],
      "execution_count": 0,
      "outputs": [
        {
          "output_type": "display_data",
          "data": {
            "image/png": "[encoded data removed]",
            "text/plain": [
              "<Figure size 432x288 with 1 Axes>"
            ]
          },
          "metadata": {
            "tags": []
          }
        }
      ]
    },
    {
      "cell_type": "markdown",
      "metadata": {
        "id": "quqSSpnxvqj7",
        "colab_type": "text"
      },
      "source": [
        "So instead of a set parameter dictionary lets provide our C with a random number between 0.1 and 8, and the Gamma parameter a gamma distribution around 0.1."
      ]
    },
    {
      "cell_type": "code",
      "metadata": {
        "id": "MXDyWMYJvyKk",
        "colab_type": "code",
        "outputId": "2797e0d1-d4b1-4aa1-e938-fcb9b669c439",
        "colab": {
          "base_uri": "https://localhost:8080/",
          "height": 244
        }
      },
      "source": [
        "%%time\n",
        "from sklearn.externals import joblib\n",
        "from sklearn.model_selection  import RandomizedSearchCV\n",
        "from scipy.stats import randint as sp_randint\n",
        "\n",
        "PARAM_DIST = {'clf__C': sp_randint(0.1, 8.), \n",
        "              'clf__gamma': gamma(a=10, scale=0.01)}\n",
        "\n",
        "# Number of parameter settings that are sampled. \n",
        "# n_iter trades off runtime vs quality of the solution.\n",
        "N_ITER = 10\n",
        "\n",
        "def Rand_Search(X_train, y_train, estimator, cv, n_iter,\n",
        "                param_dist, scorer, pipe_file_path):\n",
        "        \n",
        "  # create gridsearch object\n",
        "  gs = RandomizedSearchCV(estimator=estimator,\n",
        "                          param_distributions=param_dist, \n",
        "                          n_iter = n_iter,\n",
        "                          scoring=scorer, \n",
        "                          cv=cv,\n",
        "                          return_train_score=True,\n",
        "                          n_jobs=-1)\n",
        "\n",
        "  # fit the gridsearch object\n",
        "  gs = gs.fit(X_train, y_train)\n",
        "\n",
        "  # get the results of the gridsearch\n",
        "  results = pd.DataFrame(gs.cv_results_)\n",
        "\n",
        "  # select the best estimator\n",
        "  clf_pipe = gs.best_estimator_\n",
        "\n",
        "  # save\n",
        "  joblib.dump(clf_pipe, pipe_file_path)\n",
        "\n",
        "  display(results[['mean_fit_time','mean_score_time',\n",
        "                   'params','mean_test_score',\n",
        "                   'std_test_score']].sort_values(by='mean_test_score',\n",
        "                                                  ascending =False).head())\n",
        "\n",
        "Rand_Search(X_train, y_train, pipe_svc, StratKFold, N_ITER, \n",
        "            PARAM_GRID, SCORER, 'Rand_SVM.joblib')"
      ],
      "execution_count": 0,
      "outputs": [
        {
          "output_type": "display_data",
          "data": {
            "text/html": [
              "<div>\n",
              "<style scoped>\n",
              "    .dataframe tbody tr th:only-of-type {\n",
              "        vertical-align: middle;\n",
              "    }\n",
              "\n",
              "    .dataframe tbody tr th {\n",
              "        vertical-align: top;\n",
              "    }\n",
              "\n",
              "    .dataframe thead th {\n",
              "        text-align: right;\n",
              "    }\n",
              "</style>\n",
              "<table border=\"1\" class=\"dataframe\">\n",
              "  <thead>\n",
              "    <tr style=\"text-align: right;\">\n",
              "      <th></th>\n",
              "      <th>mean_fit_time</th>\n",
              "      <th>mean_score_time</th>\n",
              "      <th>params</th>\n",
              "      <th>mean_test_score</th>\n",
              "      <th>std_test_score</th>\n",
              "    </tr>\n",
              "  </thead>\n",
              "  <tbody>\n",
              "    <tr>\n",
              "      <th>1</th>\n",
              "      <td>0.014617</td>\n",
              "      <td>0.000794</td>\n",
              "      <td>{'clf__gamma': 0.05, 'clf__C': 8.0}</td>\n",
              "      <td>0.987500</td>\n",
              "      <td>0.026680</td>\n",
              "    </tr>\n",
              "    <tr>\n",
              "      <th>0</th>\n",
              "      <td>0.010765</td>\n",
              "      <td>0.000722</td>\n",
              "      <td>{'clf__gamma': 0.02, 'clf__C': 4.0}</td>\n",
              "      <td>0.983333</td>\n",
              "      <td>0.027639</td>\n",
              "    </tr>\n",
              "    <tr>\n",
              "      <th>7</th>\n",
              "      <td>0.010138</td>\n",
              "      <td>0.000700</td>\n",
              "      <td>{'clf__gamma': 0.01, 'clf__C': 4.0}</td>\n",
              "      <td>0.983333</td>\n",
              "      <td>0.027639</td>\n",
              "    </tr>\n",
              "    <tr>\n",
              "      <th>5</th>\n",
              "      <td>0.012317</td>\n",
              "      <td>0.000750</td>\n",
              "      <td>{'clf__gamma': 0.02, 'clf__C': 2.0}</td>\n",
              "      <td>0.975000</td>\n",
              "      <td>0.038188</td>\n",
              "    </tr>\n",
              "    <tr>\n",
              "      <th>8</th>\n",
              "      <td>0.027221</td>\n",
              "      <td>0.000997</td>\n",
              "      <td>{'clf__gamma': 0.2, 'clf__C': 8.0}</td>\n",
              "      <td>0.970833</td>\n",
              "      <td>0.041874</td>\n",
              "    </tr>\n",
              "  </tbody>\n",
              "</table>\n",
              "</div>"
            ],
            "text/plain": [
              "   mean_fit_time  mean_score_time  ... mean_test_score  std_test_score\n",
              "1       0.014617         0.000794  ...        0.987500        0.026680\n",
              "0       0.010765         0.000722  ...        0.983333        0.027639\n",
              "7       0.010138         0.000700  ...        0.983333        0.027639\n",
              "5       0.012317         0.000750  ...        0.975000        0.038188\n",
              "8       0.027221         0.000997  ...        0.970833        0.041874\n",
              "\n",
              "[5 rows x 5 columns]"
            ]
          },
          "metadata": {
            "tags": []
          }
        },
        {
          "output_type": "stream",
          "text": [
            "CPU times: user 190 ms, sys: 3.62 ms, total: 194 ms\n",
            "Wall time: 1.02 s\n"
          ],
          "name": "stdout"
        }
      ]
    },
    {
      "cell_type": "markdown",
      "metadata": {
        "id": "ZlUOdY1kwdss",
        "colab_type": "text"
      },
      "source": [
        "Imagining we have decided this is the best method to use, we could then use this on our test set as a final performance evaluation."
      ]
    },
    {
      "cell_type": "code",
      "metadata": {
        "id": "eqybCZidwbSW",
        "colab_type": "code",
        "outputId": "1d0ec6af-fb1a-4b5d-fbb3-4c3227c3f793",
        "colab": {
          "base_uri": "https://localhost:8080/",
          "height": 269
        }
      },
      "source": [
        "predictions = best_svm_pipe.predict(X_test)\n",
        "\n",
        "confmat = confusion_matrix(y_true=y_test, y_pred=predictions)\n",
        "\n",
        "pretty_confusion_matrix(confmat)"
      ],
      "execution_count": 0,
      "outputs": [
        {
          "output_type": "display_data",
          "data": {
            "image/png": "[encoded data removed]",
            "text/plain": [
              "<Figure size 288x288 with 1 Axes>"
            ]
          },
          "metadata": {
            "tags": []
          }
        }
      ]
    },
    {
      "cell_type": "markdown",
      "metadata": {
        "id": "94E-MoWkwomP",
        "colab_type": "text"
      },
      "source": [
        "## Bayesian Optimization\n",
        "\n",
        "Optimizing the hyperparameters of a machine learning model could be seen as a minimization problem, as we are looking for the lowest validation loss<sup>1</sup>. Bayesian optimization is a probabilisitic model that can be more efficient than manual, random, or grid search for finding optimal hyperparameters<sup>2</sup>. There are a number of python packages to do bayesian optimization such as...\n",
        "\n",
        "- Spearmint<sup>3</sup>\n",
        "    - Gaussian process\n",
        "- Hyperopt<sup>4</sup>\n",
        "    - Tree Parzen Estimator (TPE)\n",
        "- SMAC<sup>5</sup>\n",
        "    - Random forest regression\n",
        "    \n",
        "We are going to use Hyperopt, mainly because there are a number of tutorials on its use<sup>6,7</sup> .\n",
        "\n",
        "Alike to random search, a search space needs to be specified. Although initally stochastic, as hyperopt gets more feedback from an objective function, it samples parts of the search space that gives it the most meaningful feedback<sup>1</sup>.\n",
        "\n",
        "We can use STATUS_OK and Trials to store information at each timestep and use them for visualisations. \n",
        "\n",
        "**NOTES**\n",
        "- This implimentation was based on<sup>1</sup>\n",
        "- For a good conceptual explanation of the method, read [this post]\n",
        "- Notice that for the kernel we have different methods in the PARAM_DIST depending on the kernel it picks. This just means it only tests a value for a certain parmeter if another is chosen (creates a dependency). For example, there is no reason to pick a Gamma parameter if you are going to be testing a linear kernel.\n",
        "---\n",
        "\n",
        "1. https://towardsdatascience.com/an-introductory-example-of-bayesian-optimization-in-python-with-hyperopt-aae40fff4ff0\n",
        "2. Bergstra, J., Yamins, D., & Cox, D. D. (2013). Making a science of model search: Hyperparameter optimization in hundreds of dimensions for vision architectures.\n",
        "3. https://github.com/HIPS/Spearmint\n",
        "4. http://hyperopt.github.io/hyperopt/\n",
        "5. https://automl.github.io/SMAC3/stable/\n",
        "6. https://github.com/WillKoehrsen/hyperparameter-optimization/blob/master/Bayesian%20Hyperparameter%20Optimization%20of%20Gradient%20Boosting%20Machine.ipynb\n",
        "7. https://medium.com/district-data-labs/parameter-tuning-with-hyperopt-faa86acdfdce\n",
        "[this post]: https://towardsdatascience.com/a-conceptual-explanation-of-bayesian-model-based-hyperparameter-optimization-for-machine-learning-b8172278050f"
      ]
    },
    {
      "cell_type": "code",
      "metadata": {
        "id": "nMXD66rX34Nb",
        "colab_type": "code",
        "outputId": "c4717948-a8fa-4419-ed9a-6fbf2a1982f9",
        "colab": {
          "base_uri": "https://localhost:8080/",
          "height": 74
        }
      },
      "source": [
        "from hyperopt import fmin, tpe, hp, STATUS_OK, Trials\n",
        "from sklearn.preprocessing import StandardScaler\n",
        "\n",
        "PARAM_DIST = {\n",
        "  'C': hp.uniform('C', 0, 8),\n",
        "  'kernel': hp.choice('kernel', [\n",
        "      {'ktype': 'linear', 'gamma':'auto'}, # gamma ignored \n",
        "      {'ktype': 'sigmoid', 'gamma': hp.uniform('sig_gamma', 0, 1)}, \n",
        "      {'ktype':'poly', 'gamma': hp.uniform('poly_gamma', 0, 1)}, \n",
        "      {'ktype': 'rbf','gamma': hp.uniform('rbf_gamma', 0, 1)}]),\n",
        "  'scale': hp.choice('scale', [0, 1])\n",
        "}\n",
        "\n",
        "def hyperopt_train_test(params):\n",
        "  X_ = X_train[:]\n",
        "\n",
        "  if 'scale' in params:\n",
        "    if params['scale'] == 1:\n",
        "      sc = StandardScaler()\n",
        "      X_ = sc.fit_transform(X_)\n",
        "      \n",
        "  clf = SVC(C = params['C'],\n",
        "            kernel = params['kernel']['ktype'],\n",
        "            gamma = params['kernel']['gamma'],\n",
        "           )\n",
        "  \n",
        "  return cross_val_score(clf, X_, y_train, cv = 5).mean()\n",
        "\n",
        "def objective(params):\n",
        "  acc = hyperopt_train_test(params)\n",
        "  return {'loss': -acc,             # minus because we need to reduce\n",
        "          'status': STATUS_OK}\n",
        "\n",
        "trials = Trials()\n",
        "best = fmin(objective, PARAM_DIST, \n",
        "            algo=tpe.suggest, max_evals=500, \n",
        "            trials=trials)\n",
        "\n",
        "print('best:')\n",
        "print(best)"
      ],
      "execution_count": 0,
      "outputs": [
        {
          "output_type": "stream",
          "text": [
            "100%|██████████| 500/500 [00:29<00:00, 16.86it/s, best loss: -0.9875]\n",
            "best:\n",
            "{'C': 0.6420956527993178, 'kernel': 0, 'scale': 1}\n"
          ],
          "name": "stdout"
        }
      ]
    },
    {
      "cell_type": "markdown",
      "metadata": {
        "id": "psw7r-Oa-9jO",
        "colab_type": "text"
      },
      "source": [
        "We can now plot the accuracy compared to the hyperparameter value. In this first plot we will look at the changes over time (my preffered way of looking at it).\n",
        "\n",
        "**NOTES**\n",
        "- This was based on<sup>1</sup>\n",
        "\n",
        "---\n",
        "1. https://medium.com/district-data-labs/parameter-tuning-with-hyperopt-faa86acdfdce"
      ]
    },
    {
      "cell_type": "code",
      "metadata": {
        "id": "LCVIy3Bv-HEE",
        "colab_type": "code",
        "outputId": "2de3d360-b42f-41ba-9b91-cc74a883c433",
        "colab": {
          "base_uri": "https://localhost:8080/",
          "height": 350
        }
      },
      "source": [
        "def trials_plot(plot_type):\n",
        "\n",
        "  #parameters = list(trials.trials[0]['misc']['vals'].keys())\n",
        "  parameters = ['C', 'kernel', 'scale', 'sig_gamma', 'poly_gamma', 'rbf_gamma']\n",
        "  \n",
        "  f, ax = plt.subplots(nrows=2, ncols=int(len(parameters)/2), figsize=(10,5))\n",
        "  axes = ax.flat\n",
        "\n",
        "  for i, val in enumerate(parameters):\n",
        "    ys = []\n",
        "    for t in trials.trials:\n",
        "      if t['misc']['vals'][val]:\n",
        "        ys.extend(t['misc']['vals'][val])\n",
        "      else:\n",
        "        ys.append(np.nan)\n",
        "    ys = np.array(ys).ravel()\n",
        "    \n",
        "    if plot_type=='Accuracy':\n",
        "      xs = [-t['result']['loss'] for t in trials.trials]\n",
        "      axes[i].scatter(xs, ys, s=20, linewidth=0.01, \n",
        "                    alpha=0.25, c=xs, cmap = plt.cm.jet)\n",
        "    elif plot_type=='Time':\n",
        "      xs = [t['tid'] for t in trials.trials]\n",
        "      c = [-t['result']['loss'] for t in trials.trials]\n",
        "      im = axes[i].scatter(xs, ys, s=20,c = c, linewidth=0.01, \n",
        "                           cmap = plt.cm.jet, vmin=0., vmax=1)\n",
        "    else:\n",
        "      print('plot_type can be Accuracy or Time')\n",
        "      \n",
        "    axes[i].set_title(val)\n",
        "  \n",
        "  plt.subplots_adjust(wspace=0.2, hspace=0.5)\n",
        "  \n",
        "  if plot_type=='Time':\n",
        "    cbar = f.colorbar(im, ax=ax.ravel().tolist(), fraction=0.046, pad=0.04)\n",
        "    cbar.ax.set_title('Score')\n",
        "\n",
        "  # add a big axes, hide frame\n",
        "  f.add_subplot(111, frameon=False)\n",
        "  # hide tick and tick label of the big axes\n",
        "  plt.tick_params(labelcolor='none', \n",
        "                  top=False, \n",
        "                  bottom=False, \n",
        "                  left=False, \n",
        "                  right=False)\n",
        "  plt.grid(False)\n",
        "  plt.xlabel(plot_type)\n",
        "  plt.ylabel('Hyperparameter Value')\n",
        "\n",
        "  plt.show()\n",
        "\n",
        "  \n",
        "trials_plot(plot_type='Time')  "
      ],
      "execution_count": 0,
      "outputs": [
        {
          "output_type": "display_data",
          "data": {
            "image/png": "[encoded data removed]",
            "text/plain": [
              "<Figure size 720x360 with 8 Axes>"
            ]
          },
          "metadata": {
            "tags": []
          }
        }
      ]
    },
    {
      "cell_type": "markdown",
      "metadata": {
        "id": "0FxYxcFRGR7R",
        "colab_type": "text"
      },
      "source": [
        "FOr a more simple view, we can just plot the accuracy to the parameter. Here it makes it clear that we are more likely to get better scores when C is low, we use the first kernel (0: linear), and scale our data."
      ]
    },
    {
      "cell_type": "code",
      "metadata": {
        "id": "-6WmN2W-_ZY2",
        "colab_type": "code",
        "outputId": "ef468191-90dc-4341-fe07-e889f03a870f",
        "colab": {
          "base_uri": "https://localhost:8080/",
          "height": 350
        }
      },
      "source": [
        "trials_plot(plot_type='Accuracy')"
      ],
      "execution_count": 0,
      "outputs": [
        {
          "output_type": "display_data",
          "data": {
            "image/png": "[encoded data removed]",
            "text/plain": [
              "<Figure size 720x360 with 7 Axes>"
            ]
          },
          "metadata": {
            "tags": []
          }
        }
      ]
    },
    {
      "cell_type": "markdown",
      "metadata": {
        "id": "kboASAEJH4wD",
        "colab_type": "text"
      },
      "source": [
        "We may want to get out a dataframe similar to what we saw before from the other methods so lets do that before we move on."
      ]
    },
    {
      "cell_type": "code",
      "metadata": {
        "id": "S3YbMsCy_Al2",
        "colab_type": "code",
        "outputId": "836adeb9-c898-40b2-a05c-3f043da0d30d",
        "colab": {
          "base_uri": "https://localhost:8080/",
          "height": 238
        }
      },
      "source": [
        "df = pd.DataFrame()\n",
        "for i, t in enumerate(trials.trials):\n",
        "  for param in t['misc']['vals']:\n",
        "    # if there is nothing in the dict for that parameter...\n",
        "    if not t['misc']['vals'][param]:\n",
        "      # ...put an empty value\n",
        "      t['misc']['vals'][param] = [np.nan]\n",
        "  df = pd.DataFrame(t['misc']['vals'])\n",
        "  df['loss'] = t['result']['loss']\n",
        "  df['tid'] = t['tid']\n",
        "  df = df.set_index('tid')\n",
        "  df['time (ms)'] = (t['refresh_time'] - t['book_time']).microseconds/1000\n",
        "  \n",
        "  if i ==0:\n",
        "    results = df\n",
        "  else:\n",
        "    results = pd.concat([results, df])\n",
        "    \n",
        "    \n",
        "results.head()"
      ],
      "execution_count": 0,
      "outputs": [
        {
          "output_type": "execute_result",
          "data": {
            "text/html": [
              "<div>\n",
              "<style scoped>\n",
              "    .dataframe tbody tr th:only-of-type {\n",
              "        vertical-align: middle;\n",
              "    }\n",
              "\n",
              "    .dataframe tbody tr th {\n",
              "        vertical-align: top;\n",
              "    }\n",
              "\n",
              "    .dataframe thead th {\n",
              "        text-align: right;\n",
              "    }\n",
              "</style>\n",
              "<table border=\"1\" class=\"dataframe\">\n",
              "  <thead>\n",
              "    <tr style=\"text-align: right;\">\n",
              "      <th></th>\n",
              "      <th>C</th>\n",
              "      <th>kernel</th>\n",
              "      <th>poly_gamma</th>\n",
              "      <th>rbf_gamma</th>\n",
              "      <th>scale</th>\n",
              "      <th>sig_gamma</th>\n",
              "      <th>loss</th>\n",
              "      <th>time (ms)</th>\n",
              "    </tr>\n",
              "    <tr>\n",
              "      <th>tid</th>\n",
              "      <th></th>\n",
              "      <th></th>\n",
              "      <th></th>\n",
              "      <th></th>\n",
              "      <th></th>\n",
              "      <th></th>\n",
              "      <th></th>\n",
              "      <th></th>\n",
              "    </tr>\n",
              "  </thead>\n",
              "  <tbody>\n",
              "    <tr>\n",
              "      <th>0</th>\n",
              "      <td>2.264242</td>\n",
              "      <td>2</td>\n",
              "      <td>0.204688</td>\n",
              "      <td>NaN</td>\n",
              "      <td>0</td>\n",
              "      <td>NaN</td>\n",
              "      <td>-0.966667</td>\n",
              "      <td>25.0</td>\n",
              "    </tr>\n",
              "    <tr>\n",
              "      <th>1</th>\n",
              "      <td>7.597689</td>\n",
              "      <td>1</td>\n",
              "      <td>NaN</td>\n",
              "      <td>NaN</td>\n",
              "      <td>0</td>\n",
              "      <td>0.416911</td>\n",
              "      <td>-0.666667</td>\n",
              "      <td>16.0</td>\n",
              "    </tr>\n",
              "    <tr>\n",
              "      <th>2</th>\n",
              "      <td>3.923304</td>\n",
              "      <td>1</td>\n",
              "      <td>NaN</td>\n",
              "      <td>NaN</td>\n",
              "      <td>1</td>\n",
              "      <td>0.971468</td>\n",
              "      <td>-0.900000</td>\n",
              "      <td>11.0</td>\n",
              "    </tr>\n",
              "    <tr>\n",
              "      <th>3</th>\n",
              "      <td>5.195620</td>\n",
              "      <td>3</td>\n",
              "      <td>NaN</td>\n",
              "      <td>0.298334</td>\n",
              "      <td>1</td>\n",
              "      <td>NaN</td>\n",
              "      <td>-0.966667</td>\n",
              "      <td>27.0</td>\n",
              "    </tr>\n",
              "    <tr>\n",
              "      <th>4</th>\n",
              "      <td>7.800837</td>\n",
              "      <td>0</td>\n",
              "      <td>NaN</td>\n",
              "      <td>NaN</td>\n",
              "      <td>1</td>\n",
              "      <td>NaN</td>\n",
              "      <td>-0.983333</td>\n",
              "      <td>12.0</td>\n",
              "    </tr>\n",
              "  </tbody>\n",
              "</table>\n",
              "</div>"
            ],
            "text/plain": [
              "            C  kernel  poly_gamma  ...  sig_gamma      loss  time (ms)\n",
              "tid                                ...                                \n",
              "0    2.264242       2    0.204688  ...        NaN -0.966667       25.0\n",
              "1    7.597689       1         NaN  ...   0.416911 -0.666667       16.0\n",
              "2    3.923304       1         NaN  ...   0.971468 -0.900000       11.0\n",
              "3    5.195620       3         NaN  ...        NaN -0.966667       27.0\n",
              "4    7.800837       0         NaN  ...        NaN -0.983333       12.0\n",
              "\n",
              "[5 rows x 8 columns]"
            ]
          },
          "metadata": {
            "tags": []
          },
          "execution_count": 53
        }
      ]
    },
    {
      "cell_type": "code",
      "metadata": {
        "id": "Qq00rjHLoN51",
        "colab_type": "code",
        "outputId": "602a6347-b2d2-4d33-b424-0a8294ce4d02",
        "colab": {
          "base_uri": "https://localhost:8080/",
          "height": 455
        }
      },
      "source": [
        "results.sort_values(by='loss',ascending = True).head()"
      ],
      "execution_count": 0,
      "outputs": [
        {
          "output_type": "execute_result",
          "data": {
            "text/html": [
              "<div>\n",
              "<style scoped>\n",
              "    .dataframe tbody tr th:only-of-type {\n",
              "        vertical-align: middle;\n",
              "    }\n",
              "\n",
              "    .dataframe tbody tr th {\n",
              "        vertical-align: top;\n",
              "    }\n",
              "\n",
              "    .dataframe thead th {\n",
              "        text-align: right;\n",
              "    }\n",
              "</style>\n",
              "<table border=\"1\" class=\"dataframe\">\n",
              "  <thead>\n",
              "    <tr style=\"text-align: right;\">\n",
              "      <th></th>\n",
              "      <th>C</th>\n",
              "      <th>kernel</th>\n",
              "      <th>poly_gamma</th>\n",
              "      <th>rbf_gamma</th>\n",
              "      <th>scale</th>\n",
              "      <th>sig_gamma</th>\n",
              "      <th>loss</th>\n",
              "      <th>time (ms)</th>\n",
              "    </tr>\n",
              "    <tr>\n",
              "      <th>tid</th>\n",
              "      <th></th>\n",
              "      <th></th>\n",
              "      <th></th>\n",
              "      <th></th>\n",
              "      <th></th>\n",
              "      <th></th>\n",
              "      <th></th>\n",
              "      <th></th>\n",
              "    </tr>\n",
              "  </thead>\n",
              "  <tbody>\n",
              "    <tr>\n",
              "      <th>0</th>\n",
              "      <td>2.264242</td>\n",
              "      <td>2</td>\n",
              "      <td>0.204688</td>\n",
              "      <td>NaN</td>\n",
              "      <td>0</td>\n",
              "      <td>NaN</td>\n",
              "      <td>-0.966667</td>\n",
              "      <td>25.0</td>\n",
              "    </tr>\n",
              "    <tr>\n",
              "      <th>1</th>\n",
              "      <td>7.597689</td>\n",
              "      <td>1</td>\n",
              "      <td>NaN</td>\n",
              "      <td>NaN</td>\n",
              "      <td>0</td>\n",
              "      <td>0.416911</td>\n",
              "      <td>-0.666667</td>\n",
              "      <td>16.0</td>\n",
              "    </tr>\n",
              "    <tr>\n",
              "      <th>2</th>\n",
              "      <td>3.923304</td>\n",
              "      <td>1</td>\n",
              "      <td>NaN</td>\n",
              "      <td>NaN</td>\n",
              "      <td>1</td>\n",
              "      <td>0.971468</td>\n",
              "      <td>-0.900000</td>\n",
              "      <td>11.0</td>\n",
              "    </tr>\n",
              "    <tr>\n",
              "      <th>3</th>\n",
              "      <td>5.195620</td>\n",
              "      <td>3</td>\n",
              "      <td>NaN</td>\n",
              "      <td>0.298334</td>\n",
              "      <td>1</td>\n",
              "      <td>NaN</td>\n",
              "      <td>-0.966667</td>\n",
              "      <td>27.0</td>\n",
              "    </tr>\n",
              "    <tr>\n",
              "      <th>4</th>\n",
              "      <td>7.800837</td>\n",
              "      <td>0</td>\n",
              "      <td>NaN</td>\n",
              "      <td>NaN</td>\n",
              "      <td>1</td>\n",
              "      <td>NaN</td>\n",
              "      <td>-0.983333</td>\n",
              "      <td>12.0</td>\n",
              "    </tr>\n",
              "    <tr>\n",
              "      <th>...</th>\n",
              "      <td>...</td>\n",
              "      <td>...</td>\n",
              "      <td>...</td>\n",
              "      <td>...</td>\n",
              "      <td>...</td>\n",
              "      <td>...</td>\n",
              "      <td>...</td>\n",
              "      <td>...</td>\n",
              "    </tr>\n",
              "    <tr>\n",
              "      <th>495</th>\n",
              "      <td>0.351188</td>\n",
              "      <td>0</td>\n",
              "      <td>NaN</td>\n",
              "      <td>NaN</td>\n",
              "      <td>1</td>\n",
              "      <td>NaN</td>\n",
              "      <td>-0.970833</td>\n",
              "      <td>10.0</td>\n",
              "    </tr>\n",
              "    <tr>\n",
              "      <th>496</th>\n",
              "      <td>4.654264</td>\n",
              "      <td>0</td>\n",
              "      <td>NaN</td>\n",
              "      <td>NaN</td>\n",
              "      <td>1</td>\n",
              "      <td>NaN</td>\n",
              "      <td>-0.983333</td>\n",
              "      <td>10.0</td>\n",
              "    </tr>\n",
              "    <tr>\n",
              "      <th>497</th>\n",
              "      <td>0.515028</td>\n",
              "      <td>0</td>\n",
              "      <td>NaN</td>\n",
              "      <td>NaN</td>\n",
              "      <td>1</td>\n",
              "      <td>NaN</td>\n",
              "      <td>-0.987500</td>\n",
              "      <td>10.0</td>\n",
              "    </tr>\n",
              "    <tr>\n",
              "      <th>498</th>\n",
              "      <td>0.888586</td>\n",
              "      <td>2</td>\n",
              "      <td>0.485015</td>\n",
              "      <td>NaN</td>\n",
              "      <td>1</td>\n",
              "      <td>NaN</td>\n",
              "      <td>-0.929167</td>\n",
              "      <td>12.0</td>\n",
              "    </tr>\n",
              "    <tr>\n",
              "      <th>499</th>\n",
              "      <td>0.143699</td>\n",
              "      <td>0</td>\n",
              "      <td>NaN</td>\n",
              "      <td>NaN</td>\n",
              "      <td>1</td>\n",
              "      <td>NaN</td>\n",
              "      <td>-0.970833</td>\n",
              "      <td>10.0</td>\n",
              "    </tr>\n",
              "  </tbody>\n",
              "</table>\n",
              "<p>500 rows × 8 columns</p>\n",
              "</div>"
            ],
            "text/plain": [
              "            C  kernel  poly_gamma  ...  sig_gamma      loss  time (ms)\n",
              "tid                                ...                                \n",
              "0    2.264242       2    0.204688  ...        NaN -0.966667       25.0\n",
              "1    7.597689       1         NaN  ...   0.416911 -0.666667       16.0\n",
              "2    3.923304       1         NaN  ...   0.971468 -0.900000       11.0\n",
              "3    5.195620       3         NaN  ...        NaN -0.966667       27.0\n",
              "4    7.800837       0         NaN  ...        NaN -0.983333       12.0\n",
              "..        ...     ...         ...  ...        ...       ...        ...\n",
              "495  0.351188       0         NaN  ...        NaN -0.970833       10.0\n",
              "496  4.654264       0         NaN  ...        NaN -0.983333       10.0\n",
              "497  0.515028       0         NaN  ...        NaN -0.987500       10.0\n",
              "498  0.888586       2    0.485015  ...        NaN -0.929167       12.0\n",
              "499  0.143699       0         NaN  ...        NaN -0.970833       10.0\n",
              "\n",
              "[500 rows x 8 columns]"
            ]
          },
          "metadata": {
            "tags": []
          },
          "execution_count": 52
        }
      ]
    },
    {
      "cell_type": "markdown",
      "metadata": {
        "id": "IV2PJC2yJlhN",
        "colab_type": "text"
      },
      "source": [
        "There is even a version that focuses on making Hyperopt have a more Sklearn API focus\n"
      ]
    },
    {
      "cell_type": "code",
      "metadata": {
        "id": "Yf2Ie03TL06x",
        "colab_type": "code",
        "outputId": "c41bec1d-68d3-414a-efd5-2ae32f78e9c2",
        "colab": {
          "base_uri": "https://localhost:8080/",
          "height": 455
        }
      },
      "source": [
        "!pip install hpsklearn"
      ],
      "execution_count": 0,
      "outputs": [
        {
          "output_type": "stream",
          "text": [
            "Collecting hpsklearn\n",
            "  Downloading https://files.pythonhosted.org/packages/ce/cb/61b99f73621e2692abd0e730f7888a9983d01f626868336fa1db1d57bc1e/hpsklearn-0.1.0.tar.gz\n",
            "Requirement already satisfied: hyperopt in /usr/local/lib/python3.6/dist-packages (from hpsklearn) (0.1.2)\n",
            "Collecting nose\n",
            "\u001b[?25l  Downloading https://files.pythonhosted.org/packages/15/d8/dd071918c040f50fa1cf80da16423af51ff8ce4a0f2399b7bf8de45ac3d9/nose-1.3.7-py3-none-any.whl (154kB)\n",
            "\u001b[K     |████████████████████████████████| 163kB 5.2MB/s \n",
            "\u001b[?25hRequirement already satisfied: numpy in /usr/local/lib/python3.6/dist-packages (from hpsklearn) (1.17.5)\n",
            "Requirement already satisfied: scikit-learn in /usr/local/lib/python3.6/dist-packages (from hpsklearn) (0.22.1)\n",
            "Requirement already satisfied: scipy in /usr/local/lib/python3.6/dist-packages (from hpsklearn) (1.4.1)\n",
            "Requirement already satisfied: pymongo in /usr/local/lib/python3.6/dist-packages (from hyperopt->hpsklearn) (3.10.1)\n",
            "Requirement already satisfied: six in /usr/local/lib/python3.6/dist-packages (from hyperopt->hpsklearn) (1.12.0)\n",
            "Requirement already satisfied: tqdm in /usr/local/lib/python3.6/dist-packages (from hyperopt->hpsklearn) (4.28.1)\n",
            "Requirement already satisfied: networkx in /usr/local/lib/python3.6/dist-packages (from hyperopt->hpsklearn) (2.4)\n",
            "Requirement already satisfied: future in /usr/local/lib/python3.6/dist-packages (from hyperopt->hpsklearn) (0.16.0)\n",
            "Requirement already satisfied: joblib>=0.11 in /usr/local/lib/python3.6/dist-packages (from scikit-learn->hpsklearn) (0.14.1)\n",
            "Requirement already satisfied: decorator>=4.3.0 in /usr/local/lib/python3.6/dist-packages (from networkx->hyperopt->hpsklearn) (4.4.1)\n",
            "Building wheels for collected packages: hpsklearn\n",
            "  Building wheel for hpsklearn (setup.py) ... \u001b[?25l\u001b[?25hdone\n",
            "  Created wheel for hpsklearn: filename=hpsklearn-0.1.0-cp36-none-any.whl size=23914 sha256=037bd045b6ecc201f64d13047a66cf9f0227ebefac17266819c5f4f0e9afcafa\n",
            "  Stored in directory: /root/.cache/pip/wheels/41/ee/c4/3c267cbf78f0905434ee36b915d97a20610ad3af7ff3c75852\n",
            "Successfully built hpsklearn\n",
            "Installing collected packages: nose, hpsklearn\n",
            "Successfully installed hpsklearn-0.1.0 nose-1.3.7\n"
          ],
          "name": "stdout"
        }
      ]
    },
    {
      "cell_type": "code",
      "metadata": {
        "id": "1_yaRqSMJu1I",
        "colab_type": "code",
        "outputId": "ceee576e-2fa5-4063-b9d2-86cd0272d21c",
        "colab": {
          "base_uri": "https://localhost:8080/",
          "height": 1000
        }
      },
      "source": [
        "from hpsklearn import HyperoptEstimator, svc\n",
        "from hpsklearn import standard_scaler, min_max_scaler, normalizer\n",
        "\n",
        "estim = HyperoptEstimator(\n",
        "    classifier=svc('mySVC', \n",
        "                   kernels=['linear', 'rbf', 'poly', 'sigmoid'],\n",
        "                   C = hp.uniform('C', 0, 8),\n",
        "                   gamma = hp.uniform('gamma', 0, 1)),\n",
        "    preprocessing = [standard_scaler('standard'),\n",
        "                     min_max_scaler('minmax'),\n",
        "                     normalizer('Normal')],\n",
        "    max_evals=500\n",
        ")\n",
        "\n",
        "estim.fit(X_train,y_train)\n",
        "\n",
        "predictions = estim.predict(X_test)\n",
        "\n",
        "confmat = confusion_matrix(y_true=y_test, y_pred=predictions)\n",
        "\n",
        "pretty_confusion_matrix(confmat)"
      ],
      "execution_count": 0,
      "outputs": [
        {
          "output_type": "stream",
          "text": [
            "100%|██████████| 1/1 [00:00<00:00, 30.74it/s, best loss: 0.20833333333333337]\n",
            "100%|██████████| 1/1 [00:00<00:00, 30.72it/s, best loss: 0.20833333333333337]\n",
            "100%|██████████| 1/1 [00:00<00:00, 32.57it/s, best loss: 0.04166666666666663]\n",
            "100%|██████████| 1/1 [00:00<00:00, 33.13it/s, best loss: 0.04166666666666663]\n",
            "100%|██████████| 1/1 [00:00<00:00, 29.25it/s, best loss: 0.0]\n",
            "100%|██████████| 1/1 [00:00<00:00, 29.57it/s, best loss: 0.0]\n",
            "100%|██████████| 1/1 [00:00<00:00, 32.14it/s, best loss: 0.0]\n",
            "100%|██████████| 1/1 [00:00<00:00, 31.85it/s, best loss: 0.0]\n",
            "100%|██████████| 1/1 [00:00<00:00, 33.39it/s, best loss: 0.0]\n",
            "100%|██████████| 1/1 [00:00<00:00, 33.15it/s, best loss: 0.0]\n",
            "100%|██████████| 1/1 [00:00<00:00, 35.19it/s, best loss: 0.0]\n",
            "100%|██████████| 1/1 [00:00<00:00, 32.78it/s, best loss: 0.0]\n",
            "100%|██████████| 1/1 [00:00<00:00, 29.37it/s, best loss: 0.0]\n",
            "100%|██████████| 1/1 [00:00<00:00, 31.69it/s, best loss: 0.0]\n",
            "100%|██████████| 1/1 [00:00<00:00, 32.75it/s, best loss: 0.0]\n",
            "100%|██████████| 1/1 [00:00<00:00, 32.57it/s, best loss: 0.0]\n",
            "100%|██████████| 1/1 [00:00<00:00, 30.65it/s, best loss: 0.0]\n",
            "100%|██████████| 1/1 [00:00<00:00, 31.42it/s, best loss: 0.0]\n",
            "100%|██████████| 1/1 [00:00<00:00, 33.27it/s, best loss: 0.0]\n",
            "100%|██████████| 1/1 [00:00<00:00, 29.24it/s, best loss: 0.0]\n",
            "100%|██████████| 1/1 [00:00<00:00, 29.87it/s, best loss: 0.0]\n",
            "100%|██████████| 1/1 [00:00<00:00, 33.00it/s, best loss: 0.0]\n",
            "100%|██████████| 1/1 [00:00<00:00, 31.88it/s, best loss: 0.0]\n",
            "100%|██████████| 1/1 [00:00<00:00, 29.57it/s, best loss: 0.0]\n",
            "100%|██████████| 1/1 [00:00<00:00, 30.67it/s, best loss: 0.0]\n",
            "100%|██████████| 1/1 [00:00<00:00, 28.05it/s, best loss: 0.0]\n",
            "100%|██████████| 1/1 [00:00<00:00, 32.44it/s, best loss: 0.0]\n",
            "100%|██████████| 1/1 [00:00<00:00, 29.05it/s, best loss: 0.0]\n",
            "100%|██████████| 1/1 [00:00<00:00, 32.51it/s, best loss: 0.0]\n",
            "100%|██████████| 1/1 [00:00<00:00, 34.20it/s, best loss: 0.0]\n",
            "100%|██████████| 1/1 [00:00<00:00, 34.44it/s, best loss: 0.0]\n",
            "100%|██████████| 1/1 [00:00<00:00, 31.90it/s, best loss: 0.0]\n",
            "100%|██████████| 1/1 [00:00<00:00, 32.15it/s, best loss: 0.0]\n",
            "100%|██████████| 1/1 [00:00<00:00, 33.43it/s, best loss: 0.0]\n",
            "100%|██████████| 1/1 [00:00<00:00, 31.84it/s, best loss: 0.0]\n",
            "100%|██████████| 1/1 [00:00<00:00, 33.56it/s, best loss: 0.0]\n",
            "100%|██████████| 1/1 [00:00<00:00, 32.04it/s, best loss: 0.0]\n",
            "100%|██████████| 1/1 [00:00<00:00, 31.49it/s, best loss: 0.0]\n",
            "100%|██████████| 1/1 [00:00<00:00, 32.29it/s, best loss: 0.0]\n",
            "100%|██████████| 1/1 [00:00<00:00, 31.56it/s, best loss: 0.0]\n",
            "100%|██████████| 1/1 [00:00<00:00, 30.47it/s, best loss: 0.0]\n",
            "100%|██████████| 1/1 [00:00<00:00, 31.27it/s, best loss: 0.0]\n",
            "100%|██████████| 1/1 [00:00<00:00, 29.88it/s, best loss: 0.0]\n",
            "100%|██████████| 1/1 [00:00<00:00, 35.34it/s, best loss: 0.0]\n",
            "100%|██████████| 1/1 [00:00<00:00, 30.23it/s, best loss: 0.0]\n",
            "100%|██████████| 1/1 [00:00<00:00, 30.42it/s, best loss: 0.0]\n",
            "100%|██████████| 1/1 [00:00<00:00, 33.39it/s, best loss: 0.0]\n",
            "100%|██████████| 1/1 [00:00<00:00, 34.31it/s, best loss: 0.0]\n",
            "100%|██████████| 1/1 [00:00<00:00, 31.04it/s, best loss: 0.0]\n",
            "100%|██████████| 1/1 [00:00<00:00, 27.74it/s, best loss: 0.0]\n",
            "100%|██████████| 1/1 [00:00<00:00, 32.65it/s, best loss: 0.0]\n",
            "100%|██████████| 1/1 [00:00<00:00, 29.77it/s, best loss: 0.0]\n",
            "100%|██████████| 1/1 [00:00<00:00, 31.34it/s, best loss: 0.0]\n",
            "100%|██████████| 1/1 [00:00<00:00, 26.00it/s, best loss: 0.0]\n",
            "100%|██████████| 1/1 [00:00<00:00, 31.81it/s, best loss: 0.0]\n",
            "100%|██████████| 1/1 [00:00<00:00, 23.73it/s, best loss: 0.0]\n",
            "100%|██████████| 1/1 [00:00<00:00, 30.17it/s, best loss: 0.0]\n",
            "100%|██████████| 1/1 [00:00<00:00, 27.92it/s, best loss: 0.0]\n",
            "100%|██████████| 1/1 [00:00<00:00, 32.85it/s, best loss: 0.0]\n",
            "100%|██████████| 1/1 [00:00<00:00, 33.11it/s, best loss: 0.0]\n",
            "100%|██████████| 1/1 [00:00<00:00, 33.42it/s, best loss: 0.0]\n",
            "100%|██████████| 1/1 [00:00<00:00, 30.37it/s, best loss: 0.0]\n",
            "100%|██████████| 1/1 [00:00<00:00, 30.96it/s, best loss: 0.0]\n",
            "100%|██████████| 1/1 [00:00<00:00, 29.62it/s, best loss: 0.0]\n",
            "100%|██████████| 1/1 [00:00<00:00, 32.41it/s, best loss: 0.0]\n",
            "100%|██████████| 1/1 [00:00<00:00, 31.54it/s, best loss: 0.0]\n",
            "100%|██████████| 1/1 [00:00<00:00, 30.50it/s, best loss: 0.0]\n",
            "100%|██████████| 1/1 [00:00<00:00, 32.16it/s, best loss: 0.0]\n",
            "100%|██████████| 1/1 [00:00<00:00, 31.26it/s, best loss: 0.0]\n",
            "100%|██████████| 1/1 [00:00<00:00, 30.86it/s, best loss: 0.0]\n",
            "100%|██████████| 1/1 [00:00<00:00, 29.67it/s, best loss: 0.0]\n",
            "100%|██████████| 1/1 [00:00<00:00, 30.88it/s, best loss: 0.0]\n",
            "100%|██████████| 1/1 [00:00<00:00, 30.96it/s, best loss: 0.0]\n",
            "100%|██████████| 1/1 [00:00<00:00, 28.39it/s, best loss: 0.0]\n",
            "100%|██████████| 1/1 [00:00<00:00, 30.53it/s, best loss: 0.0]\n",
            "100%|██████████| 1/1 [00:00<00:00, 30.93it/s, best loss: 0.0]\n",
            "100%|██████████| 1/1 [00:00<00:00, 30.02it/s, best loss: 0.0]\n",
            "100%|██████████| 1/1 [00:00<00:00, 25.17it/s, best loss: 0.0]\n",
            "100%|██████████| 1/1 [00:00<00:00, 29.05it/s, best loss: 0.0]\n",
            "100%|██████████| 1/1 [00:00<00:00, 28.35it/s, best loss: 0.0]\n",
            "100%|██████████| 1/1 [00:00<00:00, 30.24it/s, best loss: 0.0]\n",
            "100%|██████████| 1/1 [00:00<00:00, 26.66it/s, best loss: 0.0]\n",
            "100%|██████████| 1/1 [00:00<00:00, 29.98it/s, best loss: 0.0]\n",
            "100%|██████████| 1/1 [00:00<00:00, 31.50it/s, best loss: 0.0]\n",
            "100%|██████████| 1/1 [00:00<00:00, 30.19it/s, best loss: 0.0]\n",
            "100%|██████████| 1/1 [00:00<00:00, 29.70it/s, best loss: 0.0]\n",
            "100%|██████████| 1/1 [00:00<00:00, 29.61it/s, best loss: 0.0]\n",
            "100%|██████████| 1/1 [00:00<00:00, 33.13it/s, best loss: 0.0]\n",
            "100%|██████████| 1/1 [00:00<00:00, 30.27it/s, best loss: 0.0]\n",
            "100%|██████████| 1/1 [00:00<00:00, 28.59it/s, best loss: 0.0]\n",
            "100%|██████████| 1/1 [00:00<00:00, 27.30it/s, best loss: 0.0]\n",
            "100%|██████████| 1/1 [00:00<00:00, 30.55it/s, best loss: 0.0]\n",
            "100%|██████████| 1/1 [00:00<00:00, 30.38it/s, best loss: 0.0]\n",
            "100%|██████████| 1/1 [00:00<00:00, 29.45it/s, best loss: 0.0]\n",
            "100%|██████████| 1/1 [00:00<00:00, 30.49it/s, best loss: 0.0]\n",
            "100%|██████████| 1/1 [00:00<00:00, 26.44it/s, best loss: 0.0]\n",
            "100%|██████████| 1/1 [00:00<00:00, 31.16it/s, best loss: 0.0]\n",
            "100%|██████████| 1/1 [00:00<00:00, 30.34it/s, best loss: 0.0]\n",
            "100%|██████████| 1/1 [00:00<00:00, 30.92it/s, best loss: 0.0]\n",
            "100%|██████████| 1/1 [00:00<00:00, 30.07it/s, best loss: 0.0]\n",
            "100%|██████████| 1/1 [00:00<00:00, 29.25it/s, best loss: 0.0]\n",
            "100%|██████████| 1/1 [00:00<00:00, 30.98it/s, best loss: 0.0]\n",
            "100%|██████████| 1/1 [00:00<00:00, 30.90it/s, best loss: 0.0]\n",
            "100%|██████████| 1/1 [00:00<00:00, 24.88it/s, best loss: 0.0]\n",
            "100%|██████████| 1/1 [00:00<00:00, 29.54it/s, best loss: 0.0]\n",
            "100%|██████████| 1/1 [00:00<00:00, 31.86it/s, best loss: 0.0]\n",
            "100%|██████████| 1/1 [00:00<00:00, 31.58it/s, best loss: 0.0]\n",
            "100%|██████████| 1/1 [00:00<00:00, 30.80it/s, best loss: 0.0]\n",
            "100%|██████████| 1/1 [00:00<00:00, 32.20it/s, best loss: 0.0]\n",
            "100%|██████████| 1/1 [00:00<00:00, 32.30it/s, best loss: 0.0]\n",
            "100%|██████████| 1/1 [00:00<00:00, 31.12it/s, best loss: 0.0]\n",
            "100%|██████████| 1/1 [00:00<00:00, 32.83it/s, best loss: 0.0]\n",
            "100%|██████████| 1/1 [00:00<00:00, 29.54it/s, best loss: 0.0]\n",
            "100%|██████████| 1/1 [00:00<00:00, 30.21it/s, best loss: 0.0]\n",
            "100%|██████████| 1/1 [00:00<00:00, 33.63it/s, best loss: 0.0]\n",
            "100%|██████████| 1/1 [00:00<00:00, 33.37it/s, best loss: 0.0]\n",
            "100%|██████████| 1/1 [00:00<00:00, 30.17it/s, best loss: 0.0]\n",
            "100%|██████████| 1/1 [00:00<00:00, 31.09it/s, best loss: 0.0]\n",
            "100%|██████████| 1/1 [00:00<00:00, 28.38it/s, best loss: 0.0]\n",
            "100%|██████████| 1/1 [00:00<00:00, 33.03it/s, best loss: 0.0]\n",
            "100%|██████████| 1/1 [00:00<00:00, 30.19it/s, best loss: 0.0]\n",
            "100%|██████████| 1/1 [00:00<00:00, 31.34it/s, best loss: 0.0]\n",
            "100%|██████████| 1/1 [00:00<00:00, 29.50it/s, best loss: 0.0]\n",
            "100%|██████████| 1/1 [00:00<00:00, 29.66it/s, best loss: 0.0]\n",
            "100%|██████████| 1/1 [00:00<00:00, 29.52it/s, best loss: 0.0]\n",
            "100%|██████████| 1/1 [00:00<00:00, 30.94it/s, best loss: 0.0]\n",
            "100%|██████████| 1/1 [00:00<00:00, 31.44it/s, best loss: 0.0]\n",
            "100%|██████████| 1/1 [00:00<00:00, 30.44it/s, best loss: 0.0]\n",
            "100%|██████████| 1/1 [00:00<00:00, 33.05it/s, best loss: 0.0]\n",
            "100%|██████████| 1/1 [00:00<00:00, 30.30it/s, best loss: 0.0]\n",
            "100%|██████████| 1/1 [00:00<00:00, 32.80it/s, best loss: 0.0]\n",
            "100%|██████████| 1/1 [00:00<00:00, 28.77it/s, best loss: 0.0]\n",
            "100%|██████████| 1/1 [00:00<00:00, 29.67it/s, best loss: 0.0]\n",
            "100%|██████████| 1/1 [00:00<00:00, 30.53it/s, best loss: 0.0]\n",
            "100%|██████████| 1/1 [00:00<00:00, 29.19it/s, best loss: 0.0]\n",
            "100%|██████████| 1/1 [00:00<00:00, 31.30it/s, best loss: 0.0]\n",
            "100%|██████████| 1/1 [00:00<00:00, 29.96it/s, best loss: 0.0]\n",
            "100%|██████████| 1/1 [00:00<00:00, 30.52it/s, best loss: 0.0]\n",
            "100%|██████████| 1/1 [00:00<00:00, 30.26it/s, best loss: 0.0]\n",
            "100%|██████████| 1/1 [00:00<00:00, 31.93it/s, best loss: 0.0]\n",
            "100%|██████████| 1/1 [00:00<00:00, 29.26it/s, best loss: 0.0]\n",
            "100%|██████████| 1/1 [00:00<00:00, 30.71it/s, best loss: 0.0]\n",
            "100%|██████████| 1/1 [00:00<00:00, 31.33it/s, best loss: 0.0]\n",
            "100%|██████████| 1/1 [00:00<00:00, 28.54it/s, best loss: 0.0]\n",
            "100%|██████████| 1/1 [00:00<00:00, 27.95it/s, best loss: 0.0]\n",
            "100%|██████████| 1/1 [00:00<00:00, 28.67it/s, best loss: 0.0]\n",
            "100%|██████████| 1/1 [00:00<00:00, 29.76it/s, best loss: 0.0]\n",
            "100%|██████████| 1/1 [00:00<00:00, 30.56it/s, best loss: 0.0]\n",
            "100%|██████████| 1/1 [00:00<00:00, 29.94it/s, best loss: 0.0]\n",
            "100%|██████████| 1/1 [00:00<00:00, 31.75it/s, best loss: 0.0]\n",
            "100%|██████████| 1/1 [00:00<00:00, 29.96it/s, best loss: 0.0]\n",
            "100%|██████████| 1/1 [00:00<00:00, 28.64it/s, best loss: 0.0]\n",
            "100%|██████████| 1/1 [00:00<00:00, 31.87it/s, best loss: 0.0]\n",
            "100%|██████████| 1/1 [00:00<00:00, 29.24it/s, best loss: 0.0]\n",
            "100%|██████████| 1/1 [00:00<00:00, 29.47it/s, best loss: 0.0]\n",
            "100%|██████████| 1/1 [00:00<00:00, 30.05it/s, best loss: 0.0]\n",
            "100%|██████████| 1/1 [00:00<00:00, 30.88it/s, best loss: 0.0]\n",
            "100%|██████████| 1/1 [00:00<00:00, 26.33it/s, best loss: 0.0]\n",
            "100%|██████████| 1/1 [00:00<00:00, 29.27it/s, best loss: 0.0]\n",
            "100%|██████████| 1/1 [00:00<00:00, 28.22it/s, best loss: 0.0]\n",
            "100%|██████████| 1/1 [00:00<00:00, 28.17it/s, best loss: 0.0]\n",
            "100%|██████████| 1/1 [00:00<00:00, 24.55it/s, best loss: 0.0]\n",
            "100%|██████████| 1/1 [00:00<00:00, 26.05it/s, best loss: 0.0]\n",
            "100%|██████████| 1/1 [00:00<00:00, 26.63it/s, best loss: 0.0]\n",
            "100%|██████████| 1/1 [00:00<00:00, 27.02it/s, best loss: 0.0]\n",
            "100%|██████████| 1/1 [00:00<00:00, 26.78it/s, best loss: 0.0]\n",
            "100%|██████████| 1/1 [00:00<00:00, 23.49it/s, best loss: 0.0]\n",
            "100%|██████████| 1/1 [00:00<00:00, 28.35it/s, best loss: 0.0]\n",
            "100%|██████████| 1/1 [00:00<00:00, 29.02it/s, best loss: 0.0]\n",
            "100%|██████████| 1/1 [00:00<00:00, 32.10it/s, best loss: 0.0]\n",
            "100%|██████████| 1/1 [00:00<00:00, 29.20it/s, best loss: 0.0]\n",
            "100%|██████████| 1/1 [00:00<00:00, 29.29it/s, best loss: 0.0]\n",
            "100%|██████████| 1/1 [00:00<00:00, 31.51it/s, best loss: 0.0]\n",
            "100%|██████████| 1/1 [00:00<00:00, 28.85it/s, best loss: 0.0]\n",
            "100%|██████████| 1/1 [00:00<00:00, 32.36it/s, best loss: 0.0]\n",
            "100%|██████████| 1/1 [00:00<00:00, 30.54it/s, best loss: 0.0]\n",
            "100%|██████████| 1/1 [00:00<00:00, 30.19it/s, best loss: 0.0]\n",
            "100%|██████████| 1/1 [00:00<00:00, 28.75it/s, best loss: 0.0]\n",
            "100%|██████████| 1/1 [00:00<00:00, 30.96it/s, best loss: 0.0]\n",
            "100%|██████████| 1/1 [00:00<00:00, 31.24it/s, best loss: 0.0]\n",
            "100%|██████████| 1/1 [00:00<00:00, 26.84it/s, best loss: 0.0]\n",
            "100%|██████████| 1/1 [00:00<00:00, 30.24it/s, best loss: 0.0]\n",
            "100%|██████████| 1/1 [00:00<00:00, 29.77it/s, best loss: 0.0]\n",
            "100%|██████████| 1/1 [00:00<00:00, 30.47it/s, best loss: 0.0]\n",
            "100%|██████████| 1/1 [00:00<00:00, 30.46it/s, best loss: 0.0]\n",
            "100%|██████████| 1/1 [00:00<00:00, 30.99it/s, best loss: 0.0]\n",
            "100%|██████████| 1/1 [00:00<00:00, 33.25it/s, best loss: 0.0]\n",
            "100%|██████████| 1/1 [00:00<00:00, 28.78it/s, best loss: 0.0]\n",
            "100%|██████████| 1/1 [00:00<00:00, 30.74it/s, best loss: 0.0]\n",
            "100%|██████████| 1/1 [00:00<00:00, 30.97it/s, best loss: 0.0]\n",
            "100%|██████████| 1/1 [00:00<00:00, 26.95it/s, best loss: 0.0]\n",
            "100%|██████████| 1/1 [00:00<00:00, 29.43it/s, best loss: 0.0]\n",
            "100%|██████████| 1/1 [00:00<00:00, 28.81it/s, best loss: 0.0]\n",
            "100%|██████████| 1/1 [00:00<00:00, 32.64it/s, best loss: 0.0]\n",
            "100%|██████████| 1/1 [00:00<00:00, 30.26it/s, best loss: 0.0]\n",
            "100%|██████████| 1/1 [00:00<00:00, 32.62it/s, best loss: 0.0]\n",
            "100%|██████████| 1/1 [00:00<00:00, 29.80it/s, best loss: 0.0]\n",
            "100%|██████████| 1/1 [00:00<00:00, 29.97it/s, best loss: 0.0]\n",
            "100%|██████████| 1/1 [00:00<00:00, 32.16it/s, best loss: 0.0]\n",
            "100%|██████████| 1/1 [00:00<00:00, 26.99it/s, best loss: 0.0]\n",
            "100%|██████████| 1/1 [00:00<00:00, 27.79it/s, best loss: 0.0]\n",
            "100%|██████████| 1/1 [00:00<00:00, 28.74it/s, best loss: 0.0]\n",
            "100%|██████████| 1/1 [00:00<00:00, 29.67it/s, best loss: 0.0]\n",
            "100%|██████████| 1/1 [00:00<00:00, 30.23it/s, best loss: 0.0]\n",
            "100%|██████████| 1/1 [00:00<00:00, 26.50it/s, best loss: 0.0]\n",
            "100%|██████████| 1/1 [00:00<00:00, 27.25it/s, best loss: 0.0]\n",
            "100%|██████████| 1/1 [00:00<00:00, 29.16it/s, best loss: 0.0]\n",
            "100%|██████████| 1/1 [00:00<00:00, 27.68it/s, best loss: 0.0]\n",
            "100%|██████████| 1/1 [00:00<00:00, 28.31it/s, best loss: 0.0]\n",
            "100%|██████████| 1/1 [00:00<00:00, 25.04it/s, best loss: 0.0]\n",
            "100%|██████████| 1/1 [00:00<00:00, 26.51it/s, best loss: 0.0]\n",
            "100%|██████████| 1/1 [00:00<00:00, 25.47it/s, best loss: 0.0]\n",
            "100%|██████████| 1/1 [00:00<00:00, 28.29it/s, best loss: 0.0]\n",
            "100%|██████████| 1/1 [00:00<00:00, 29.10it/s, best loss: 0.0]\n",
            "100%|██████████| 1/1 [00:00<00:00, 26.12it/s, best loss: 0.0]\n",
            "100%|██████████| 1/1 [00:00<00:00, 27.38it/s, best loss: 0.0]\n",
            "100%|██████████| 1/1 [00:00<00:00, 26.36it/s, best loss: 0.0]\n",
            "100%|██████████| 1/1 [00:00<00:00, 28.32it/s, best loss: 0.0]\n",
            "100%|██████████| 1/1 [00:00<00:00, 29.33it/s, best loss: 0.0]\n",
            "100%|██████████| 1/1 [00:00<00:00, 26.69it/s, best loss: 0.0]\n",
            "100%|██████████| 1/1 [00:00<00:00, 28.67it/s, best loss: 0.0]\n",
            "100%|██████████| 1/1 [00:00<00:00, 28.81it/s, best loss: 0.0]\n",
            "100%|██████████| 1/1 [00:00<00:00, 29.01it/s, best loss: 0.0]\n",
            "100%|██████████| 1/1 [00:00<00:00, 27.17it/s, best loss: 0.0]\n",
            "100%|██████████| 1/1 [00:00<00:00, 30.02it/s, best loss: 0.0]\n",
            "100%|██████████| 1/1 [00:00<00:00, 29.76it/s, best loss: 0.0]\n",
            "100%|██████████| 1/1 [00:00<00:00, 27.04it/s, best loss: 0.0]\n",
            "100%|██████████| 1/1 [00:00<00:00, 27.26it/s, best loss: 0.0]\n",
            "100%|██████████| 1/1 [00:00<00:00, 26.81it/s, best loss: 0.0]\n",
            "100%|██████████| 1/1 [00:00<00:00, 28.21it/s, best loss: 0.0]\n",
            "100%|██████████| 1/1 [00:00<00:00, 29.11it/s, best loss: 0.0]\n",
            "100%|██████████| 1/1 [00:00<00:00, 30.54it/s, best loss: 0.0]\n",
            "100%|██████████| 1/1 [00:00<00:00, 31.48it/s, best loss: 0.0]\n",
            "100%|██████████| 1/1 [00:00<00:00, 27.54it/s, best loss: 0.0]\n",
            "100%|██████████| 1/1 [00:00<00:00, 29.74it/s, best loss: 0.0]\n",
            "100%|██████████| 1/1 [00:00<00:00, 30.06it/s, best loss: 0.0]\n",
            "100%|██████████| 1/1 [00:00<00:00, 28.78it/s, best loss: 0.0]\n",
            "100%|██████████| 1/1 [00:00<00:00, 27.87it/s, best loss: 0.0]\n",
            "100%|██████████| 1/1 [00:00<00:00, 29.82it/s, best loss: 0.0]\n",
            "100%|██████████| 1/1 [00:00<00:00, 29.63it/s, best loss: 0.0]\n",
            "100%|██████████| 1/1 [00:00<00:00, 29.35it/s, best loss: 0.0]\n",
            "100%|██████████| 1/1 [00:00<00:00, 27.92it/s, best loss: 0.0]\n",
            "100%|██████████| 1/1 [00:00<00:00, 29.96it/s, best loss: 0.0]\n",
            "100%|██████████| 1/1 [00:00<00:00, 29.57it/s, best loss: 0.0]\n",
            "100%|██████████| 1/1 [00:00<00:00, 28.96it/s, best loss: 0.0]\n",
            "100%|██████████| 1/1 [00:00<00:00, 26.30it/s, best loss: 0.0]\n",
            "100%|██████████| 1/1 [00:00<00:00, 27.37it/s, best loss: 0.0]\n",
            "100%|██████████| 1/1 [00:00<00:00, 28.00it/s, best loss: 0.0]\n",
            "100%|██████████| 1/1 [00:00<00:00, 28.34it/s, best loss: 0.0]\n",
            "100%|██████████| 1/1 [00:00<00:00, 26.44it/s, best loss: 0.0]\n",
            "100%|██████████| 1/1 [00:00<00:00, 28.34it/s, best loss: 0.0]\n",
            "100%|██████████| 1/1 [00:00<00:00, 28.45it/s, best loss: 0.0]\n",
            "100%|██████████| 1/1 [00:00<00:00, 29.02it/s, best loss: 0.0]\n",
            "100%|██████████| 1/1 [00:00<00:00, 29.22it/s, best loss: 0.0]\n",
            "100%|██████████| 1/1 [00:00<00:00, 29.14it/s, best loss: 0.0]\n",
            "100%|██████████| 1/1 [00:00<00:00, 27.23it/s, best loss: 0.0]\n",
            "100%|██████████| 1/1 [00:00<00:00, 28.90it/s, best loss: 0.0]\n",
            "100%|██████████| 1/1 [00:00<00:00, 31.20it/s, best loss: 0.0]\n",
            "100%|██████████| 1/1 [00:00<00:00, 27.40it/s, best loss: 0.0]\n",
            "100%|██████████| 1/1 [00:00<00:00, 32.92it/s, best loss: 0.0]\n",
            "100%|██████████| 1/1 [00:00<00:00, 26.70it/s, best loss: 0.0]\n",
            "100%|██████████| 1/1 [00:00<00:00, 25.56it/s, best loss: 0.0]\n",
            "100%|██████████| 1/1 [00:00<00:00, 29.45it/s, best loss: 0.0]\n",
            "100%|██████████| 1/1 [00:00<00:00, 27.49it/s, best loss: 0.0]\n",
            "100%|██████████| 1/1 [00:00<00:00, 29.40it/s, best loss: 0.0]\n",
            "100%|██████████| 1/1 [00:00<00:00, 29.49it/s, best loss: 0.0]\n",
            "100%|██████████| 1/1 [00:00<00:00, 29.53it/s, best loss: 0.0]\n",
            "100%|██████████| 1/1 [00:00<00:00, 26.60it/s, best loss: 0.0]\n",
            "100%|██████████| 1/1 [00:00<00:00, 27.45it/s, best loss: 0.0]\n",
            "100%|██████████| 1/1 [00:00<00:00, 27.75it/s, best loss: 0.0]\n",
            "100%|██████████| 1/1 [00:00<00:00, 26.72it/s, best loss: 0.0]\n",
            "100%|██████████| 1/1 [00:00<00:00, 25.33it/s, best loss: 0.0]\n",
            "100%|██████████| 1/1 [00:00<00:00, 26.83it/s, best loss: 0.0]\n",
            "100%|██████████| 1/1 [00:00<00:00, 28.48it/s, best loss: 0.0]\n",
            "100%|██████████| 1/1 [00:00<00:00, 29.27it/s, best loss: 0.0]\n",
            "100%|██████████| 1/1 [00:00<00:00, 29.27it/s, best loss: 0.0]\n",
            "100%|██████████| 1/1 [00:00<00:00, 27.05it/s, best loss: 0.0]\n",
            "100%|██████████| 1/1 [00:00<00:00, 27.13it/s, best loss: 0.0]\n",
            "100%|██████████| 1/1 [00:00<00:00, 29.83it/s, best loss: 0.0]\n",
            "100%|██████████| 1/1 [00:00<00:00, 31.86it/s, best loss: 0.0]\n",
            "100%|██████████| 1/1 [00:00<00:00, 27.96it/s, best loss: 0.0]\n",
            "100%|██████████| 1/1 [00:00<00:00, 30.35it/s, best loss: 0.0]\n",
            "100%|██████████| 1/1 [00:00<00:00, 28.73it/s, best loss: 0.0]\n",
            "100%|██████████| 1/1 [00:00<00:00, 30.43it/s, best loss: 0.0]\n",
            "100%|██████████| 1/1 [00:00<00:00, 30.64it/s, best loss: 0.0]\n",
            "100%|██████████| 1/1 [00:00<00:00, 24.91it/s, best loss: 0.0]\n",
            "100%|██████████| 1/1 [00:00<00:00, 31.15it/s, best loss: 0.0]\n",
            "100%|██████████| 1/1 [00:00<00:00, 29.54it/s, best loss: 0.0]\n",
            "100%|██████████| 1/1 [00:00<00:00, 30.42it/s, best loss: 0.0]\n",
            "100%|██████████| 1/1 [00:00<00:00, 29.03it/s, best loss: 0.0]\n",
            "100%|██████████| 1/1 [00:00<00:00, 31.27it/s, best loss: 0.0]\n",
            "100%|██████████| 1/1 [00:00<00:00, 29.35it/s, best loss: 0.0]\n",
            "100%|██████████| 1/1 [00:00<00:00, 28.39it/s, best loss: 0.0]\n",
            "100%|██████████| 1/1 [00:00<00:00, 31.40it/s, best loss: 0.0]\n",
            "100%|██████████| 1/1 [00:00<00:00, 29.84it/s, best loss: 0.0]\n",
            "100%|██████████| 1/1 [00:00<00:00, 27.48it/s, best loss: 0.0]\n",
            "100%|██████████| 1/1 [00:00<00:00, 28.11it/s, best loss: 0.0]\n",
            "100%|██████████| 1/1 [00:00<00:00, 28.04it/s, best loss: 0.0]\n",
            "100%|██████████| 1/1 [00:00<00:00, 28.41it/s, best loss: 0.0]\n",
            "100%|██████████| 1/1 [00:00<00:00, 25.98it/s, best loss: 0.0]\n",
            "100%|██████████| 1/1 [00:00<00:00, 30.15it/s, best loss: 0.0]\n",
            "100%|██████████| 1/1 [00:00<00:00, 26.99it/s, best loss: 0.0]\n",
            "100%|██████████| 1/1 [00:00<00:00, 29.23it/s, best loss: 0.0]\n",
            "100%|██████████| 1/1 [00:00<00:00, 30.32it/s, best loss: 0.0]\n",
            "100%|██████████| 1/1 [00:00<00:00, 28.17it/s, best loss: 0.0]\n",
            "100%|██████████| 1/1 [00:00<00:00, 28.23it/s, best loss: 0.0]\n",
            "100%|██████████| 1/1 [00:00<00:00, 28.74it/s, best loss: 0.0]\n",
            "100%|██████████| 1/1 [00:00<00:00, 31.68it/s, best loss: 0.0]\n",
            "100%|██████████| 1/1 [00:00<00:00, 28.43it/s, best loss: 0.0]\n",
            "100%|██████████| 1/1 [00:00<00:00, 29.73it/s, best loss: 0.0]\n",
            "100%|██████████| 1/1 [00:00<00:00, 28.74it/s, best loss: 0.0]\n",
            "100%|██████████| 1/1 [00:00<00:00, 27.68it/s, best loss: 0.0]\n",
            "100%|██████████| 1/1 [00:00<00:00, 27.84it/s, best loss: 0.0]\n",
            "100%|██████████| 1/1 [00:00<00:00, 31.45it/s, best loss: 0.0]\n",
            "100%|██████████| 1/1 [00:00<00:00, 29.39it/s, best loss: 0.0]\n",
            "100%|██████████| 1/1 [00:00<00:00, 30.91it/s, best loss: 0.0]\n",
            "100%|██████████| 1/1 [00:00<00:00, 29.33it/s, best loss: 0.0]\n",
            "100%|██████████| 1/1 [00:00<00:00, 23.85it/s, best loss: 0.0]\n",
            "100%|██████████| 1/1 [00:00<00:00, 26.18it/s, best loss: 0.0]\n",
            "100%|██████████| 1/1 [00:00<00:00, 28.57it/s, best loss: 0.0]\n",
            "100%|██████████| 1/1 [00:00<00:00, 28.49it/s, best loss: 0.0]\n",
            "100%|██████████| 1/1 [00:00<00:00, 28.93it/s, best loss: 0.0]\n",
            "100%|██████████| 1/1 [00:00<00:00, 30.82it/s, best loss: 0.0]\n",
            "100%|██████████| 1/1 [00:00<00:00, 28.34it/s, best loss: 0.0]\n",
            "100%|██████████| 1/1 [00:00<00:00, 29.83it/s, best loss: 0.0]\n",
            "100%|██████████| 1/1 [00:00<00:00, 30.33it/s, best loss: 0.0]\n",
            "100%|██████████| 1/1 [00:00<00:00, 27.10it/s, best loss: 0.0]\n",
            "100%|██████████| 1/1 [00:00<00:00, 29.12it/s, best loss: 0.0]\n",
            "100%|██████████| 1/1 [00:00<00:00, 27.49it/s, best loss: 0.0]\n",
            "100%|██████████| 1/1 [00:00<00:00, 27.85it/s, best loss: 0.0]\n",
            "100%|██████████| 1/1 [00:00<00:00, 22.40it/s, best loss: 0.0]\n",
            "100%|██████████| 1/1 [00:00<00:00, 25.27it/s, best loss: 0.0]\n",
            "100%|██████████| 1/1 [00:00<00:00, 26.45it/s, best loss: 0.0]\n",
            "100%|██████████| 1/1 [00:00<00:00, 25.08it/s, best loss: 0.0]\n",
            "100%|██████████| 1/1 [00:00<00:00, 26.31it/s, best loss: 0.0]\n",
            "100%|██████████| 1/1 [00:00<00:00, 28.32it/s, best loss: 0.0]\n",
            "100%|██████████| 1/1 [00:00<00:00, 26.96it/s, best loss: 0.0]\n",
            "100%|██████████| 1/1 [00:00<00:00, 28.62it/s, best loss: 0.0]\n",
            "100%|██████████| 1/1 [00:00<00:00, 27.98it/s, best loss: 0.0]\n",
            "100%|██████████| 1/1 [00:00<00:00, 29.52it/s, best loss: 0.0]\n",
            "100%|██████████| 1/1 [00:00<00:00, 27.58it/s, best loss: 0.0]\n",
            "100%|██████████| 1/1 [00:00<00:00, 27.15it/s, best loss: 0.0]\n",
            "100%|██████████| 1/1 [00:00<00:00, 26.48it/s, best loss: 0.0]\n",
            "100%|██████████| 1/1 [00:00<00:00, 28.35it/s, best loss: 0.0]\n",
            "100%|██████████| 1/1 [00:00<00:00, 26.28it/s, best loss: 0.0]\n",
            "100%|██████████| 1/1 [00:00<00:00, 23.57it/s, best loss: 0.0]\n",
            "100%|██████████| 1/1 [00:00<00:00, 28.20it/s, best loss: 0.0]\n",
            "100%|██████████| 1/1 [00:00<00:00, 30.28it/s, best loss: 0.0]\n",
            "100%|██████████| 1/1 [00:00<00:00, 29.45it/s, best loss: 0.0]\n",
            "100%|██████████| 1/1 [00:00<00:00, 30.05it/s, best loss: 0.0]\n",
            "100%|██████████| 1/1 [00:00<00:00, 26.36it/s, best loss: 0.0]\n",
            "100%|██████████| 1/1 [00:00<00:00, 30.07it/s, best loss: 0.0]\n",
            "100%|██████████| 1/1 [00:00<00:00, 29.36it/s, best loss: 0.0]\n",
            "100%|██████████| 1/1 [00:00<00:00, 26.57it/s, best loss: 0.0]\n",
            "100%|██████████| 1/1 [00:00<00:00, 29.42it/s, best loss: 0.0]\n",
            "100%|██████████| 1/1 [00:00<00:00, 30.81it/s, best loss: 0.0]\n",
            "100%|██████████| 1/1 [00:00<00:00, 29.14it/s, best loss: 0.0]\n",
            "100%|██████████| 1/1 [00:00<00:00, 26.57it/s, best loss: 0.0]\n",
            "100%|██████████| 1/1 [00:00<00:00, 29.02it/s, best loss: 0.0]\n",
            "100%|██████████| 1/1 [00:00<00:00, 29.46it/s, best loss: 0.0]\n",
            "100%|██████████| 1/1 [00:00<00:00, 27.92it/s, best loss: 0.0]\n",
            "100%|██████████| 1/1 [00:00<00:00, 28.07it/s, best loss: 0.0]\n",
            "100%|██████████| 1/1 [00:00<00:00, 27.10it/s, best loss: 0.0]\n",
            "100%|██████████| 1/1 [00:00<00:00, 26.09it/s, best loss: 0.0]\n",
            "100%|██████████| 1/1 [00:00<00:00, 25.65it/s, best loss: 0.0]\n",
            "100%|██████████| 1/1 [00:00<00:00, 27.89it/s, best loss: 0.0]\n",
            "100%|██████████| 1/1 [00:00<00:00, 27.45it/s, best loss: 0.0]\n",
            "100%|██████████| 1/1 [00:00<00:00, 28.99it/s, best loss: 0.0]\n",
            "100%|██████████| 1/1 [00:00<00:00, 27.16it/s, best loss: 0.0]\n",
            "100%|██████████| 1/1 [00:00<00:00, 27.30it/s, best loss: 0.0]\n",
            "100%|██████████| 1/1 [00:00<00:00, 28.32it/s, best loss: 0.0]\n",
            "100%|██████████| 1/1 [00:00<00:00, 28.19it/s, best loss: 0.0]\n",
            "100%|██████████| 1/1 [00:00<00:00, 27.43it/s, best loss: 0.0]\n",
            "100%|██████████| 1/1 [00:00<00:00, 24.88it/s, best loss: 0.0]\n",
            "100%|██████████| 1/1 [00:00<00:00, 28.87it/s, best loss: 0.0]\n",
            "100%|██████████| 1/1 [00:00<00:00, 29.14it/s, best loss: 0.0]\n",
            "100%|██████████| 1/1 [00:00<00:00, 28.98it/s, best loss: 0.0]\n",
            "100%|██████████| 1/1 [00:00<00:00, 20.55it/s, best loss: 0.0]\n",
            "100%|██████████| 1/1 [00:00<00:00, 27.72it/s, best loss: 0.0]\n",
            "100%|██████████| 1/1 [00:00<00:00, 26.52it/s, best loss: 0.0]\n",
            "100%|██████████| 1/1 [00:00<00:00, 30.03it/s, best loss: 0.0]\n",
            "100%|██████████| 1/1 [00:00<00:00, 25.01it/s, best loss: 0.0]\n",
            "100%|██████████| 1/1 [00:00<00:00, 29.38it/s, best loss: 0.0]\n",
            "100%|██████████| 1/1 [00:00<00:00, 30.65it/s, best loss: 0.0]\n",
            "100%|██████████| 1/1 [00:00<00:00, 28.27it/s, best loss: 0.0]\n",
            "100%|██████████| 1/1 [00:00<00:00, 28.68it/s, best loss: 0.0]\n",
            "100%|██████████| 1/1 [00:00<00:00, 26.35it/s, best loss: 0.0]\n",
            "100%|██████████| 1/1 [00:00<00:00, 28.40it/s, best loss: 0.0]\n",
            "100%|██████████| 1/1 [00:00<00:00, 25.87it/s, best loss: 0.0]\n",
            "100%|██████████| 1/1 [00:00<00:00, 29.60it/s, best loss: 0.0]\n",
            "100%|██████████| 1/1 [00:00<00:00, 28.43it/s, best loss: 0.0]\n",
            "100%|██████████| 1/1 [00:00<00:00, 28.02it/s, best loss: 0.0]\n",
            "100%|██████████| 1/1 [00:00<00:00, 25.96it/s, best loss: 0.0]\n",
            "100%|██████████| 1/1 [00:00<00:00, 27.24it/s, best loss: 0.0]\n",
            "100%|██████████| 1/1 [00:00<00:00, 25.82it/s, best loss: 0.0]\n",
            "100%|██████████| 1/1 [00:00<00:00, 28.24it/s, best loss: 0.0]\n",
            "100%|██████████| 1/1 [00:00<00:00, 25.02it/s, best loss: 0.0]\n",
            "100%|██████████| 1/1 [00:00<00:00, 27.73it/s, best loss: 0.0]\n",
            "100%|██████████| 1/1 [00:00<00:00, 28.26it/s, best loss: 0.0]\n",
            "100%|██████████| 1/1 [00:00<00:00, 25.99it/s, best loss: 0.0]\n",
            "100%|██████████| 1/1 [00:00<00:00, 26.85it/s, best loss: 0.0]\n",
            "100%|██████████| 1/1 [00:00<00:00, 27.05it/s, best loss: 0.0]\n",
            "100%|██████████| 1/1 [00:00<00:00, 26.85it/s, best loss: 0.0]\n",
            "100%|██████████| 1/1 [00:00<00:00, 26.48it/s, best loss: 0.0]\n",
            "100%|██████████| 1/1 [00:00<00:00, 27.79it/s, best loss: 0.0]\n",
            "100%|██████████| 1/1 [00:00<00:00, 27.80it/s, best loss: 0.0]\n",
            "100%|██████████| 1/1 [00:00<00:00, 29.23it/s, best loss: 0.0]\n",
            "100%|██████████| 1/1 [00:00<00:00, 26.87it/s, best loss: 0.0]\n",
            "100%|██████████| 1/1 [00:00<00:00, 28.45it/s, best loss: 0.0]\n",
            "100%|██████████| 1/1 [00:00<00:00, 28.29it/s, best loss: 0.0]\n",
            "100%|██████████| 1/1 [00:00<00:00, 27.52it/s, best loss: 0.0]\n",
            "100%|██████████| 1/1 [00:00<00:00, 28.39it/s, best loss: 0.0]\n",
            "100%|██████████| 1/1 [00:00<00:00, 27.90it/s, best loss: 0.0]\n",
            "100%|██████████| 1/1 [00:00<00:00, 29.25it/s, best loss: 0.0]\n",
            "100%|██████████| 1/1 [00:00<00:00, 27.75it/s, best loss: 0.0]\n",
            "100%|██████████| 1/1 [00:00<00:00, 29.69it/s, best loss: 0.0]\n",
            "100%|██████████| 1/1 [00:00<00:00, 30.16it/s, best loss: 0.0]\n",
            "100%|██████████| 1/1 [00:00<00:00, 27.23it/s, best loss: 0.0]\n",
            "100%|██████████| 1/1 [00:00<00:00, 27.90it/s, best loss: 0.0]\n",
            "100%|██████████| 1/1 [00:00<00:00, 28.56it/s, best loss: 0.0]\n",
            "100%|██████████| 1/1 [00:00<00:00, 25.99it/s, best loss: 0.0]\n",
            "100%|██████████| 1/1 [00:00<00:00, 27.27it/s, best loss: 0.0]\n",
            "100%|██████████| 1/1 [00:00<00:00, 27.52it/s, best loss: 0.0]\n",
            "100%|██████████| 1/1 [00:00<00:00, 27.96it/s, best loss: 0.0]\n",
            "100%|██████████| 1/1 [00:00<00:00, 27.33it/s, best loss: 0.0]\n",
            "100%|██████████| 1/1 [00:00<00:00, 26.70it/s, best loss: 0.0]\n",
            "100%|██████████| 1/1 [00:00<00:00, 27.11it/s, best loss: 0.0]\n",
            "100%|██████████| 1/1 [00:00<00:00, 26.88it/s, best loss: 0.0]\n",
            "100%|██████████| 1/1 [00:00<00:00, 25.13it/s, best loss: 0.0]\n",
            "100%|██████████| 1/1 [00:00<00:00, 27.27it/s, best loss: 0.0]\n",
            "100%|██████████| 1/1 [00:00<00:00, 24.98it/s, best loss: 0.0]\n",
            "100%|██████████| 1/1 [00:00<00:00, 25.53it/s, best loss: 0.0]\n",
            "100%|██████████| 1/1 [00:00<00:00, 26.71it/s, best loss: 0.0]\n",
            "100%|██████████| 1/1 [00:00<00:00, 27.11it/s, best loss: 0.0]\n",
            "100%|██████████| 1/1 [00:00<00:00, 23.52it/s, best loss: 0.0]\n",
            "100%|██████████| 1/1 [00:00<00:00, 26.38it/s, best loss: 0.0]\n",
            "100%|██████████| 1/1 [00:00<00:00, 26.49it/s, best loss: 0.0]\n",
            "100%|██████████| 1/1 [00:00<00:00, 26.09it/s, best loss: 0.0]\n",
            "100%|██████████| 1/1 [00:00<00:00, 23.80it/s, best loss: 0.0]\n",
            "100%|██████████| 1/1 [00:00<00:00, 26.49it/s, best loss: 0.0]\n",
            "100%|██████████| 1/1 [00:00<00:00, 26.09it/s, best loss: 0.0]\n",
            "100%|██████████| 1/1 [00:00<00:00, 25.19it/s, best loss: 0.0]\n",
            "100%|██████████| 1/1 [00:00<00:00, 27.58it/s, best loss: 0.0]\n",
            "100%|██████████| 1/1 [00:00<00:00, 19.96it/s, best loss: 0.0]\n",
            "100%|██████████| 1/1 [00:00<00:00, 24.36it/s, best loss: 0.0]\n",
            "100%|██████████| 1/1 [00:00<00:00, 25.76it/s, best loss: 0.0]\n",
            "100%|██████████| 1/1 [00:00<00:00, 27.05it/s, best loss: 0.0]\n",
            "100%|██████████| 1/1 [00:00<00:00, 26.24it/s, best loss: 0.0]\n",
            "100%|██████████| 1/1 [00:00<00:00, 26.98it/s, best loss: 0.0]\n",
            "100%|██████████| 1/1 [00:00<00:00, 25.27it/s, best loss: 0.0]\n",
            "100%|██████████| 1/1 [00:00<00:00, 26.99it/s, best loss: 0.0]\n",
            "100%|██████████| 1/1 [00:00<00:00, 26.39it/s, best loss: 0.0]\n",
            "100%|██████████| 1/1 [00:00<00:00, 24.85it/s, best loss: 0.0]\n",
            "100%|██████████| 1/1 [00:00<00:00, 26.67it/s, best loss: 0.0]\n",
            "100%|██████████| 1/1 [00:00<00:00, 27.47it/s, best loss: 0.0]\n",
            "100%|██████████| 1/1 [00:00<00:00, 27.18it/s, best loss: 0.0]\n",
            "100%|██████████| 1/1 [00:00<00:00, 28.95it/s, best loss: 0.0]\n",
            "100%|██████████| 1/1 [00:00<00:00, 29.89it/s, best loss: 0.0]\n",
            "100%|██████████| 1/1 [00:00<00:00, 28.44it/s, best loss: 0.0]\n",
            "100%|██████████| 1/1 [00:00<00:00, 30.14it/s, best loss: 0.0]\n",
            "100%|██████████| 1/1 [00:00<00:00, 25.29it/s, best loss: 0.0]\n",
            "100%|██████████| 1/1 [00:00<00:00, 26.48it/s, best loss: 0.0]\n",
            "100%|██████████| 1/1 [00:00<00:00, 27.03it/s, best loss: 0.0]\n",
            "100%|██████████| 1/1 [00:00<00:00, 28.21it/s, best loss: 0.0]\n",
            "100%|██████████| 1/1 [00:00<00:00, 27.72it/s, best loss: 0.0]\n",
            "100%|██████████| 1/1 [00:00<00:00, 29.24it/s, best loss: 0.0]\n",
            "100%|██████████| 1/1 [00:00<00:00, 29.07it/s, best loss: 0.0]\n",
            "100%|██████████| 1/1 [00:00<00:00, 28.00it/s, best loss: 0.0]\n",
            "100%|██████████| 1/1 [00:00<00:00, 28.00it/s, best loss: 0.0]\n",
            "100%|██████████| 1/1 [00:00<00:00, 28.30it/s, best loss: 0.0]\n",
            "100%|██████████| 1/1 [00:00<00:00, 26.49it/s, best loss: 0.0]\n",
            "100%|██████████| 1/1 [00:00<00:00, 25.66it/s, best loss: 0.0]\n",
            "100%|██████████| 1/1 [00:00<00:00, 27.15it/s, best loss: 0.0]\n",
            "100%|██████████| 1/1 [00:00<00:00, 27.66it/s, best loss: 0.0]\n",
            "100%|██████████| 1/1 [00:00<00:00, 25.80it/s, best loss: 0.0]\n",
            "100%|██████████| 1/1 [00:00<00:00, 27.30it/s, best loss: 0.0]\n",
            "100%|██████████| 1/1 [00:00<00:00, 28.51it/s, best loss: 0.0]\n",
            "100%|██████████| 1/1 [00:00<00:00, 30.11it/s, best loss: 0.0]\n",
            "100%|██████████| 1/1 [00:00<00:00, 27.81it/s, best loss: 0.0]\n",
            "100%|██████████| 1/1 [00:00<00:00, 27.17it/s, best loss: 0.0]\n",
            "100%|██████████| 1/1 [00:00<00:00, 30.49it/s, best loss: 0.0]\n",
            "100%|██████████| 1/1 [00:00<00:00, 29.85it/s, best loss: 0.0]\n",
            "100%|██████████| 1/1 [00:00<00:00, 29.88it/s, best loss: 0.0]\n",
            "100%|██████████| 1/1 [00:00<00:00, 27.15it/s, best loss: 0.0]\n",
            "100%|██████████| 1/1 [00:00<00:00, 22.89it/s, best loss: 0.0]\n",
            "100%|██████████| 1/1 [00:00<00:00, 29.09it/s, best loss: 0.0]\n",
            "100%|██████████| 1/1 [00:00<00:00, 29.41it/s, best loss: 0.0]\n",
            "100%|██████████| 1/1 [00:00<00:00, 28.71it/s, best loss: 0.0]\n",
            "100%|██████████| 1/1 [00:00<00:00, 27.68it/s, best loss: 0.0]\n",
            "100%|██████████| 1/1 [00:00<00:00, 29.21it/s, best loss: 0.0]\n",
            "100%|██████████| 1/1 [00:00<00:00, 27.64it/s, best loss: 0.0]\n",
            "100%|██████████| 1/1 [00:00<00:00, 29.20it/s, best loss: 0.0]\n",
            "100%|██████████| 1/1 [00:00<00:00, 27.81it/s, best loss: 0.0]\n",
            "100%|██████████| 1/1 [00:00<00:00, 27.74it/s, best loss: 0.0]\n",
            "100%|██████████| 1/1 [00:00<00:00, 26.89it/s, best loss: 0.0]\n",
            "100%|██████████| 1/1 [00:00<00:00, 27.52it/s, best loss: 0.0]\n",
            "100%|██████████| 1/1 [00:00<00:00, 26.42it/s, best loss: 0.0]\n",
            "100%|██████████| 1/1 [00:00<00:00, 26.31it/s, best loss: 0.0]\n",
            "100%|██████████| 1/1 [00:00<00:00, 28.01it/s, best loss: 0.0]\n",
            "100%|██████████| 1/1 [00:00<00:00, 27.03it/s, best loss: 0.0]\n"
          ],
          "name": "stdout"
        },
        {
          "output_type": "display_data",
          "data": {
            "image/png": "[encoded data removed]",
            "text/plain": [
              "<Figure size 288x288 with 1 Axes>"
            ]
          },
          "metadata": {
            "tags": []
          }
        }
      ]
    },
    {
      "cell_type": "markdown",
      "metadata": {
        "id": "xenZdxh_a7jn",
        "colab_type": "text"
      },
      "source": [
        "## Validation Curves\n",
        "\n",
        "We can also manually tweek hyperparameters using validation curves. Validation curves are very similar to learning curves, but instead plot the training and test accuracies to see how an estimator performs when varying the models parameters.\n",
        "\n",
        "Unfortunately mlxtend at time of writing does not have a validation curve, so we'll have to use the easy implimentation provided in Raschka and Mirjalili's book<sup>1</sup>\n",
        "\n",
        "---\n",
        "1. Raschka, Sebastian, and Vahid Mirjalili. Python Machine Learning, 2nd Ed. Packt Publishing, 2017."
      ]
    },
    {
      "cell_type": "code",
      "metadata": {
        "id": "fRnZy0T2bS-n",
        "colab_type": "code",
        "outputId": "affc9f26-f9f6-4d13-a9d2-8a6e7b861d0b",
        "colab": {
          "base_uri": "https://localhost:8080/",
          "height": 283
        }
      },
      "source": [
        "from sklearn.model_selection import validation_curve\n",
        "param_range = [0.001, 0.01, 0.1, 1.0, 10.0, 100.0]\n",
        "\n",
        "train_scores, test_scores = validation_curve(estimator=pipe_svc,\n",
        "                                             X=X_train,\n",
        "                                             y=y_train,\n",
        "                                             param_name='clf__C',\n",
        "                                             param_range=param_range,\n",
        "                                             cv=10)\n",
        "train_mean = np.mean(train_scores, axis=1)\n",
        "train_std = np.std(train_scores, axis=1)\n",
        "test_mean = np.mean(test_scores, axis=1)\n",
        "test_std = np.std(test_scores, axis=1)\n",
        "\n",
        "plt.plot(param_range, \n",
        "         train_mean,\n",
        "         color='blue',\n",
        "         marker='o',\n",
        "         markersize=5, \n",
        "         label='training accuracy')\n",
        "\n",
        "plt.fill_between(param_range, train_mean + train_std,\n",
        "                 train_mean - train_std, alpha=0.15,\n",
        "                 color='blue')\n",
        "\n",
        "plt.plot(param_range, test_mean,\n",
        "         color='green', linestyle='--',\n",
        "         marker='s', markersize=5,\n",
        "         label='validation accuracy')\n",
        "\n",
        "plt.fill_between(param_range,\n",
        "                 test_mean + test_std,\n",
        "                 test_mean - test_std,\n",
        "                 alpha=0.15, color='green')\n",
        "\n",
        "plt.grid()\n",
        "plt.xscale('log')\n",
        "plt.legend(loc='lower right')\n",
        "plt.xlabel('Parameter C')\n",
        "plt.ylabel('Accuracy')\n",
        "plt.ylim([0.8, 1.03])\n",
        "plt.show()"
      ],
      "execution_count": 0,
      "outputs": [
        {
          "output_type": "display_data",
          "data": {
            "image/png": "[encoded data removed]",
            "text/plain": [
              "<Figure size 432x288 with 1 Axes>"
            ]
          },
          "metadata": {
            "tags": []
          }
        }
      ]
    },
    {
      "cell_type": "markdown",
      "metadata": {
        "id": "JB5z6MJqbppV",
        "colab_type": "text"
      },
      "source": [
        "Using above we can see that may we should look at setting C to around 1. As you can see this reduces the problem of overfitting we had previously."
      ]
    },
    {
      "cell_type": "code",
      "metadata": {
        "id": "Tdp8Wh76bwBW",
        "colab_type": "code",
        "outputId": "84fcc013-3d8c-4b39-9911-fab991dafcfb",
        "colab": {
          "base_uri": "https://localhost:8080/",
          "height": 591
        }
      },
      "source": [
        "from mlxtend.plotting import plot_learning_curves\n",
        "from sklearn.base import clone\n",
        "\n",
        "change_C_SVM = clone(pipe_svc).set_params(**{'clf__C': 1})\n",
        "\n",
        "for svm in [pipe_svc, change_C_SVM]:\n",
        "  plot_learning_curves(X_train, \n",
        "                       y_train, \n",
        "                       X_test, \n",
        "                       y_test, \n",
        "                       svm, \n",
        "                       train_marker='o', \n",
        "                       test_marker='^', \n",
        "                       scoring='accuracy', \n",
        "                       print_model =False)\n",
        "  plt.ylim(top=1.01)\n",
        "  plt.show()"
      ],
      "execution_count": 0,
      "outputs": [
        {
          "output_type": "display_data",
          "data": {
            "image/png": "[encoded data removed]",
            "text/plain": [
              "<Figure size 432x288 with 1 Axes>"
            ]
          },
          "metadata": {
            "tags": []
          }
        },
        {
          "output_type": "display_data",
          "data": {
            "image/png": "[encoded data removed]",
            "text/plain": [
              "<Figure size 432x288 with 1 Axes>"
            ]
          },
          "metadata": {
            "tags": []
          }
        }
      ]
    },
    {
      "cell_type": "markdown",
      "metadata": {
        "id": "9shVAE4xmuz6",
        "colab_type": "text"
      },
      "source": [
        "# Exercises\n",
        "\n",
        "Below are a few suggested exercises that may help improve your skills.\n",
        "\n",
        "**TODO**\n",
        "- Make some exercises..."
      ]
    },
    {
      "cell_type": "markdown",
      "metadata": {
        "id": "3K9SaAKaRAgc",
        "colab_type": "text"
      },
      "source": [
        "# Extra"
      ]
    },
    {
      "cell_type": "markdown",
      "metadata": {
        "id": "mcMN7x2tRCdF",
        "colab_type": "text"
      },
      "source": [
        "## Model Performance Differences\n",
        "\n",
        "Its worth noting that how to evaluate a models performance for seizure detection can change between different authors...\n",
        "\n",
        "**TODO**\n",
        "- Include some of the bits from my writing below into the tutorial discussing how different authors define metrics and which are good and bad.\n",
        "- Show how different definitions of a true positive can change a models reported performance on the TUH data\n",
        "\n",
        "---\n",
        "-\tVarsavsky et al. (2011)<sup>1</sup> propose a positive detection should be reported when an algorithm flags a section of EEG, with detection's within 60 seconds of each other grouped to avoid over-representation. A true positive should be reported when a positive detection occurs within time marked seizures by experts, or reported as true if within 60 seconds of onset and offset; due to the ambiguity of onset/offset times of seizures<sup>2</sup>. A false negative is proposed to be when a seizure, marked by the expert, goes undetected and a false positive reported when a positive detection occurs outside of 3 minutes before and after a seizure, as this means epileptic activities leading up to a seizure are not counted as a false positive. From these evaluative definitions, formalised metrics can be defined. A true positive rate (TPR), also called sensitivity, should be reported to define the probability of a correctly identified seizure, and is calculated by dividing the number of true positives by the total number of seizures. The false positive rate (FPR) should also be reported to show the expected false positives that occur per hour of non-epileptic EEG. There is a trade-off between sensitivity and false positive rates as a detector that reports a seizure every moment will have 100\\% sensitivity but a high FPR, however one that reports no seizures will have a FPR of 0\\% but also a sensitivity of 0\\%<sup>3</sup>. Specificity is another measure like the false positive rate, as it describes the proportion of the record that is marked, however it is calculated by dividing the total false positive time by the total non-seizure time. Together with TPR, the FPR provides a measure of performance of the algorithm and specificity gives further information regarding the discriminatory ability of an algorithm; as specificity can be used to see if a TPR is only high due to marking large portions of the data.\n",
        "\n",
        "---\n",
        "1. Varsavsky2011e\n",
        "2. Wilson2003\n",
        "3. Onorati2017"
      ]
    },
    {
      "cell_type": "markdown",
      "metadata": {
        "id": "-EX0KJVwmvoI",
        "colab_type": "text"
      },
      "source": [
        "# License\n",
        "\n",
        "<a rel=\"license\" href=\"http://creativecommons.org/licenses/by-nc/4.0/\"><img alt=\"Creative Commons License\" style=\"border-width:0\" src=\"https://i.creativecommons.org/l/by-nc/4.0/88x31.png\" /></a><br />This work is licensed under a <a rel=\"license\" href=\"http://creativecommons.org/licenses/by-nc/4.0/\">Creative Commons Attribution-NonCommercial 4.0 International License</a>."
      ]
    }
  ]
}